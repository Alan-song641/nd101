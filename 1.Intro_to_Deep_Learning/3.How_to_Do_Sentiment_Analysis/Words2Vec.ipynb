{
 "cells": [
  {
   "cell_type": "markdown",
   "metadata": {},
   "source": [
    "# 神经网络实践之情感分类\n",
    "最近报名了Udacity的深度学习基石，这是第二周的课程，主要是介绍了运用神经网络进行情感分类，课程中是对英文进行了分类，我这边改为了中文。\n",
    "首先是中文切词，使用的是结巴。\n",
    "本文notebook地址是：https://github.com/zhuanxuhit/nd101/blob/master/1.Intro_to_Deep_Learning/3.How_to_Do_Sentiment_Analysis/Words2Vec.ipynb"
   ]
  },
  {
   "cell_type": "code",
   "execution_count": 116,
   "metadata": {
    "collapsed": false
   },
   "outputs": [
    {
     "name": "stdout",
     "output_type": "stream",
     "text": [
      "使用/ 结巴/ 来/ 对/ 中文/ 进行/ 分词\n"
     ]
    }
   ],
   "source": [
    "import jieba\n",
    "\n",
    "seg = \"使用结巴来对中文进行分词\"\n",
    "seg_list = jieba.cut(seg)\n",
    "print(\"/ \".join(seg_list)"
   ]
  },
  {
   "cell_type": "markdown",
   "metadata": {},
   "source": [
    "## 1. 拿什么来做情感分类的依据\n",
    "我们的一个思路是分别统计在 positive 和 negative 中词出现的次数，然后理论上应该某些词在 positive 和 negative 中出现的此处应该是有倾向的，下面来验证下吧"
   ]
  },
  {
   "cell_type": "code",
   "execution_count": 266,
   "metadata": {
    "collapsed": false
   },
   "outputs": [],
   "source": [
    "import pandas as pd\n",
    "neg=pd.read_excel('data/neg.xls',header=None,index=None)\n",
    "pos=pd.read_excel('data/pos.xls',header=None,index=None)"
   ]
  },
  {
   "cell_type": "code",
   "execution_count": 90,
   "metadata": {
    "collapsed": false
   },
   "outputs": [
    {
     "data": {
      "text/html": [
       "<div>\n",
       "<table border=\"1\" class=\"dataframe\">\n",
       "  <thead>\n",
       "    <tr style=\"text-align: right;\">\n",
       "      <th></th>\n",
       "      <th>0</th>\n",
       "    </tr>\n",
       "  </thead>\n",
       "  <tbody>\n",
       "    <tr>\n",
       "      <th>0</th>\n",
       "      <td>做为一本声名在外的流行书，说的还是广州的外企，按道理应该和我的生存环境差不多啊。但是一看之下...</td>\n",
       "    </tr>\n",
       "    <tr>\n",
       "      <th>1</th>\n",
       "      <td>作者有明显的自恋倾向，只有有老公养不上班的太太们才能像她那样生活。很多方法都不实用，还有抄袭...</td>\n",
       "    </tr>\n",
       "    <tr>\n",
       "      <th>2</th>\n",
       "      <td>作者完全是以一个过来的自认为是成功者的角度去写这个问题，感觉很不客观。虽然不是很喜欢，但是，...</td>\n",
       "    </tr>\n",
       "    <tr>\n",
       "      <th>3</th>\n",
       "      <td>作者提倡内调，不信任化妆品，这点赞同。但是所列举的方法太麻烦，配料也不好找。不是太实用。</td>\n",
       "    </tr>\n",
       "    <tr>\n",
       "      <th>4</th>\n",
       "      <td>作者的文笔一般，观点也是和市面上的同类书大同小异，不推荐读者购买。</td>\n",
       "    </tr>\n",
       "  </tbody>\n",
       "</table>\n",
       "</div>"
      ],
      "text/plain": [
       "                                                   0\n",
       "0  做为一本声名在外的流行书，说的还是广州的外企，按道理应该和我的生存环境差不多啊。但是一看之下...\n",
       "1  作者有明显的自恋倾向，只有有老公养不上班的太太们才能像她那样生活。很多方法都不实用，还有抄袭...\n",
       "2  作者完全是以一个过来的自认为是成功者的角度去写这个问题，感觉很不客观。虽然不是很喜欢，但是，...\n",
       "3       作者提倡内调，不信任化妆品，这点赞同。但是所列举的方法太麻烦，配料也不好找。不是太实用。\n",
       "4                  作者的文笔一般，观点也是和市面上的同类书大同小异，不推荐读者购买。"
      ]
     },
     "execution_count": 90,
     "metadata": {},
     "output_type": "execute_result"
    }
   ],
   "source": [
    "neg.head()"
   ]
  },
  {
   "cell_type": "code",
   "execution_count": 91,
   "metadata": {
    "collapsed": false
   },
   "outputs": [
    {
     "data": {
      "text/html": [
       "<div>\n",
       "<table border=\"1\" class=\"dataframe\">\n",
       "  <thead>\n",
       "    <tr style=\"text-align: right;\">\n",
       "      <th></th>\n",
       "      <th>0</th>\n",
       "    </tr>\n",
       "  </thead>\n",
       "  <tbody>\n",
       "    <tr>\n",
       "      <th>0</th>\n",
       "      <td>做父母一定要有刘墉这样的心态，不断地学习，不断地进步，不断地给自己补充新鲜血液，让自己保持一...</td>\n",
       "    </tr>\n",
       "    <tr>\n",
       "      <th>1</th>\n",
       "      <td>作者真有英国人严谨的风格，提出观点、进行论述论证，尽管本人对物理学了解不深，但是仍然能感受到...</td>\n",
       "    </tr>\n",
       "    <tr>\n",
       "      <th>2</th>\n",
       "      <td>作者长篇大论借用详细报告数据处理工作和计算结果支持其新观点。为什么荷兰曾经县有欧洲最高的生产...</td>\n",
       "    </tr>\n",
       "    <tr>\n",
       "      <th>3</th>\n",
       "      <td>作者在战几时之前用了＂拥抱＂令人叫绝．日本如果没有战败，就有会有美军的占领，没胡官僚主义的延...</td>\n",
       "    </tr>\n",
       "    <tr>\n",
       "      <th>4</th>\n",
       "      <td>作者在少年时即喜阅读，能看出他精读了无数经典，因而他有一个庞大的内心世界。他的作品最难能可贵...</td>\n",
       "    </tr>\n",
       "  </tbody>\n",
       "</table>\n",
       "</div>"
      ],
      "text/plain": [
       "                                                   0\n",
       "0  做父母一定要有刘墉这样的心态，不断地学习，不断地进步，不断地给自己补充新鲜血液，让自己保持一...\n",
       "1  作者真有英国人严谨的风格，提出观点、进行论述论证，尽管本人对物理学了解不深，但是仍然能感受到...\n",
       "2  作者长篇大论借用详细报告数据处理工作和计算结果支持其新观点。为什么荷兰曾经县有欧洲最高的生产...\n",
       "3  作者在战几时之前用了＂拥抱＂令人叫绝．日本如果没有战败，就有会有美军的占领，没胡官僚主义的延...\n",
       "4  作者在少年时即喜阅读，能看出他精读了无数经典，因而他有一个庞大的内心世界。他的作品最难能可贵..."
      ]
     },
     "execution_count": 91,
     "metadata": {},
     "output_type": "execute_result"
    }
   ],
   "source": [
    "pos.head()"
   ]
  },
  {
   "cell_type": "code",
   "execution_count": 92,
   "metadata": {
    "collapsed": true
   },
   "outputs": [],
   "source": [
    "pos['mark']=1\n",
    "neg['mark']=0 #给训练语料贴上标签\n",
    "pn=pd.concat([pos,neg],ignore_index=True) #合并语料\n",
    "neglen=len(neg)\n",
    "poslen=len(pos) #计算语料数目"
   ]
  },
  {
   "cell_type": "code",
   "execution_count": 94,
   "metadata": {
    "collapsed": true
   },
   "outputs": [],
   "source": [
    "cw = lambda x: list(jieba.cut(x)) #定义分词函数\n",
    "pn['words'] = pn[0].apply(cw)"
   ]
  },
  {
   "cell_type": "code",
   "execution_count": 283,
   "metadata": {
    "collapsed": false
   },
   "outputs": [],
   "source": [
    "# 随机下\n",
    "pn = pn.reindex(np.random.permutation(pn.index))"
   ]
  },
  {
   "cell_type": "code",
   "execution_count": 284,
   "metadata": {
    "collapsed": false
   },
   "outputs": [
    {
     "data": {
      "text/html": [
       "<div>\n",
       "<table border=\"1\" class=\"dataframe\">\n",
       "  <thead>\n",
       "    <tr style=\"text-align: right;\">\n",
       "      <th></th>\n",
       "      <th>0</th>\n",
       "      <th>mark</th>\n",
       "      <th>words</th>\n",
       "    </tr>\n",
       "  </thead>\n",
       "  <tbody>\n",
       "    <tr>\n",
       "      <th>5753</th>\n",
       "      <td>晚上航班晚点。22点以后酒店不提供，要去接机需要付费。预定的房间没有了。酒店给升级到了套间。...</td>\n",
       "      <td>1</td>\n",
       "      <td>[晚上, 航班, 晚点, 。, 22, 点, 以后, 酒店, 不, 提供, ，, 要, 去,...</td>\n",
       "    </tr>\n",
       "    <tr>\n",
       "      <th>2931</th>\n",
       "      <td>说起来，波特死而复活的那段很象圣斗士们，一被打倒，就迷迷糊糊地想起了女神，或是什么美好的回忆...</td>\n",
       "      <td>1</td>\n",
       "      <td>[说, 起来, ，, 波特, 死而复活, 的, 那段, 很, 象, 圣斗士, 们, ，, 一...</td>\n",
       "    </tr>\n",
       "    <tr>\n",
       "      <th>18269</th>\n",
       "      <td>vista系统不太习惯学习中，感觉键盘有的键比较松散轻轻一碰有点哗啦儿哗啦儿的响声，也可能太...</td>\n",
       "      <td>0</td>\n",
       "      <td>[vista, 系统, 不太, 习惯, 学习, 中, ，, 感觉, 键盘, 有, 的, 键,...</td>\n",
       "    </tr>\n",
       "    <tr>\n",
       "      <th>16653</th>\n",
       "      <td>酒店比较老旧,早餐种类很少,房间也比较老旧,没什么特色,而且餐饮已承包出去,与酒店财务分开不...</td>\n",
       "      <td>0</td>\n",
       "      <td>[酒店, 比较, 老旧, ,, 早餐, 种类, 很少, ,, 房间, 也, 比较, 老旧, ...</td>\n",
       "    </tr>\n",
       "    <tr>\n",
       "      <th>20334</th>\n",
       "      <td>这个机器待机时间超短~~也就可以用10个小时`可以接几个电话~~你说这个是电话吗~</td>\n",
       "      <td>0</td>\n",
       "      <td>[这个, 机器, 待机时间, 超短, ~, ~, 也, 就, 可以, 用, 10, 个, 小...</td>\n",
       "    </tr>\n",
       "  </tbody>\n",
       "</table>\n",
       "</div>"
      ],
      "text/plain": [
       "                                                       0  mark  \\\n",
       "5753   晚上航班晚点。22点以后酒店不提供，要去接机需要付费。预定的房间没有了。酒店给升级到了套间。...     1   \n",
       "2931   说起来，波特死而复活的那段很象圣斗士们，一被打倒，就迷迷糊糊地想起了女神，或是什么美好的回忆...     1   \n",
       "18269  vista系统不太习惯学习中，感觉键盘有的键比较松散轻轻一碰有点哗啦儿哗啦儿的响声，也可能太...     0   \n",
       "16653  酒店比较老旧,早餐种类很少,房间也比较老旧,没什么特色,而且餐饮已承包出去,与酒店财务分开不...     0   \n",
       "20334          这个机器待机时间超短~~也就可以用10个小时`可以接几个电话~~你说这个是电话吗~     0   \n",
       "\n",
       "                                                   words  \n",
       "5753   [晚上, 航班, 晚点, 。, 22, 点, 以后, 酒店, 不, 提供, ，, 要, 去,...  \n",
       "2931   [说, 起来, ，, 波特, 死而复活, 的, 那段, 很, 象, 圣斗士, 们, ，, 一...  \n",
       "18269  [vista, 系统, 不太, 习惯, 学习, 中, ，, 感觉, 键盘, 有, 的, 键,...  \n",
       "16653  [酒店, 比较, 老旧, ,, 早餐, 种类, 很少, ,, 房间, 也, 比较, 老旧, ...  \n",
       "20334  [这个, 机器, 待机时间, 超短, ~, ~, 也, 就, 可以, 用, 10, 个, 小...  "
      ]
     },
     "execution_count": 284,
     "metadata": {},
     "output_type": "execute_result"
    }
   ],
   "source": [
    "pn.head()"
   ]
  },
  {
   "cell_type": "code",
   "execution_count": 200,
   "metadata": {
    "collapsed": true
   },
   "outputs": [],
   "source": [
    "from collections import Counter\n",
    "import numpy as np\n",
    "\n",
    "positive_counts = Counter()\n",
    "negative_counts = Counter()\n",
    "total_counts = Counter()"
   ]
  },
  {
   "cell_type": "code",
   "execution_count": 285,
   "metadata": {
    "collapsed": false
   },
   "outputs": [
    {
     "data": {
      "text/plain": [
       "21105"
      ]
     },
     "execution_count": 285,
     "metadata": {},
     "output_type": "execute_result"
    }
   ],
   "source": [
    "len(pn['words'])"
   ]
  },
  {
   "cell_type": "code",
   "execution_count": 401,
   "metadata": {
    "collapsed": false
   },
   "outputs": [
    {
     "data": {
      "text/plain": [
       "['作者', '真有', '英国人', '严谨', '的', '风格', '，', '提出', '观点', '、']"
      ]
     },
     "execution_count": 401,
     "metadata": {},
     "output_type": "execute_result"
    }
   ],
   "source": [
    "pn['words'][1][:10]"
   ]
  },
  {
   "cell_type": "code",
   "execution_count": 287,
   "metadata": {
    "collapsed": false
   },
   "outputs": [
    {
     "data": {
      "text/plain": [
       "1"
      ]
     },
     "execution_count": 287,
     "metadata": {},
     "output_type": "execute_result"
    }
   ],
   "source": [
    "pn['mark'][1]"
   ]
  },
  {
   "cell_type": "markdown",
   "metadata": {},
   "source": [
    "我们先开始统计每个词的出现次数"
   ]
  },
  {
   "cell_type": "code",
   "execution_count": 272,
   "metadata": {
    "collapsed": false
   },
   "outputs": [],
   "source": [
    "for i in range(len(pn['words'])):\n",
    "    if pn['mark'][i] == 1:\n",
    "        for word in pn['words'][i]:\n",
    "            positive_counts[word] += 1\n",
    "            total_counts[word] += 1\n",
    "    else:\n",
    "        for word in pn['words'][i]:\n",
    "            negative_counts[word] += 1\n",
    "            total_counts[word] += 1"
   ]
  },
  {
   "cell_type": "code",
   "execution_count": 402,
   "metadata": {
    "collapsed": false
   },
   "outputs": [
    {
     "data": {
      "text/plain": [
       "[('，', 63862),\n",
       " ('的', 48811),\n",
       " ('。', 25667),\n",
       " ('了', 14110),\n",
       " ('是', 10775),\n",
       " ('我', 9578),\n",
       " ('很', 8270),\n",
       " (',', 6682),\n",
       " (' ', 6354),\n",
       " ('也', 6307)]"
      ]
     },
     "execution_count": 402,
     "metadata": {},
     "output_type": "execute_result"
    }
   ],
   "source": [
    "positive_counts.most_common(10)"
   ]
  },
  {
   "cell_type": "code",
   "execution_count": 403,
   "metadata": {
    "collapsed": false
   },
   "outputs": [
    {
     "data": {
      "text/plain": [
       "[('，', 42831),\n",
       " ('的', 28859),\n",
       " ('。', 16847),\n",
       " ('了', 13476),\n",
       " (',', 8462),\n",
       " ('是', 7994),\n",
       " ('我', 7841),\n",
       " (' ', 7528),\n",
       " ('！', 7084),\n",
       " ('不', 5821)]"
      ]
     },
     "execution_count": 403,
     "metadata": {},
     "output_type": "execute_result"
    }
   ],
   "source": [
    "negative_counts.most_common(10)"
   ]
  },
  {
   "cell_type": "code",
   "execution_count": 292,
   "metadata": {
    "collapsed": true
   },
   "outputs": [],
   "source": [
    "pos_neg_ratios = Counter()\n",
    "for term,cnt in list(total_counts.most_common()):\n",
    "    if(cnt > 100):\n",
    "        pos_neg_ratio = positive_counts[term] / float(negative_counts[term]+1)\n",
    "        pos_neg_ratios[term] = pos_neg_ratio\n"
   ]
  },
  {
   "cell_type": "code",
   "execution_count": 293,
   "metadata": {
    "collapsed": false
   },
   "outputs": [
    {
     "data": {
      "text/plain": [
       "[('爱玲', 1.9428571428571428),\n",
       " ('篡改', 1.9473684210526316),\n",
       " ('吹捧', 1.9487179487179487),\n",
       " ('于丹', 1.9523809523809523),\n",
       " ('恶劣', 1.9545454545454546),\n",
       " ('切糕', 1.9666666666666666),\n",
       " ('日货', 2.0217391304347827),\n",
       " ('旅馆', 2.022222222222222),\n",
       " ('倒闭', 2.025),\n",
       " ('再也不会', 2.026315789473684),\n",
       " ('太烂', 2.0285714285714285),\n",
       " ('上当', 2.0285714285714285),\n",
       " ('工作日', 2.0294117647058822),\n",
       " ('丹', 2.0412371134020617),\n",
       " ('胡兰成', 2.0689655172413794),\n",
       " ('炒作', 2.075268817204301),\n",
       " ('无耻', 2.0754716981132075),\n",
       " ('不买', 2.099378881987578),\n",
       " ('求己', 2.1025641025641026),\n",
       " ('无良', 2.1052631578947367),\n",
       " ('畅销书', 2.121212121212121),\n",
       " ('最差', 2.122137404580153),\n",
       " ('骗', 2.14),\n",
       " ('要命', 2.1458333333333335),\n",
       " ('烂', 2.1515151515151514),\n",
       " ('抵制', 2.1634980988593155),\n",
       " ('毕淑敏', 2.1666666666666665),\n",
       " ('看不下去', 2.1666666666666665),\n",
       " ('师', 2.1911764705882355),\n",
       " ('退货', 2.191919191919192)]"
      ]
     },
     "execution_count": 293,
     "metadata": {},
     "output_type": "execute_result"
    }
   ],
   "source": [
    "list(reversed(pos_neg_ratios.most_common()))[0:30]"
   ]
  },
  {
   "cell_type": "code",
   "execution_count": 296,
   "metadata": {
    "collapsed": true
   },
   "outputs": [],
   "source": [
    "for word,ratio in pos_neg_ratios.most_common():\n",
    "    if(ratio > 1):\n",
    "        pos_neg_ratios[word] = np.log(ratio)\n",
    "    else:\n",
    "        pos_neg_ratios[word] = -np.log((1 / (ratio+0.01)))"
   ]
  },
  {
   "cell_type": "code",
   "execution_count": 404,
   "metadata": {
    "collapsed": false
   },
   "outputs": [
    {
     "data": {
      "text/plain": [
       "[('结局', 3.7954891891721947),\n",
       " ('成长', 3.0002674287193822),\n",
       " ('快乐', 2.968080742223481),\n",
       " ('世界', 2.5416019934645457),\n",
       " ('幸福', 2.5403579543242145),\n",
       " ('感谢', 2.2894558015522528),\n",
       " ('很漂亮', 2.256541154492639),\n",
       " ('漂亮', 2.0762312660495876),\n",
       " ('人生', 2.044102175234527),\n",
       " ('感动', 2.0074680420547466)]"
      ]
     },
     "execution_count": 404,
     "metadata": {},
     "output_type": "execute_result"
    }
   ],
   "source": [
    "pos_neg_ratios.most_common(10)"
   ]
  },
  {
   "cell_type": "markdown",
   "metadata": {},
   "source": [
    "我们会发现一些一些词：好，不错，喜欢等带有感情色彩的词"
   ]
  },
  {
   "cell_type": "code",
   "execution_count": 405,
   "metadata": {
    "collapsed": false
   },
   "outputs": [
    {
     "data": {
      "text/plain": [
       "[('抵制', -2.7025520357679857),\n",
       " ('死机', -2.5163389039584163),\n",
       " ('很差', -2.286055791042835),\n",
       " ('垃圾', -2.1947851588250678),\n",
       " ('失望', -1.7210375431333034),\n",
       " ('差', -1.7188899346366118),\n",
       " ('页', -1.6315365868037763),\n",
       " ('郁闷', -1.5735428334599848),\n",
       " ('根本', -1.5365211256505318),\n",
       " ('后悔', -1.5336737595318182)]"
      ]
     },
     "execution_count": 405,
     "metadata": {},
     "output_type": "execute_result"
    }
   ],
   "source": [
    "list(reversed(pos_neg_ratios.most_common()))[0:10]"
   ]
  },
  {
   "cell_type": "markdown",
   "metadata": {},
   "source": [
    "我们现在有了个大致的判断，对于标注为 positive 和 negative 的其评论其评论切词后是会有写写不同，一些词在正评论中出现的评论会比负评论中多"
   ]
  },
  {
   "cell_type": "code",
   "execution_count": 299,
   "metadata": {
    "collapsed": false
   },
   "outputs": [
    {
     "name": "stdout",
     "output_type": "stream",
     "text": [
      "50884\n"
     ]
    }
   ],
   "source": [
    "vocab = set(total_counts.keys())\n",
    "vocab_size = len(vocab)\n",
    "print(vocab_size)"
   ]
  },
  {
   "cell_type": "markdown",
   "metadata": {},
   "source": [
    "## 对词进行编号\n",
    "现在我们思路是直接对存在的50884个分词进行排号，即一个1*50884的向量，然后对于每段话都可以用一个1*50884的向量表示了"
   ]
  },
  {
   "cell_type": "code",
   "execution_count": 208,
   "metadata": {
    "collapsed": true
   },
   "outputs": [],
   "source": [
    "layer_0 = np.zeros((1,vocab_size))"
   ]
  },
  {
   "cell_type": "code",
   "execution_count": 406,
   "metadata": {
    "collapsed": false
   },
   "outputs": [],
   "source": [
    "word2index = {}\n",
    "\n",
    "for i,word in enumerate(vocab):\n",
    "    word2index[word] = i\n",
    "# word2index"
   ]
  },
  {
   "cell_type": "code",
   "execution_count": 210,
   "metadata": {
    "collapsed": false
   },
   "outputs": [
    {
     "data": {
      "text/plain": [
       "array([[ 0.,  0.,  0., ...,  0.,  0.,  0.]])"
      ]
     },
     "execution_count": 210,
     "metadata": {},
     "output_type": "execute_result"
    }
   ],
   "source": [
    "def update_input_layer(reviews):\n",
    "    \n",
    "    global layer_0\n",
    "    \n",
    "    # clear out previous state, reset the layer to be all 0s\n",
    "    layer_0 *= 0\n",
    "    for word in reviews:\n",
    "        layer_0[0][word2index[word]] += 1\n",
    "\n",
    "update_input_layer(pn['words'][5])\n",
    "layer_0"
   ]
  },
  {
   "cell_type": "markdown",
   "metadata": {},
   "source": [
    "下一步我们就是要构建神经网络了，简单神经网络的构建可以参见[如何构建一个简单的神经网络](http://www.jianshu.com/p/15db29e72719)"
   ]
  },
  {
   "cell_type": "code",
   "execution_count": 211,
   "metadata": {
    "collapsed": true
   },
   "outputs": [],
   "source": [
    "import time\n",
    "import sys\n",
    "import numpy as np\n",
    "\n",
    "# Let's tweak our network from before to model these phenomena\n",
    "class SentimentNetwork:\n",
    "    def __init__(self, reviews,labels,hidden_nodes = 10, learning_rate = 0.1):\n",
    "       \n",
    "        # set our random number generator \n",
    "#         np.random.seed(1)\n",
    "    \n",
    "        self.pre_process_data(reviews, labels)\n",
    "        \n",
    "        self.init_network(len(self.review_vocab),hidden_nodes, 1, learning_rate)\n",
    "        \n",
    "        \n",
    "    def pre_process_data(self, reviews, labels):\n",
    "        \n",
    "        review_vocab = set()\n",
    "        for review in reviews:\n",
    "            for word in review:\n",
    "                review_vocab.add(word)\n",
    "        self.review_vocab = list(review_vocab)\n",
    "        \n",
    "#         label_vocab = set()\n",
    "#         for label in labels:\n",
    "#             label_vocab.add(label)\n",
    "        \n",
    "#         self.label_vocab = list(label_vocab)\n",
    "        \n",
    "        self.review_vocab_size = len(self.review_vocab)\n",
    "#         self.label_vocab_size = len(self.label_vocab)\n",
    "        \n",
    "        self.word2index = {}\n",
    "        for i, word in enumerate(self.review_vocab):\n",
    "            self.word2index[word] = i\n",
    "        \n",
    "#         self.label2index = {}\n",
    "#         for i, label in enumerate(self.label_vocab):\n",
    "#             self.label2index[label] = i\n",
    "         \n",
    "        \n",
    "    def init_network(self, input_nodes, hidden_nodes, output_nodes, learning_rate):\n",
    "        # Set number of nodes in input, hidden and output layers.\n",
    "        self.input_nodes = input_nodes\n",
    "        self.hidden_nodes = hidden_nodes\n",
    "        self.output_nodes = output_nodes\n",
    "\n",
    "        # Initialize weights\n",
    "        self.weights_0_1 = np.zeros((self.hidden_nodes,self.input_nodes))\n",
    "    \n",
    "        self.weights_1_2 = np.random.normal(0.0, self.output_nodes**-0.5, \n",
    "                                                (self.output_nodes, self.hidden_nodes))\n",
    "        \n",
    "        self.learning_rate = learning_rate\n",
    "        \n",
    "        self.layer_0 = np.zeros((input_nodes,1))\n",
    "    \n",
    "        \n",
    "    def update_input_layer(self,review):\n",
    "\n",
    "        # clear out previous state, reset the layer to be all 0s\n",
    "        self.layer_0 *= 0\n",
    "        for word in review:\n",
    "            if(word in self.word2index.keys()):\n",
    "                self.layer_0[self.word2index[word]][0] += 1\n",
    "                \n",
    "#     def get_target_for_label(self,label):\n",
    "#         if(label == 'POSITIVE'):\n",
    "#             return 1\n",
    "#         else:\n",
    "#             return 0\n",
    "        \n",
    "    def sigmoid(self,x):\n",
    "        return 1 / (1 + np.exp(-x))\n",
    "    \n",
    "    \n",
    "    def sigmoid_output_2_derivative(self,output):\n",
    "        return output * (1 - output)\n",
    "    \n",
    "    def train(self, training_reviews, training_labels):\n",
    "        \n",
    "        assert(len(training_reviews) == len(training_labels))\n",
    "        \n",
    "        correct_so_far = 0\n",
    "        \n",
    "        start = time.time()\n",
    "        \n",
    "        for i in range(len(training_reviews)):\n",
    "            \n",
    "            review = training_reviews[i]\n",
    "            label = training_labels[i]\n",
    "            \n",
    "            #### Implement the forward pass here ####\n",
    "            ### Forward pass ###\n",
    "\n",
    "            # Input Layer\n",
    "            self.update_input_layer(review)\n",
    "            layer_0 = self.layer_0\n",
    "            # Hidden layer\n",
    "            layer_1 = self.weights_0_1.dot(self.layer_0)\n",
    "\n",
    "            # Output layer\n",
    "            layer_2 = self.sigmoid(self.weights_1_2.dot(layer_1))\n",
    "\n",
    "            #### Implement the backward pass here ####\n",
    "            ### Backward pass ###\n",
    "\n",
    "            # TODO: Output error\n",
    "            layer_2_error = layer_2 - label # Output layer error is the difference between desired target and actual output.\n",
    "            layer_2_delta = layer_2_error * self.sigmoid_output_2_derivative(layer_2)\n",
    "\n",
    "            # TODO: Backpropagated error\n",
    "            layer_1_error = self.weights_1_2.T.dot(layer_2_delta) # errors propagated to the hidden layer\n",
    "            layer_1_delta = layer_1_error # hidden layer gradients - no nonlinearity so it's the same as the error\n",
    "\n",
    "            # TODO: Update the weights\n",
    "            self.weights_1_2 -= layer_2_delta.dot(layer_1.T) * self.learning_rate # update hidden-to-output weights with gradient descent step\n",
    "            self.weights_0_1 -= layer_1_delta.dot(layer_0.T) * self.learning_rate # update input-to-hidden weights with gradient descent step\n",
    "\n",
    "            if(np.abs(layer_2_error) < 0.5):\n",
    "                correct_so_far += 1\n",
    "            \n",
    "            reviews_per_second = i / float(time.time() - start)\n",
    "            \n",
    "            sys.stdout.write(\"\\rProgress:\" + __builtins__.str(100 * i/float(len(training_reviews)))[:4] + \"% Speed(reviews/sec):\" + __builtins__.str(reviews_per_second)[0:5] + \" #Correct:\" + __builtins__.str(correct_so_far) + \" #Trained:\" + __builtins__.str(i+1) + \" Training Accuracy:\" + __builtins__.str(correct_so_far * 100 / float(i+1))[:4] + \"%\")\n",
    "            if(i % 2500 == 0):\n",
    "                print(\"\")\n",
    "    \n",
    "    def test(self, testing_reviews, testing_labels):\n",
    "        \n",
    "        correct = 0\n",
    "        \n",
    "        start = time.time()\n",
    "        \n",
    "        for i in range(len(testing_reviews)):\n",
    "            pred = self.run(testing_reviews[i])\n",
    "            if(pred == testing_labels[i]):\n",
    "                correct += 1\n",
    "            \n",
    "            reviews_per_second = i / float(time.time() - start)\n",
    "            \n",
    "            sys.stdout.write(\"\\rProgress:\" + __builtins__.str(100 * i/float(len(testing_reviews)))[:4] \\\n",
    "                             + \"% Speed(reviews/sec):\" + __builtins__.str(reviews_per_second)[0:5] \\\n",
    "                            + \"% #Correct:\" + __builtins__.str(correct) + \" #Tested:\" + __builtins__.str(i+1) + \" Testing Accuracy:\" + __builtins__.str(correct * 100 / float(i+1))[:4] + \"%\")\n",
    "            \n",
    "    def run(self, review):\n",
    "        \n",
    "        # Input Layer\n",
    "#         print(review)\n",
    "        self.update_input_layer(review)\n",
    "#         print(self.layer_0.shape)\n",
    "#         print(self.weights_0_1.shape)\n",
    "#         print(np.dot(self.weights_0_1,self.layer_0))\n",
    "        # Hidden layer\n",
    "        layer_1 = self.weights_0_1.dot(self.layer_0)\n",
    "\n",
    "        # Output layer\n",
    "        layer_2 = self.sigmoid(self.weights_1_2.dot(layer_1))\n",
    "#         print(layer_2) # 发现一只0.5呢\n",
    "        if(layer_2[0] > 0.5):\n",
    "            return 1\n",
    "        else:\n",
    "            return 0"
   ]
  },
  {
   "cell_type": "code",
   "execution_count": 218,
   "metadata": {
    "collapsed": false
   },
   "outputs": [],
   "source": [
    "reviews = pn['words'].values\n",
    "labels = pn['mark'].values"
   ]
  },
  {
   "cell_type": "code",
   "execution_count": 223,
   "metadata": {
    "collapsed": false
   },
   "outputs": [],
   "source": [
    "# 除最后1000个外的数据训练\n",
    "mlp = SentimentNetwork(reviews[:-1000],labels[:-1000], learning_rate=0.1)"
   ]
  },
  {
   "cell_type": "code",
   "execution_count": 224,
   "metadata": {
    "collapsed": false
   },
   "outputs": [
    {
     "name": "stdout",
     "output_type": "stream",
     "text": [
      "Progress:0.0% Speed(reviews/sec):0.0 #Correct:0 #Trained:1 Training Accuracy:0.0%\n",
      "Progress:12.4% Speed(reviews/sec):177.3 #Correct:1499 #Trained:2501 Training Accuracy:59.9%\n",
      "Progress:24.8% Speed(reviews/sec):169.9 #Correct:3315 #Trained:5001 Training Accuracy:66.2%\n",
      "Progress:29.6% Speed(reviews/sec):165.2 #Correct:4052 #Trained:5960 Training Accuracy:67.9%"
     ]
    },
    {
     "ename": "KeyboardInterrupt",
     "evalue": "",
     "output_type": "error",
     "traceback": [
      "\u001b[0;31m---------------------------------------------------------------------------\u001b[0m",
      "\u001b[0;31mKeyboardInterrupt\u001b[0m                         Traceback (most recent call last)",
      "\u001b[0;32m<ipython-input-224-2db8cecc49e0>\u001b[0m in \u001b[0;36m<module>\u001b[0;34m()\u001b[0m\n\u001b[1;32m      1\u001b[0m \u001b[0;31m# train the network\u001b[0m\u001b[0;34m\u001b[0m\u001b[0;34m\u001b[0m\u001b[0m\n\u001b[1;32m      2\u001b[0m \u001b[0;31m# print(len(reviews),len(labels))\u001b[0m\u001b[0;34m\u001b[0m\u001b[0;34m\u001b[0m\u001b[0m\n\u001b[0;32m----> 3\u001b[0;31m \u001b[0mmlp\u001b[0m\u001b[0;34m.\u001b[0m\u001b[0mtrain\u001b[0m\u001b[0;34m(\u001b[0m\u001b[0mreviews\u001b[0m\u001b[0;34m[\u001b[0m\u001b[0;34m:\u001b[0m\u001b[0;34m-\u001b[0m\u001b[0;36m1000\u001b[0m\u001b[0;34m]\u001b[0m\u001b[0;34m,\u001b[0m\u001b[0mlabels\u001b[0m\u001b[0;34m[\u001b[0m\u001b[0;34m:\u001b[0m\u001b[0;34m-\u001b[0m\u001b[0;36m1000\u001b[0m\u001b[0;34m]\u001b[0m\u001b[0;34m)\u001b[0m\u001b[0;34m\u001b[0m\u001b[0m\n\u001b[0m",
      "\u001b[0;32m<ipython-input-211-d67a17005419>\u001b[0m in \u001b[0;36mtrain\u001b[0;34m(self, training_reviews, training_labels)\u001b[0m\n\u001b[1;32m    117\u001b[0m             \u001b[0;31m# TODO: Update the weights\u001b[0m\u001b[0;34m\u001b[0m\u001b[0;34m\u001b[0m\u001b[0m\n\u001b[1;32m    118\u001b[0m             \u001b[0mself\u001b[0m\u001b[0;34m.\u001b[0m\u001b[0mweights_1_2\u001b[0m \u001b[0;34m-=\u001b[0m \u001b[0mlayer_2_delta\u001b[0m\u001b[0;34m.\u001b[0m\u001b[0mdot\u001b[0m\u001b[0;34m(\u001b[0m\u001b[0mlayer_1\u001b[0m\u001b[0;34m.\u001b[0m\u001b[0mT\u001b[0m\u001b[0;34m)\u001b[0m \u001b[0;34m*\u001b[0m \u001b[0mself\u001b[0m\u001b[0;34m.\u001b[0m\u001b[0mlearning_rate\u001b[0m \u001b[0;31m# update hidden-to-output weights with gradient descent step\u001b[0m\u001b[0;34m\u001b[0m\u001b[0m\n\u001b[0;32m--> 119\u001b[0;31m             \u001b[0mself\u001b[0m\u001b[0;34m.\u001b[0m\u001b[0mweights_0_1\u001b[0m \u001b[0;34m-=\u001b[0m \u001b[0mlayer_1_delta\u001b[0m\u001b[0;34m.\u001b[0m\u001b[0mdot\u001b[0m\u001b[0;34m(\u001b[0m\u001b[0mlayer_0\u001b[0m\u001b[0;34m.\u001b[0m\u001b[0mT\u001b[0m\u001b[0;34m)\u001b[0m \u001b[0;34m*\u001b[0m \u001b[0mself\u001b[0m\u001b[0;34m.\u001b[0m\u001b[0mlearning_rate\u001b[0m \u001b[0;31m# update input-to-hidden weights with gradient descent step\u001b[0m\u001b[0;34m\u001b[0m\u001b[0m\n\u001b[0m\u001b[1;32m    120\u001b[0m \u001b[0;34m\u001b[0m\u001b[0m\n\u001b[1;32m    121\u001b[0m             \u001b[0;32mif\u001b[0m\u001b[0;34m(\u001b[0m\u001b[0mnp\u001b[0m\u001b[0;34m.\u001b[0m\u001b[0mabs\u001b[0m\u001b[0;34m(\u001b[0m\u001b[0mlayer_2_error\u001b[0m\u001b[0;34m)\u001b[0m \u001b[0;34m<\u001b[0m \u001b[0;36m0.5\u001b[0m\u001b[0;34m)\u001b[0m\u001b[0;34m:\u001b[0m\u001b[0;34m\u001b[0m\u001b[0m\n",
      "\u001b[0;31mKeyboardInterrupt\u001b[0m: "
     ]
    }
   ],
   "source": [
    "# train the network\n",
    "# print(len(reviews),len(labels))\n",
    "mlp.train(reviews[:-1000],labels[:-1000])"
   ]
  },
  {
   "cell_type": "markdown",
   "metadata": {},
   "source": [
    "上面的一个问题是执行太慢了，而且准确率不是很高，为什么呢？\n",
    "我们来分析下，到底是什么导致的？"
   ]
  },
  {
   "cell_type": "code",
   "execution_count": 407,
   "metadata": {
    "collapsed": false
   },
   "outputs": [
    {
     "data": {
      "text/plain": [
       "[('，', 9),\n",
       " ('。', 5),\n",
       " ('功能', 2),\n",
       " ('手机', 2),\n",
       " ('内存', 2),\n",
       " ('的', 2),\n",
       " ('用', 2),\n",
       " ('可', 2),\n",
       " ('都', 2),\n",
       " ('了', 2)]"
      ]
     },
     "execution_count": 407,
     "metadata": {},
     "output_type": "execute_result"
    }
   ],
   "source": [
    "review_counter = Counter()\n",
    "for word in reviews[0]:\n",
    "    review_counter[word] += 1\n",
    "review_counter.most_common(10)    "
   ]
  },
  {
   "cell_type": "markdown",
   "metadata": {},
   "source": [
    "我们可以看到最多的竟然是.,'。'等好多无关的所以一个优化方法就是只记录出现的1，不记录次数，于是有下面的代码："
   ]
  },
  {
   "cell_type": "code",
   "execution_count": 226,
   "metadata": {
    "collapsed": true
   },
   "outputs": [],
   "source": [
    "import time\n",
    "import sys\n",
    "import numpy as np\n",
    "\n",
    "# Let's tweak our network from before to model these phenomena\n",
    "class SentimentNetwork:\n",
    "    def __init__(self, reviews,labels,hidden_nodes = 10, learning_rate = 0.1):\n",
    "       \n",
    "        # set our random number generator \n",
    "#         np.random.seed(1)\n",
    "    \n",
    "        self.pre_process_data(reviews, labels)\n",
    "        \n",
    "        self.init_network(len(self.review_vocab),hidden_nodes, 1, learning_rate)\n",
    "        \n",
    "        \n",
    "    def pre_process_data(self, reviews, labels):\n",
    "        \n",
    "        review_vocab = set()\n",
    "        for review in reviews:\n",
    "            for word in review:\n",
    "                review_vocab.add(word)\n",
    "        self.review_vocab = list(review_vocab)\n",
    "        \n",
    "#         label_vocab = set()\n",
    "#         for label in labels:\n",
    "#             label_vocab.add(label)\n",
    "        \n",
    "#         self.label_vocab = list(label_vocab)\n",
    "        \n",
    "        self.review_vocab_size = len(self.review_vocab)\n",
    "#         self.label_vocab_size = len(self.label_vocab)\n",
    "        \n",
    "        self.word2index = {}\n",
    "        for i, word in enumerate(self.review_vocab):\n",
    "            self.word2index[word] = i\n",
    "        \n",
    "#         self.label2index = {}\n",
    "#         for i, label in enumerate(self.label_vocab):\n",
    "#             self.label2index[label] = i\n",
    "         \n",
    "        \n",
    "    def init_network(self, input_nodes, hidden_nodes, output_nodes, learning_rate):\n",
    "        # Set number of nodes in input, hidden and output layers.\n",
    "        self.input_nodes = input_nodes\n",
    "        self.hidden_nodes = hidden_nodes\n",
    "        self.output_nodes = output_nodes\n",
    "\n",
    "        # Initialize weights\n",
    "        self.weights_0_1 = np.zeros((self.hidden_nodes,self.input_nodes))\n",
    "    \n",
    "        self.weights_1_2 = np.random.normal(0.0, self.output_nodes**-0.5, \n",
    "                                                (self.output_nodes, self.hidden_nodes))\n",
    "        \n",
    "        self.learning_rate = learning_rate\n",
    "        \n",
    "        self.layer_0 = np.zeros((input_nodes,1))\n",
    "    \n",
    "        \n",
    "    def update_input_layer(self,review):\n",
    "\n",
    "        # clear out previous state, reset the layer to be all 0s\n",
    "        self.layer_0 *= 0\n",
    "        for word in review:\n",
    "            if(word in self.word2index.keys()):\n",
    "                self.layer_0[self.word2index[word]][0] = 1\n",
    "                \n",
    "#     def get_target_for_label(self,label):\n",
    "#         if(label == 'POSITIVE'):\n",
    "#             return 1\n",
    "#         else:\n",
    "#             return 0\n",
    "        \n",
    "    def sigmoid(self,x):\n",
    "        return 1 / (1 + np.exp(-x))\n",
    "    \n",
    "    \n",
    "    def sigmoid_output_2_derivative(self,output):\n",
    "        return output * (1 - output)\n",
    "    \n",
    "    def train(self, training_reviews, training_labels):\n",
    "        \n",
    "        assert(len(training_reviews) == len(training_labels))\n",
    "        \n",
    "        correct_so_far = 0\n",
    "        \n",
    "        start = time.time()\n",
    "        \n",
    "        for i in range(len(training_reviews)):\n",
    "            \n",
    "            review = training_reviews[i]\n",
    "            label = training_labels[i]\n",
    "            \n",
    "            #### Implement the forward pass here ####\n",
    "            ### Forward pass ###\n",
    "\n",
    "            # Input Layer\n",
    "            self.update_input_layer(review)\n",
    "            layer_0 = self.layer_0\n",
    "            # Hidden layer\n",
    "            layer_1 = self.weights_0_1.dot(self.layer_0)\n",
    "\n",
    "            # Output layer\n",
    "            layer_2 = self.sigmoid(self.weights_1_2.dot(layer_1))\n",
    "\n",
    "            #### Implement the backward pass here ####\n",
    "            ### Backward pass ###\n",
    "\n",
    "            # TODO: Output error\n",
    "            layer_2_error = layer_2 - label # Output layer error is the difference between desired target and actual output.\n",
    "            layer_2_delta = layer_2_error * self.sigmoid_output_2_derivative(layer_2)\n",
    "\n",
    "            # TODO: Backpropagated error\n",
    "            layer_1_error = self.weights_1_2.T.dot(layer_2_delta) # errors propagated to the hidden layer\n",
    "            layer_1_delta = layer_1_error # hidden layer gradients - no nonlinearity so it's the same as the error\n",
    "\n",
    "            # TODO: Update the weights\n",
    "            self.weights_1_2 -= layer_2_delta.dot(layer_1.T) * self.learning_rate # update hidden-to-output weights with gradient descent step\n",
    "            self.weights_0_1 -= layer_1_delta.dot(layer_0.T) * self.learning_rate # update input-to-hidden weights with gradient descent step\n",
    "\n",
    "            if(np.abs(layer_2_error) < 0.5):\n",
    "                correct_so_far += 1\n",
    "            \n",
    "            reviews_per_second = i / float(time.time() - start)\n",
    "            \n",
    "            sys.stdout.write(\"\\rProgress:\" + __builtins__.str(100 * i/float(len(training_reviews)))[:4] + \"% Speed(reviews/sec):\" + __builtins__.str(reviews_per_second)[0:5] + \" #Correct:\" + __builtins__.str(correct_so_far) + \" #Trained:\" + __builtins__.str(i+1) + \" Training Accuracy:\" + __builtins__.str(correct_so_far * 100 / float(i+1))[:4] + \"%\")\n",
    "            if(i % 2500 == 0):\n",
    "                print(\"\")\n",
    "    \n",
    "    def test(self, testing_reviews, testing_labels):\n",
    "        \n",
    "        correct = 0\n",
    "        \n",
    "        start = time.time()\n",
    "        \n",
    "        for i in range(len(testing_reviews)):\n",
    "            pred = self.run(testing_reviews[i])\n",
    "            if(pred == testing_labels[i]):\n",
    "                correct += 1\n",
    "            \n",
    "            reviews_per_second = i / float(time.time() - start)\n",
    "            \n",
    "            sys.stdout.write(\"\\rProgress:\" + __builtins__.str(100 * i/float(len(testing_reviews)))[:4] \\\n",
    "                             + \"% Speed(reviews/sec):\" + __builtins__.str(reviews_per_second)[0:5] \\\n",
    "                            + \"% #Correct:\" + __builtins__.str(correct) + \" #Tested:\" + __builtins__.str(i+1) + \" Testing Accuracy:\" + __builtins__.str(correct * 100 / float(i+1))[:4] + \"%\")\n",
    "            \n",
    "    def run(self, review):\n",
    "        \n",
    "        # Input Layer\n",
    "#         print(review)\n",
    "        self.update_input_layer(review)\n",
    "#         print(self.layer_0.shape)\n",
    "#         print(self.weights_0_1.shape)\n",
    "#         print(np.dot(self.weights_0_1,self.layer_0))\n",
    "        # Hidden layer\n",
    "        layer_1 = self.weights_0_1.dot(self.layer_0)\n",
    "\n",
    "        # Output layer\n",
    "        layer_2 = self.sigmoid(self.weights_1_2.dot(layer_1))\n",
    "#         print(layer_2) # 发现一只0.5呢\n",
    "        if(layer_2[0] > 0.5):\n",
    "            return 1\n",
    "        else:\n",
    "            return 0"
   ]
  },
  {
   "cell_type": "code",
   "execution_count": 227,
   "metadata": {
    "collapsed": false
   },
   "outputs": [
    {
     "name": "stdout",
     "output_type": "stream",
     "text": [
      "Progress:0.0% Speed(reviews/sec):0.0 #Correct:0 #Trained:1 Training Accuracy:0.0%\n",
      "Progress:12.4% Speed(reviews/sec):169.4 #Correct:1924 #Trained:2501 Training Accuracy:76.9%\n",
      "Progress:24.8% Speed(reviews/sec):169.3 #Correct:4013 #Trained:5001 Training Accuracy:80.2%\n",
      "Progress:37.3% Speed(reviews/sec):162.4 #Correct:6148 #Trained:7501 Training Accuracy:81.9%\n",
      "Progress:49.7% Speed(reviews/sec):161.6 #Correct:8316 #Trained:10001 Training Accuracy:83.1%\n",
      "Progress:62.1% Speed(reviews/sec):162.1 #Correct:10504 #Trained:12501 Training Accuracy:84.0%\n",
      "Progress:74.6% Speed(reviews/sec):162.8 #Correct:12684 #Trained:15001 Training Accuracy:84.5%\n",
      "Progress:87.0% Speed(reviews/sec):165.6 #Correct:14905 #Trained:17501 Training Accuracy:85.1%\n",
      "Progress:99.4% Speed(reviews/sec):167.5 #Correct:17122 #Trained:20001 Training Accuracy:85.6%\n",
      "Progress:99.9% Speed(reviews/sec):167.6 #Correct:17210 #Trained:20105 Training Accuracy:85.6%"
     ]
    }
   ],
   "source": [
    "# 除最后1000个外的数据训练\n",
    "mlp = SentimentNetwork(reviews[:-1000],labels[:-1000], learning_rate=0.1)\n",
    "mlp.train(reviews[:-1000],labels[:-1000])"
   ]
  },
  {
   "cell_type": "code",
   "execution_count": 228,
   "metadata": {
    "collapsed": false
   },
   "outputs": [
    {
     "name": "stdout",
     "output_type": "stream",
     "text": [
      "Progress:99.9% Speed(reviews/sec):1023.% #Correct:881 #Tested:1000 Testing Accuracy:88.1%"
     ]
    }
   ],
   "source": [
    "mlp.test(reviews[-1000:],labels[-1000:])"
   ]
  },
  {
   "cell_type": "markdown",
   "metadata": {},
   "source": [
    "## 加快运算速度\n",
    "下一步我们要来看下为什么计算的这么慢原因，我们来看下下面的一个例子："
   ]
  },
  {
   "cell_type": "code",
   "execution_count": 230,
   "metadata": {
    "collapsed": false
   },
   "outputs": [
    {
     "data": {
      "text/plain": [
       "array([-0.20849069, -0.69363945, -0.59383309,  0.6525091 , -0.02585029])"
      ]
     },
     "execution_count": 230,
     "metadata": {},
     "output_type": "execute_result"
    }
   ],
   "source": [
    "layer_0 = np.zeros(10)\n",
    "layer_0[4] = 1\n",
    "layer_0[9] = 1\n",
    "weights_0_1 = np.random.randn(10,5)\n",
    "value1 = layer_0.dot(weights_0_1)\n",
    "value1"
   ]
  },
  {
   "cell_type": "code",
   "execution_count": 231,
   "metadata": {
    "collapsed": false
   },
   "outputs": [
    {
     "data": {
      "text/plain": [
       "array([ True,  True,  True,  True,  True], dtype=bool)"
      ]
     },
     "execution_count": 231,
     "metadata": {},
     "output_type": "execute_result"
    }
   ],
   "source": [
    "indices = [4,9]\n",
    "layer_1 = np.zeros(5)\n",
    "for index in indices:\n",
    "    layer_1 += (weights_0_1[index])\n",
    "\n",
    "layer_1 == value1    "
   ]
  },
  {
   "cell_type": "markdown",
   "metadata": {},
   "source": [
    "因此我们可以通过上面的方式，只需要计算不为1的index就可以了，可以大大减少计算量，于是就有了下面的优化："
   ]
  },
  {
   "cell_type": "code",
   "execution_count": 257,
   "metadata": {
    "collapsed": true
   },
   "outputs": [],
   "source": [
    "# Let's tweak our network from before to model these phenomena\n",
    "class SentimentNetwork:\n",
    "    def __init__(self, reviews,labels,hidden_nodes = 10, learning_rate = 0.1):\n",
    "       \n",
    "        # set our random number generator \n",
    "        np.random.seed(1)\n",
    "    \n",
    "        self.pre_process_data(reviews, labels)\n",
    "        \n",
    "        self.init_network(len(self.review_vocab),hidden_nodes, 1, learning_rate)\n",
    "        \n",
    "        \n",
    "    def pre_process_data(self, reviews, labels):\n",
    "        \n",
    "        review_vocab = set()\n",
    "        for review in reviews:\n",
    "            for word in review:\n",
    "                review_vocab.add(word)\n",
    "        self.review_vocab = list(review_vocab)\n",
    "        \n",
    "#         label_vocab = set()\n",
    "#         for label in labels:\n",
    "#             label_vocab.add(label)\n",
    "        \n",
    "#         self.label_vocab = list(label_vocab)\n",
    "        \n",
    "        self.review_vocab_size = len(self.review_vocab)\n",
    "#         self.label_vocab_size = len(self.label_vocab)\n",
    "        \n",
    "        self.word2index = {}\n",
    "        for i, word in enumerate(self.review_vocab):\n",
    "            self.word2index[word] = i\n",
    "        \n",
    "#         self.label2index = {}\n",
    "#         for i, label in enumerate(self.label_vocab):\n",
    "#             self.label2index[label] = i\n",
    "         \n",
    "        \n",
    "    def init_network(self, input_nodes, hidden_nodes, output_nodes, learning_rate):\n",
    "        # Set number of nodes in input, hidden and output layers.\n",
    "        self.input_nodes = input_nodes\n",
    "        self.hidden_nodes = hidden_nodes\n",
    "        self.output_nodes = output_nodes\n",
    "\n",
    "        # Initialize weights\n",
    "        self.weights_0_1 = np.zeros((self.hidden_nodes,self.input_nodes))\n",
    "    \n",
    "        self.weights_1_2 = np.random.normal(0.0, self.output_nodes**-0.5, \n",
    "                                                (self.output_nodes, self.hidden_nodes))\n",
    "        \n",
    "        self.learning_rate = learning_rate\n",
    "        \n",
    "        self.layer_0 = np.zeros((input_nodes,1))\n",
    "        self.layer_1 = np.zeros((hidden_nodes,1))\n",
    "    \n",
    "        \n",
    "    def update_input_layer(self,review):\n",
    "\n",
    "        # clear out previous state, reset the layer to be all 0s\n",
    "        self.layer_0 *= 0\n",
    "        for word in review:\n",
    "            if(word in self.word2index.keys()):\n",
    "                self.layer_0[self.word2index[word]][0] = 1\n",
    "                \n",
    "#     def get_target_for_label(self,label):\n",
    "#         if(label == 'POSITIVE'):\n",
    "#             return 1\n",
    "#         else:\n",
    "#             return 0\n",
    "        \n",
    "    def sigmoid(self,x):\n",
    "        return 1 / (1 + np.exp(-x))\n",
    "    \n",
    "    \n",
    "    def sigmoid_output_2_derivative(self,output):\n",
    "        return output * (1 - output)\n",
    "    \n",
    "    def train(self, training_reviews_raw, training_labels):\n",
    "        \n",
    "        training_reviews = list()\n",
    "        for review in training_reviews_raw:\n",
    "            indices = set()\n",
    "            for word in review:\n",
    "                if(word in self.word2index.keys()):\n",
    "                    indices.add(self.word2index[word])\n",
    "            training_reviews.append(list(indices))\n",
    "        \n",
    "        assert(len(training_reviews) == len(training_labels))\n",
    "        \n",
    "        correct_so_far = 0\n",
    "        \n",
    "        start = time.time()\n",
    "        \n",
    "        for i in range(len(training_reviews)):\n",
    "            \n",
    "            review = training_reviews[i]\n",
    "            label = training_labels[i]\n",
    "            \n",
    "            #### Implement the forward pass here ####\n",
    "            ### Forward pass ###\n",
    "\n",
    "            # Input Layer\n",
    "#             self.update_input_layer(review)\n",
    "#             layer_0 = self.layer_0\n",
    "            # Hidden layer\n",
    "#             layer_1 = self.weights_0_1.dot(self.layer_0)\n",
    "            self.layer_1 *= 0\n",
    "            for index in review:\n",
    "                self.layer_1 += self.weights_0_1[:,[index]]\n",
    "\n",
    "            # Output layer\n",
    "            layer_2 = self.sigmoid(self.weights_1_2.dot(self.layer_1))\n",
    "\n",
    "            #### Implement the backward pass here ####\n",
    "            ### Backward pass ###\n",
    "\n",
    "            # TODO: Output error\n",
    "            layer_2_error = layer_2 - label # Output layer error is the difference between desired target and actual output.\n",
    "            layer_2_delta = layer_2_error * self.sigmoid_output_2_derivative(layer_2)\n",
    "\n",
    "            # TODO: Backpropagated error\n",
    "            layer_1_error = self.weights_1_2.T.dot(layer_2_delta) # errors propagated to the hidden layer\n",
    "            layer_1_delta = layer_1_error # hidden layer gradients - no nonlinearity so it's the same as the error\n",
    "\n",
    "            # TODO: Update the weights\n",
    "            self.weights_1_2 -= layer_2_delta.dot(self.layer_1.T) * self.learning_rate # update hidden-to-output weights with gradient descent step\n",
    "#             self.weights_0_1 -= layer_1_delta.dot(self.layer_0.T) * self.learning_rate # update input-to-hidden weights with gradient descent step\n",
    "            for index in review:\n",
    "                self.weights_0_1[:,[index]] -= layer_1_delta * self.learning_rate\n",
    "\n",
    "            if(np.abs(layer_2_error) < 0.5):\n",
    "                correct_so_far += 1\n",
    "            \n",
    "            reviews_per_second = i / float(time.time() - start)\n",
    "            \n",
    "            sys.stdout.write(\"\\rProgress:\" + __builtins__.str(100 * i/float(len(training_reviews)))[:4] + \"% Speed(reviews/sec):\" + __builtins__.str(reviews_per_second)[0:5] + \" #Correct:\" + __builtins__.str(correct_so_far) + \" #Trained:\" + __builtins__.str(i+1) + \" Training Accuracy:\" + __builtins__.str(correct_so_far * 100 / float(i+1))[:4] + \"%\")\n",
    "            if(i % 2500 == 0):\n",
    "                print(\"\")\n",
    "    \n",
    "    def test(self, testing_reviews, testing_labels):\n",
    "        \n",
    "        correct = 0\n",
    "        \n",
    "        start = time.time()\n",
    "        \n",
    "        for i in range(len(testing_reviews)):\n",
    "            pred = self.run(testing_reviews[i])\n",
    "            if(pred == testing_labels[i]):\n",
    "                correct += 1\n",
    "            \n",
    "            reviews_per_second = i / float(time.time() - start)\n",
    "            \n",
    "            sys.stdout.write(\"\\rProgress:\" + __builtins__.str(100 * i/float(len(testing_reviews)))[:4] \\\n",
    "                             + \"% Speed(reviews/sec):\" + __builtins__.str(reviews_per_second)[0:5] \\\n",
    "                            + \"% #Correct:\" + __builtins__.str(correct) + \" #Tested:\" + __builtins__.str(i+1) + \" Testing Accuracy:\" + __builtins__.str(correct * 100 / float(i+1))[:4] + \"%\")\n",
    "            \n",
    "    def run(self, review):\n",
    "        \n",
    "        # Input Layer\n",
    "#         print(review)\n",
    "        self.update_input_layer(review)\n",
    "#         print(self.layer_0.shape)\n",
    "#         print(self.weights_0_1.shape)\n",
    "#         print(np.dot(self.weights_0_1,self.layer_0))\n",
    "        # Hidden layer\n",
    "        layer_1 = self.weights_0_1.dot(self.layer_0)\n",
    "\n",
    "        # Output layer\n",
    "        layer_2 = self.sigmoid(self.weights_1_2.dot(layer_1))\n",
    "#         print(layer_2) # 发现一只0.5呢\n",
    "        if(layer_2[0] > 0.5):\n",
    "            return 1\n",
    "        else:\n",
    "            return 0"
   ]
  },
  {
   "cell_type": "code",
   "execution_count": 258,
   "metadata": {
    "collapsed": false
   },
   "outputs": [
    {
     "name": "stdout",
     "output_type": "stream",
     "text": [
      "Progress:0.0% Speed(reviews/sec):0.0 #Correct:0 #Trained:1 Training Accuracy:0.0%\n",
      "Progress:12.4% Speed(reviews/sec):785.5 #Correct:1881 #Trained:2501 Training Accuracy:75.2%\n",
      "Progress:24.8% Speed(reviews/sec):756.7 #Correct:3959 #Trained:5001 Training Accuracy:79.1%\n",
      "Progress:37.3% Speed(reviews/sec):700.4 #Correct:6077 #Trained:7501 Training Accuracy:81.0%\n",
      "Progress:49.7% Speed(reviews/sec):694.7 #Correct:8238 #Trained:10001 Training Accuracy:82.3%\n",
      "Progress:62.1% Speed(reviews/sec):700.1 #Correct:10431 #Trained:12501 Training Accuracy:83.4%\n",
      "Progress:74.6% Speed(reviews/sec):701.2 #Correct:12607 #Trained:15001 Training Accuracy:84.0%\n",
      "Progress:87.0% Speed(reviews/sec):706.2 #Correct:14827 #Trained:17501 Training Accuracy:84.7%\n",
      "Progress:99.4% Speed(reviews/sec):708.3 #Correct:17034 #Trained:20001 Training Accuracy:85.1%\n",
      "Progress:99.9% Speed(reviews/sec):708.4 #Correct:17122 #Trained:20105 Training Accuracy:85.1%"
     ]
    }
   ],
   "source": [
    "# 除最后1000个外的数据训练\n",
    "mlp = SentimentNetwork(reviews[:-1000],labels[:-1000], learning_rate=0.1)\n",
    "mlp.train(reviews[:-1000],labels[:-1000])"
   ]
  },
  {
   "cell_type": "code",
   "execution_count": 249,
   "metadata": {
    "collapsed": false
   },
   "outputs": [],
   "source": [
    "a = np.random.normal(0,1,(2,3))\n",
    "b = np.random.normal(0,1,(2,1))"
   ]
  },
  {
   "cell_type": "code",
   "execution_count": 250,
   "metadata": {
    "collapsed": false
   },
   "outputs": [
    {
     "data": {
      "text/plain": [
       "array([[ 0.58281521, -1.10061918,  1.14472371],\n",
       "       [ 0.90159072,  0.50249434,  0.90085595]])"
      ]
     },
     "execution_count": 250,
     "metadata": {},
     "output_type": "execute_result"
    }
   ],
   "source": [
    "a"
   ]
  },
  {
   "cell_type": "code",
   "execution_count": 251,
   "metadata": {
    "collapsed": false
   },
   "outputs": [
    {
     "data": {
      "text/plain": [
       "array([[-0.68372786],\n",
       "       [-0.12289023]])"
      ]
     },
     "execution_count": 251,
     "metadata": {},
     "output_type": "execute_result"
    }
   ],
   "source": [
    "b"
   ]
  },
  {
   "cell_type": "code",
   "execution_count": 255,
   "metadata": {
    "collapsed": false
   },
   "outputs": [],
   "source": [
    "a[:,[1]] = b"
   ]
  },
  {
   "cell_type": "code",
   "execution_count": 256,
   "metadata": {
    "collapsed": false
   },
   "outputs": [
    {
     "data": {
      "text/plain": [
       "array([[ 0.58281521, -0.68372786,  1.14472371],\n",
       "       [ 0.90159072, -0.12289023,  0.90085595]])"
      ]
     },
     "execution_count": 256,
     "metadata": {},
     "output_type": "execute_result"
    }
   ],
   "source": [
    "a"
   ]
  },
  {
   "cell_type": "markdown",
   "metadata": {},
   "source": [
    "## 有策略的减少无效单词来减少噪声\n",
    "优化到这，让我们来看下还有没有什么可优化的了，我们来将分词后正负对比的一个直方图"
   ]
  },
  {
   "cell_type": "code",
   "execution_count": 312,
   "metadata": {
    "collapsed": false
   },
   "outputs": [],
   "source": [
    "import pandas as pd\n",
    "neg=pd.read_excel('data/neg.xls',header=None,index=None)\n",
    "pos=pd.read_excel('data/pos.xls',header=None,index=None)\n",
    "\n",
    "\n",
    "pos['mark']=1\n",
    "neg['mark']=0 #给训练语料贴上标签\n",
    "pn=pd.concat([pos,neg],ignore_index=True) #合并语料\n",
    "neglen=len(neg)\n",
    "poslen=len(pos) #计算语料数目\n",
    "\n",
    "cw = lambda x: list(jieba.cut(x)) #定义分词函数\n",
    "pn['words'] = pn[0].apply(cw)\n",
    "pn = pn.reindex(np.random.permutation(pn.index))\n",
    "\n",
    "positive_counts = Counter()\n",
    "negative_counts = Counter()\n",
    "total_counts = Counter()\n",
    "\n",
    "for i in range(len(pn['words'])):\n",
    "    if pn['mark'][i] == 1:\n",
    "        for word in pn['words'][i]:\n",
    "            positive_counts[word] += 1\n",
    "            total_counts[word] += 1\n",
    "    else:\n",
    "        for word in pn['words'][i]:\n",
    "            negative_counts[word] += 1\n",
    "            total_counts[word] += 1\n",
    "\n",
    "pos_neg_ratios = Counter()\n",
    "for term,cnt in list(total_counts.most_common()):\n",
    "    if(cnt > 180):\n",
    "        pos_neg_ratio = positive_counts[term] / float(negative_counts[term]+1)\n",
    "        pos_neg_ratios[term] = pos_neg_ratio  \n",
    "        \n",
    "for word,ratio in pos_neg_ratios.most_common():\n",
    "    if(ratio > 1):\n",
    "        pos_neg_ratios[word] = np.log(ratio)\n",
    "    else:\n",
    "        pos_neg_ratios[word] = -np.log((1 / (ratio+0.01))) \n",
    "\n",
    "\n",
    "# \n",
    "\n"
   ]
  },
  {
   "cell_type": "code",
   "execution_count": 408,
   "metadata": {
    "collapsed": false
   },
   "outputs": [
    {
     "data": {
      "text/plain": [
       "[('结局', 3.7954891891721947),\n",
       " ('成长', 3.0002674287193822),\n",
       " ('快乐', 2.968080742223481),\n",
       " ('世界', 2.5416019934645457),\n",
       " ('幸福', 2.5403579543242145),\n",
       " ('感谢', 2.2894558015522528),\n",
       " ('很漂亮', 2.256541154492639),\n",
       " ('漂亮', 2.0762312660495876),\n",
       " ('人生', 2.044102175234527),\n",
       " ('感动', 2.0074680420547466)]"
      ]
     },
     "execution_count": 408,
     "metadata": {},
     "output_type": "execute_result"
    }
   ],
   "source": [
    "pos_neg_ratios.most_common(10)"
   ]
  },
  {
   "cell_type": "code",
   "execution_count": 409,
   "metadata": {
    "collapsed": false
   },
   "outputs": [
    {
     "data": {
      "text/plain": [
       "[('抵制', -2.7025520357679857),\n",
       " ('死机', -2.5163389039584163),\n",
       " ('很差', -2.286055791042835),\n",
       " ('垃圾', -2.1947851588250678),\n",
       " ('失望', -1.7210375431333034),\n",
       " ('差', -1.7188899346366118),\n",
       " ('页', -1.6315365868037763),\n",
       " ('郁闷', -1.5735428334599848),\n",
       " ('根本', -1.5365211256505318),\n",
       " ('后悔', -1.5336737595318182)]"
      ]
     },
     "execution_count": 409,
     "metadata": {},
     "output_type": "execute_result"
    }
   ],
   "source": [
    "list(reversed(pos_neg_ratios.most_common()))[0:10]"
   ]
  },
  {
   "cell_type": "code",
   "execution_count": 315,
   "metadata": {
    "collapsed": false
   },
   "outputs": [
    {
     "data": {
      "text/html": [
       "\n",
       "    <div class=\"bk-root\">\n",
       "        <a href=\"http://bokeh.pydata.org\" target=\"_blank\" class=\"bk-logo bk-logo-small bk-logo-notebook\"></a>\n",
       "        <span id=\"b5d1699b-ba6e-47f8-9d3d-1aa2edad9bfb\">Loading BokehJS ...</span>\n",
       "    </div>"
      ]
     },
     "metadata": {},
     "output_type": "display_data"
    },
    {
     "data": {
      "application/javascript": [
       "\n",
       "(function(global) {\n",
       "  function now() {\n",
       "    return new Date();\n",
       "  }\n",
       "\n",
       "  var force = true;\n",
       "\n",
       "  if (typeof (window._bokeh_onload_callbacks) === \"undefined\" || force === true) {\n",
       "    window._bokeh_onload_callbacks = [];\n",
       "    window._bokeh_is_loading = undefined;\n",
       "  }\n",
       "\n",
       "\n",
       "  \n",
       "  if (typeof (window._bokeh_timeout) === \"undefined\" || force === true) {\n",
       "    window._bokeh_timeout = Date.now() + 5000;\n",
       "    window._bokeh_failed_load = false;\n",
       "  }\n",
       "\n",
       "  var NB_LOAD_WARNING = {'data': {'text/html':\n",
       "     \"<div style='background-color: #fdd'>\\n\"+\n",
       "     \"<p>\\n\"+\n",
       "     \"BokehJS does not appear to have successfully loaded. If loading BokehJS from CDN, this \\n\"+\n",
       "     \"may be due to a slow or bad network connection. Possible fixes:\\n\"+\n",
       "     \"</p>\\n\"+\n",
       "     \"<ul>\\n\"+\n",
       "     \"<li>re-rerun `output_notebook()` to attempt to load from CDN again, or</li>\\n\"+\n",
       "     \"<li>use INLINE resources instead, as so:</li>\\n\"+\n",
       "     \"</ul>\\n\"+\n",
       "     \"<code>\\n\"+\n",
       "     \"from bokeh.resources import INLINE\\n\"+\n",
       "     \"output_notebook(resources=INLINE)\\n\"+\n",
       "     \"</code>\\n\"+\n",
       "     \"</div>\"}};\n",
       "\n",
       "  function display_loaded() {\n",
       "    if (window.Bokeh !== undefined) {\n",
       "      document.getElementById(\"b5d1699b-ba6e-47f8-9d3d-1aa2edad9bfb\").textContent = \"BokehJS successfully loaded.\";\n",
       "    } else if (Date.now() < window._bokeh_timeout) {\n",
       "      setTimeout(display_loaded, 100)\n",
       "    }\n",
       "  }\n",
       "\n",
       "  function run_callbacks() {\n",
       "    window._bokeh_onload_callbacks.forEach(function(callback) { callback() });\n",
       "    delete window._bokeh_onload_callbacks\n",
       "    console.info(\"Bokeh: all callbacks have finished\");\n",
       "  }\n",
       "\n",
       "  function load_libs(js_urls, callback) {\n",
       "    window._bokeh_onload_callbacks.push(callback);\n",
       "    if (window._bokeh_is_loading > 0) {\n",
       "      console.log(\"Bokeh: BokehJS is being loaded, scheduling callback at\", now());\n",
       "      return null;\n",
       "    }\n",
       "    if (js_urls == null || js_urls.length === 0) {\n",
       "      run_callbacks();\n",
       "      return null;\n",
       "    }\n",
       "    console.log(\"Bokeh: BokehJS not loaded, scheduling load and callback at\", now());\n",
       "    window._bokeh_is_loading = js_urls.length;\n",
       "    for (var i = 0; i < js_urls.length; i++) {\n",
       "      var url = js_urls[i];\n",
       "      var s = document.createElement('script');\n",
       "      s.src = url;\n",
       "      s.async = false;\n",
       "      s.onreadystatechange = s.onload = function() {\n",
       "        window._bokeh_is_loading--;\n",
       "        if (window._bokeh_is_loading === 0) {\n",
       "          console.log(\"Bokeh: all BokehJS libraries loaded\");\n",
       "          run_callbacks()\n",
       "        }\n",
       "      };\n",
       "      s.onerror = function() {\n",
       "        console.warn(\"failed to load library \" + url);\n",
       "      };\n",
       "      console.log(\"Bokeh: injecting script tag for BokehJS library: \", url);\n",
       "      document.getElementsByTagName(\"head\")[0].appendChild(s);\n",
       "    }\n",
       "  };var element = document.getElementById(\"b5d1699b-ba6e-47f8-9d3d-1aa2edad9bfb\");\n",
       "  if (element == null) {\n",
       "    console.log(\"Bokeh: ERROR: autoload.js configured with elementid 'b5d1699b-ba6e-47f8-9d3d-1aa2edad9bfb' but no matching script tag was found. \")\n",
       "    return false;\n",
       "  }\n",
       "\n",
       "  var js_urls = [\"https://cdn.pydata.org/bokeh/release/bokeh-0.12.4.min.js\", \"https://cdn.pydata.org/bokeh/release/bokeh-widgets-0.12.4.min.js\"];\n",
       "\n",
       "  var inline_js = [\n",
       "    function(Bokeh) {\n",
       "      Bokeh.set_log_level(\"info\");\n",
       "    },\n",
       "    \n",
       "    function(Bokeh) {\n",
       "      \n",
       "      document.getElementById(\"b5d1699b-ba6e-47f8-9d3d-1aa2edad9bfb\").textContent = \"BokehJS is loading...\";\n",
       "    },\n",
       "    function(Bokeh) {\n",
       "      console.log(\"Bokeh: injecting CSS: https://cdn.pydata.org/bokeh/release/bokeh-0.12.4.min.css\");\n",
       "      Bokeh.embed.inject_css(\"https://cdn.pydata.org/bokeh/release/bokeh-0.12.4.min.css\");\n",
       "      console.log(\"Bokeh: injecting CSS: https://cdn.pydata.org/bokeh/release/bokeh-widgets-0.12.4.min.css\");\n",
       "      Bokeh.embed.inject_css(\"https://cdn.pydata.org/bokeh/release/bokeh-widgets-0.12.4.min.css\");\n",
       "    }\n",
       "  ];\n",
       "\n",
       "  function run_inline_js() {\n",
       "    \n",
       "    if ((window.Bokeh !== undefined) || (force === true)) {\n",
       "      for (var i = 0; i < inline_js.length; i++) {\n",
       "        inline_js[i](window.Bokeh);\n",
       "      }if (force === true) {\n",
       "        display_loaded();\n",
       "      }} else if (Date.now() < window._bokeh_timeout) {\n",
       "      setTimeout(run_inline_js, 100);\n",
       "    } else if (!window._bokeh_failed_load) {\n",
       "      console.log(\"Bokeh: BokehJS failed to load within specified timeout.\");\n",
       "      window._bokeh_failed_load = true;\n",
       "    } else if (force !== true) {\n",
       "      var cell = $(document.getElementById(\"b5d1699b-ba6e-47f8-9d3d-1aa2edad9bfb\")).parents('.cell').data().cell;\n",
       "      cell.output_area.append_execute_result(NB_LOAD_WARNING)\n",
       "    }\n",
       "\n",
       "  }\n",
       "\n",
       "  if (window._bokeh_is_loading === 0) {\n",
       "    console.log(\"Bokeh: BokehJS loaded, going straight to plotting\");\n",
       "    run_inline_js();\n",
       "  } else {\n",
       "    load_libs(js_urls, function() {\n",
       "      console.log(\"Bokeh: BokehJS plotting callback run at\", now());\n",
       "      run_inline_js();\n",
       "    });\n",
       "  }\n",
       "}(this));"
      ]
     },
     "metadata": {},
     "output_type": "display_data"
    }
   ],
   "source": [
    "from bokeh.models import ColumnDataSource, LabelSet\n",
    "from bokeh.plotting import figure, show, output_file\n",
    "from bokeh.io import output_notebook\n",
    "output_notebook()"
   ]
  },
  {
   "cell_type": "code",
   "execution_count": 316,
   "metadata": {
    "collapsed": false
   },
   "outputs": [
    {
     "data": {
      "text/html": [
       "\n",
       "\n",
       "    <div class=\"bk-root\">\n",
       "        <div class=\"bk-plotdiv\" id=\"a4c93a9f-9a10-4079-b97e-93695ae882e9\"></div>\n",
       "    </div>\n",
       "<script type=\"text/javascript\">\n",
       "  \n",
       "  (function(global) {\n",
       "    function now() {\n",
       "      return new Date();\n",
       "    }\n",
       "  \n",
       "    var force = false;\n",
       "  \n",
       "    if (typeof (window._bokeh_onload_callbacks) === \"undefined\" || force === true) {\n",
       "      window._bokeh_onload_callbacks = [];\n",
       "      window._bokeh_is_loading = undefined;\n",
       "    }\n",
       "  \n",
       "  \n",
       "    \n",
       "    if (typeof (window._bokeh_timeout) === \"undefined\" || force === true) {\n",
       "      window._bokeh_timeout = Date.now() + 0;\n",
       "      window._bokeh_failed_load = false;\n",
       "    }\n",
       "  \n",
       "    var NB_LOAD_WARNING = {'data': {'text/html':\n",
       "       \"<div style='background-color: #fdd'>\\n\"+\n",
       "       \"<p>\\n\"+\n",
       "       \"BokehJS does not appear to have successfully loaded. If loading BokehJS from CDN, this \\n\"+\n",
       "       \"may be due to a slow or bad network connection. Possible fixes:\\n\"+\n",
       "       \"</p>\\n\"+\n",
       "       \"<ul>\\n\"+\n",
       "       \"<li>re-rerun `output_notebook()` to attempt to load from CDN again, or</li>\\n\"+\n",
       "       \"<li>use INLINE resources instead, as so:</li>\\n\"+\n",
       "       \"</ul>\\n\"+\n",
       "       \"<code>\\n\"+\n",
       "       \"from bokeh.resources import INLINE\\n\"+\n",
       "       \"output_notebook(resources=INLINE)\\n\"+\n",
       "       \"</code>\\n\"+\n",
       "       \"</div>\"}};\n",
       "  \n",
       "    function display_loaded() {\n",
       "      if (window.Bokeh !== undefined) {\n",
       "        document.getElementById(\"a4c93a9f-9a10-4079-b97e-93695ae882e9\").textContent = \"BokehJS successfully loaded.\";\n",
       "      } else if (Date.now() < window._bokeh_timeout) {\n",
       "        setTimeout(display_loaded, 100)\n",
       "      }\n",
       "    }\n",
       "  \n",
       "    function run_callbacks() {\n",
       "      window._bokeh_onload_callbacks.forEach(function(callback) { callback() });\n",
       "      delete window._bokeh_onload_callbacks\n",
       "      console.info(\"Bokeh: all callbacks have finished\");\n",
       "    }\n",
       "  \n",
       "    function load_libs(js_urls, callback) {\n",
       "      window._bokeh_onload_callbacks.push(callback);\n",
       "      if (window._bokeh_is_loading > 0) {\n",
       "        console.log(\"Bokeh: BokehJS is being loaded, scheduling callback at\", now());\n",
       "        return null;\n",
       "      }\n",
       "      if (js_urls == null || js_urls.length === 0) {\n",
       "        run_callbacks();\n",
       "        return null;\n",
       "      }\n",
       "      console.log(\"Bokeh: BokehJS not loaded, scheduling load and callback at\", now());\n",
       "      window._bokeh_is_loading = js_urls.length;\n",
       "      for (var i = 0; i < js_urls.length; i++) {\n",
       "        var url = js_urls[i];\n",
       "        var s = document.createElement('script');\n",
       "        s.src = url;\n",
       "        s.async = false;\n",
       "        s.onreadystatechange = s.onload = function() {\n",
       "          window._bokeh_is_loading--;\n",
       "          if (window._bokeh_is_loading === 0) {\n",
       "            console.log(\"Bokeh: all BokehJS libraries loaded\");\n",
       "            run_callbacks()\n",
       "          }\n",
       "        };\n",
       "        s.onerror = function() {\n",
       "          console.warn(\"failed to load library \" + url);\n",
       "        };\n",
       "        console.log(\"Bokeh: injecting script tag for BokehJS library: \", url);\n",
       "        document.getElementsByTagName(\"head\")[0].appendChild(s);\n",
       "      }\n",
       "    };var element = document.getElementById(\"a4c93a9f-9a10-4079-b97e-93695ae882e9\");\n",
       "    if (element == null) {\n",
       "      console.log(\"Bokeh: ERROR: autoload.js configured with elementid 'a4c93a9f-9a10-4079-b97e-93695ae882e9' but no matching script tag was found. \")\n",
       "      return false;\n",
       "    }\n",
       "  \n",
       "    var js_urls = [];\n",
       "  \n",
       "    var inline_js = [\n",
       "      function(Bokeh) {\n",
       "        (function() {\n",
       "          var fn = function() {\n",
       "            var docs_json = {\"30afd5ae-d839-47ca-b7c9-63dba48ccc66\":{\"roots\":{\"references\":[{\"attributes\":{\"plot\":{\"id\":\"8ff51323-7c64-4490-b1a1-f67a7409bbf4\",\"subtype\":\"Figure\",\"type\":\"Plot\"}},\"id\":\"ba5cf22b-3770-4303-abd8-804213e70ca5\",\"type\":\"SaveTool\"},{\"attributes\":{\"callback\":null,\"column_names\":[\"left\",\"right\",\"top\"],\"data\":{\"left\":{\"__ndarray__\":\"zuQKmtOeBcCk9b4mvxkFwHsGc7OqlATAURcnQJYPBMAoKNvMgYoDwP44j1ltBQPA1ElD5liAAsCrWvdyRPsBwIFrq/8vdgHAWHxfjBvxAMAujRMZB2wAwAk8j0vlzf+/tl33ZLzD/r9if19+k7n9vxChx5dqr/y/vMIvsUGl+79p5JfKGJv6vxYGAOTvkPm/wydo/caG+L9vSdAWnnz3vxxrODB1cva/yYygSUxo9b92rghjI170vyPQcHz6U/O/0PHYldFJ8r98E0GvqD/xvyk1qch/NfC/rK0ixK1W7r8G8fL2W0Lsv2A0wykKLuq/uHeTXLgZ6L8Uu2OPZgXmv2z+M8IU8eO/xEEE9cLc4b9ACqlP4pDfv/CQSbU+aNu/qBfqGps/179YnoqA9xbTvxBKVsyn3M2/gFeXl2CLxb/AybDFMnS6v0DJZbhIo6O/gAIsNahDmz/g5ch2eHO3P4BlI3ADC8Q/IFjipEpczD9YpdDsyFbSP6geMIdsf9Y/8JePIRCo2j9AEe+7s9DeP0hFJ6urfOE/7AFXeP2Q4z+UvoZFT6XlPzh7thKhuec/4Dfm3/LN6T+I9BWtROLrPyyxRXqW9u0/6ra6I3QF8D88lVIKnQ/xP5Bz6vDFGfI/5FGC1+4j8z82MBq+Fy70P4gOsqRAOPU/3OxJi2lC9j8wy+Fxkkz3P4SpeVi7Vvg/2IcRP+Rg+T8oZqklDWv6P3xEQQw2dfs/0CLZ8l5//D8kAXHZh4n9P3jfCMCwk/4/yL2gptmd/z8OTpxGAVQAQDg96LkV2QBAYiw0LSpeAUCMG4CgPuMBQLQKzBNTaAJA3vkXh2ftAkAI6WP6e3IDQDLYr22Q9wNAXMf74KR8BECEtkdUuQEFQK6lk8fNhgVA2JTfOuILBkAChCuu9pAGQCxzdyELFgdAVGLDlB+bB0B+UQ8INCAIQKhAW3tIpQhA0i+n7lwqCUD8HvNhca8JQCQOP9WFNApATv2KSJq5CkB47Na7rj4LQKLbIi/DwwtAyspuotdIDED0uboV7M0MQB6pBokAUw1ASJhS/BTYDUA=\",\"dtype\":\"float64\",\"shape\":[100]},\"right\":{\"__ndarray__\":\"pPW+Jr8ZBcB7BnOzqpQEwFEXJ0CWDwTAKCjbzIGKA8D+OI9ZbQUDwNRJQ+ZYgALAq1r3ckT7AcCBa6v/L3YBwFh8X4wb8QDALo0TGQdsAMAJPI9L5c3/v7Zd92S8w/6/Yn9ffpO5/b8QoceXaq/8v7zCL7FBpfu/aeSXyhib+r8WBgDk75D5v8MnaP3Ghvi/b0nQFp58978cazgwdXL2v8mMoElMaPW/dq4IYyNe9L8j0HB8+lPzv9Dx2JXRSfK/fBNBr6g/8b8pNanIfzXwv6ytIsStVu6/BvHy9ltC7L9gNMMpCi7qv7h3k1y4Gei/FLtjj2YF5r9s/jPCFPHjv8RBBPXC3OG/QAqpT+KQ37/wkEm1Pmjbv6gX6hqbP9e/WJ6KgPcW078QSlbMp9zNv4BXl5dgi8W/wMmwxTJ0ur9AyWW4SKOjv4ACLDWoQ5s/4OXIdnhztz+AZSNwAwvEPyBY4qRKXMw/WKXQ7MhW0j+oHjCHbH/WP/CXjyEQqNo/QBHvu7PQ3j9IRSerq3zhP+wBV3j9kOM/lL6GRU+l5T84e7YSobnnP+A35t/yzek/iPQVrUTi6z8ssUV6lvbtP+q2uiN0BfA/PJVSCp0P8T+Qc+rwxRnyP+RRgtfuI/M/NjAavhcu9D+IDrKkQDj1P9zsSYtpQvY/MMvhcZJM9z+EqXlYu1b4P9iHET/kYPk/KGapJQ1r+j98REEMNnX7P9Ai2fJef/w/JAFx2YeJ/T943wjAsJP+P8i9oKbZnf8/Dk6cRgFUAEA4Pei5FdkAQGIsNC0qXgFAjBuAoD7jAUC0CswTU2gCQN75F4dn7QJACOlj+ntyA0Ay2K9tkPcDQFzH++CkfARAhLZHVLkBBUCupZPHzYYFQNiU3zriCwZAAoQrrvaQBkAsc3chCxYHQFRiw5QfmwdAflEPCDQgCECoQFt7SKUIQNIvp+5cKglA/B7zYXGvCUAkDj/VhTQKQE79ikiauQpAeOzWu64+C0Ci2yIvw8MLQMrKbqLXSAxA9Lm6FezNDEAeqQaJAFMNQEiYUvwU2A1AcYeebyldDkA=\",\"dtype\":\"float64\",\"shape\":[100]},\"top\":{\"__ndarray__\":\"4lb8DgUUkz8AAAAAAAAAAOJW/A4FFJM/AAAAAAAAAAAAAAAAAAAAAAAAAAAAAAAAB1f8DgUUkz/iVvwOBRSTPwAAAAAAAAAAAAAAAAAAAAAAAAAAAAAAAAAAAAAAAAAAAAAAAAAAAAAAAAAAAAAAAAAAAAAAAAAA9Fb8DgUUoz/0VvwOBRSTP/RW/A4FFLM/4lb8DgUUkz/0VvwOBRSTP/RW/A4FFJM/9Fb8DgUUkz/0VvwOBRSTP/RW/A4FFLM/BswcbYSxwD/0VvwOBRSjP/RW/A4FFKM/boJ6lgeevD+xbLtSBtm3PwbMHG2EscA/ioJ6lgeezD9TgnqWB57MP3b3mvSGO8o/yGy7UgbZ1z9295r0hjvKP6n3mvSGO9o/5LyKRcds2z+8rpSVJErhP96ulJUkSuE/BswcbYSx4D/6R2rnR8/dP08c7F9FReQ/K3SE5mR74j/6R2rnR8/dP3b3mvSGO9o/B1f8DgUU4z91xFPZJQ/mPxCKQypmQOc/dJEMvsTi4T+8rpSVJErhP27ppETkGOA/vK6UlSRK4T8mzBxthLHgP0/ppETkGOA/5LyKRcds2z+KgnqWB57MP0/ppETkGOA/yGy7UgbZxz+abLtSBtnHPwbMHG2EscA/yGy7UgbZxz8mzBxthLHAP+JW/A4FFMM/BswcbYSxwD9TgnqWB568P1OCepYHnqw/wYJ6lgeerD9TgnqWB56sP1OCepYHnqw/mmy7UgbZxz/iVvwOBRSzPytX/A4FFJM/4lb8DgUUoz/iVvwOBRSjPwAAAAAAAAAAAAAAAAAAAAArV/wOBRSjPwAAAAAAAAAAAAAAAAAAAAAAAAAAAAAAAOJW/A4FFKM/AAAAAAAAAAAAAAAAAAAAAAAAAAAAAAAAAAAAAAAAAAAAAAAAAAAAAAAAAAAAAAAA4lb8DgUUoz8AAAAAAAAAAAAAAAAAAAAAAAAAAAAAAAAAAAAAAAAAAAAAAAAAAAAAAAAAAAAAAAAAAAAAAAAAAAAAAAAAAAAAAAAAAAAAAAAAAAAAAAAAAAAAAAAAAAAAB1f8DgUUkz8=\",\"dtype\":\"float64\",\"shape\":[100]}}},\"id\":\"9ce2e331-fc1f-4bea-bbdf-bf9b728af6e3\",\"type\":\"ColumnDataSource\"},{\"attributes\":{\"below\":[{\"id\":\"d13c7662-9186-4ba3-a222-16acf808225b\",\"type\":\"LinearAxis\"}],\"left\":[{\"id\":\"652eb704-5e25-455a-9085-89fd67e0dea2\",\"type\":\"LinearAxis\"}],\"renderers\":[{\"id\":\"d13c7662-9186-4ba3-a222-16acf808225b\",\"type\":\"LinearAxis\"},{\"id\":\"793491d5-1f2d-460d-9f02-ff3d849e05a6\",\"type\":\"Grid\"},{\"id\":\"652eb704-5e25-455a-9085-89fd67e0dea2\",\"type\":\"LinearAxis\"},{\"id\":\"bc1eb442-f3b3-4f21-a9c7-ae81a83e074c\",\"type\":\"Grid\"},{\"id\":\"fd77606d-7291-43a7-ba65-7928d6473eca\",\"type\":\"GlyphRenderer\"}],\"title\":{\"id\":\"7cb23103-e9e6-4163-8ab4-1f086de3fab8\",\"type\":\"Title\"},\"tool_events\":{\"id\":\"b8537d7e-e2db-4ad8-94ea-efece48c96af\",\"type\":\"ToolEvents\"},\"toolbar\":{\"id\":\"71fb5dd6-99e9-4837-9319-e8a0f02e417a\",\"type\":\"Toolbar\"},\"toolbar_location\":\"above\",\"x_range\":{\"id\":\"b0b418d8-5b35-4fc0-8814-bad4b25f9007\",\"type\":\"DataRange1d\"},\"y_range\":{\"id\":\"c1d35a8e-e2bf-4a1d-8d68-af4df33405c9\",\"type\":\"DataRange1d\"}},\"id\":\"8ff51323-7c64-4490-b1a1-f67a7409bbf4\",\"subtype\":\"Figure\",\"type\":\"Plot\"},{\"attributes\":{\"plot\":null,\"text\":\"Word Positive/Negative Affinity Distribution\"},\"id\":\"7cb23103-e9e6-4163-8ab4-1f086de3fab8\",\"type\":\"Title\"},{\"attributes\":{\"plot\":{\"id\":\"8ff51323-7c64-4490-b1a1-f67a7409bbf4\",\"subtype\":\"Figure\",\"type\":\"Plot\"}},\"id\":\"11b9cd75-311d-4ec2-85ec-3b46c9bf7d83\",\"type\":\"ResetTool\"},{\"attributes\":{},\"id\":\"b8537d7e-e2db-4ad8-94ea-efece48c96af\",\"type\":\"ToolEvents\"},{\"attributes\":{},\"id\":\"a4527be8-2453-40bd-a92f-901474253459\",\"type\":\"BasicTicker\"},{\"attributes\":{\"plot\":{\"id\":\"8ff51323-7c64-4490-b1a1-f67a7409bbf4\",\"subtype\":\"Figure\",\"type\":\"Plot\"}},\"id\":\"c275039e-d216-4586-b907-486b8aa44723\",\"type\":\"PanTool\"},{\"attributes\":{\"bottom\":{\"value\":0},\"fill_color\":{\"value\":\"#1f77b4\"},\"left\":{\"field\":\"left\"},\"line_color\":{\"value\":\"#555555\"},\"right\":{\"field\":\"right\"},\"top\":{\"field\":\"top\"}},\"id\":\"deec5bc8-207b-47c5-820c-b79a961d5918\",\"type\":\"Quad\"},{\"attributes\":{\"active_drag\":\"auto\",\"active_scroll\":\"auto\",\"active_tap\":\"auto\",\"tools\":[{\"id\":\"c275039e-d216-4586-b907-486b8aa44723\",\"type\":\"PanTool\"},{\"id\":\"2c0d72a7-432c-4b1c-be55-874337aaf0d2\",\"type\":\"WheelZoomTool\"},{\"id\":\"11b9cd75-311d-4ec2-85ec-3b46c9bf7d83\",\"type\":\"ResetTool\"},{\"id\":\"ba5cf22b-3770-4303-abd8-804213e70ca5\",\"type\":\"SaveTool\"}]},\"id\":\"71fb5dd6-99e9-4837-9319-e8a0f02e417a\",\"type\":\"Toolbar\"},{\"attributes\":{\"bottom\":{\"value\":0},\"fill_alpha\":{\"value\":0.1},\"fill_color\":{\"value\":\"#1f77b4\"},\"left\":{\"field\":\"left\"},\"line_alpha\":{\"value\":0.1},\"line_color\":{\"value\":\"#1f77b4\"},\"right\":{\"field\":\"right\"},\"top\":{\"field\":\"top\"}},\"id\":\"977a46c9-cfea-4bad-bbf5-b75072bd58f5\",\"type\":\"Quad\"},{\"attributes\":{\"dimension\":1,\"plot\":{\"id\":\"8ff51323-7c64-4490-b1a1-f67a7409bbf4\",\"subtype\":\"Figure\",\"type\":\"Plot\"},\"ticker\":{\"id\":\"ec1efcd5-39dc-47e7-bf97-ea2a1d528919\",\"type\":\"BasicTicker\"}},\"id\":\"bc1eb442-f3b3-4f21-a9c7-ae81a83e074c\",\"type\":\"Grid\"},{\"attributes\":{},\"id\":\"c66349aa-32e2-450d-b18b-6d043f1a7657\",\"type\":\"BasicTickFormatter\"},{\"attributes\":{\"formatter\":{\"id\":\"c66349aa-32e2-450d-b18b-6d043f1a7657\",\"type\":\"BasicTickFormatter\"},\"plot\":{\"id\":\"8ff51323-7c64-4490-b1a1-f67a7409bbf4\",\"subtype\":\"Figure\",\"type\":\"Plot\"},\"ticker\":{\"id\":\"a4527be8-2453-40bd-a92f-901474253459\",\"type\":\"BasicTicker\"}},\"id\":\"d13c7662-9186-4ba3-a222-16acf808225b\",\"type\":\"LinearAxis\"},{\"attributes\":{\"formatter\":{\"id\":\"43fe2b94-de4a-4e43-8016-14329d4384ca\",\"type\":\"BasicTickFormatter\"},\"plot\":{\"id\":\"8ff51323-7c64-4490-b1a1-f67a7409bbf4\",\"subtype\":\"Figure\",\"type\":\"Plot\"},\"ticker\":{\"id\":\"ec1efcd5-39dc-47e7-bf97-ea2a1d528919\",\"type\":\"BasicTicker\"}},\"id\":\"652eb704-5e25-455a-9085-89fd67e0dea2\",\"type\":\"LinearAxis\"},{\"attributes\":{\"callback\":null},\"id\":\"b0b418d8-5b35-4fc0-8814-bad4b25f9007\",\"type\":\"DataRange1d\"},{\"attributes\":{\"plot\":{\"id\":\"8ff51323-7c64-4490-b1a1-f67a7409bbf4\",\"subtype\":\"Figure\",\"type\":\"Plot\"}},\"id\":\"2c0d72a7-432c-4b1c-be55-874337aaf0d2\",\"type\":\"WheelZoomTool\"},{\"attributes\":{},\"id\":\"43fe2b94-de4a-4e43-8016-14329d4384ca\",\"type\":\"BasicTickFormatter\"},{\"attributes\":{},\"id\":\"ec1efcd5-39dc-47e7-bf97-ea2a1d528919\",\"type\":\"BasicTicker\"},{\"attributes\":{\"data_source\":{\"id\":\"9ce2e331-fc1f-4bea-bbdf-bf9b728af6e3\",\"type\":\"ColumnDataSource\"},\"glyph\":{\"id\":\"deec5bc8-207b-47c5-820c-b79a961d5918\",\"type\":\"Quad\"},\"hover_glyph\":null,\"nonselection_glyph\":{\"id\":\"977a46c9-cfea-4bad-bbf5-b75072bd58f5\",\"type\":\"Quad\"},\"selection_glyph\":null},\"id\":\"fd77606d-7291-43a7-ba65-7928d6473eca\",\"type\":\"GlyphRenderer\"},{\"attributes\":{\"callback\":null},\"id\":\"c1d35a8e-e2bf-4a1d-8d68-af4df33405c9\",\"type\":\"DataRange1d\"},{\"attributes\":{\"plot\":{\"id\":\"8ff51323-7c64-4490-b1a1-f67a7409bbf4\",\"subtype\":\"Figure\",\"type\":\"Plot\"},\"ticker\":{\"id\":\"a4527be8-2453-40bd-a92f-901474253459\",\"type\":\"BasicTicker\"}},\"id\":\"793491d5-1f2d-460d-9f02-ff3d849e05a6\",\"type\":\"Grid\"}],\"root_ids\":[\"8ff51323-7c64-4490-b1a1-f67a7409bbf4\"]},\"title\":\"Bokeh Application\",\"version\":\"0.12.4\"}};\n",
       "            var render_items = [{\"docid\":\"30afd5ae-d839-47ca-b7c9-63dba48ccc66\",\"elementid\":\"a4c93a9f-9a10-4079-b97e-93695ae882e9\",\"modelid\":\"8ff51323-7c64-4490-b1a1-f67a7409bbf4\"}];\n",
       "            \n",
       "            Bokeh.embed.embed_items(docs_json, render_items);\n",
       "          };\n",
       "          if (document.readyState != \"loading\") fn();\n",
       "          else document.addEventListener(\"DOMContentLoaded\", fn);\n",
       "        })();\n",
       "      },\n",
       "      function(Bokeh) {\n",
       "      }\n",
       "    ];\n",
       "  \n",
       "    function run_inline_js() {\n",
       "      \n",
       "      if ((window.Bokeh !== undefined) || (force === true)) {\n",
       "        for (var i = 0; i < inline_js.length; i++) {\n",
       "          inline_js[i](window.Bokeh);\n",
       "        }if (force === true) {\n",
       "          display_loaded();\n",
       "        }} else if (Date.now() < window._bokeh_timeout) {\n",
       "        setTimeout(run_inline_js, 100);\n",
       "      } else if (!window._bokeh_failed_load) {\n",
       "        console.log(\"Bokeh: BokehJS failed to load within specified timeout.\");\n",
       "        window._bokeh_failed_load = true;\n",
       "      } else if (force !== true) {\n",
       "        var cell = $(document.getElementById(\"a4c93a9f-9a10-4079-b97e-93695ae882e9\")).parents('.cell').data().cell;\n",
       "        cell.output_area.append_execute_result(NB_LOAD_WARNING)\n",
       "      }\n",
       "  \n",
       "    }\n",
       "  \n",
       "    if (window._bokeh_is_loading === 0) {\n",
       "      console.log(\"Bokeh: BokehJS loaded, going straight to plotting\");\n",
       "      run_inline_js();\n",
       "    } else {\n",
       "      load_libs(js_urls, function() {\n",
       "        console.log(\"Bokeh: BokehJS plotting callback run at\", now());\n",
       "        run_inline_js();\n",
       "      });\n",
       "    }\n",
       "  }(this));\n",
       "</script>"
      ]
     },
     "metadata": {},
     "output_type": "display_data"
    }
   ],
   "source": [
    "hist, edges = np.histogram(list(map(lambda x:x[1],pos_neg_ratios.most_common())), density=True, bins=100, normed=True)\n",
    "# print(hist,edges)\n",
    "p = figure(tools=\"pan,wheel_zoom,reset,save\",\n",
    "           toolbar_location=\"above\",\n",
    "           title=\"Word Positive/Negative Affinity Distribution\")\n",
    "p.quad(top=hist, bottom=0, left=edges[:-1], right=edges[1:], line_color=\"#555555\")\n",
    "show(p)\n"
   ]
  },
  {
   "cell_type": "code",
   "execution_count": 317,
   "metadata": {
    "collapsed": false
   },
   "outputs": [
    {
     "data": {
      "text/html": [
       "\n",
       "\n",
       "    <div class=\"bk-root\">\n",
       "        <div class=\"bk-plotdiv\" id=\"1184694e-1dcc-424e-9c3e-654a8528ff30\"></div>\n",
       "    </div>\n",
       "<script type=\"text/javascript\">\n",
       "  \n",
       "  (function(global) {\n",
       "    function now() {\n",
       "      return new Date();\n",
       "    }\n",
       "  \n",
       "    var force = false;\n",
       "  \n",
       "    if (typeof (window._bokeh_onload_callbacks) === \"undefined\" || force === true) {\n",
       "      window._bokeh_onload_callbacks = [];\n",
       "      window._bokeh_is_loading = undefined;\n",
       "    }\n",
       "  \n",
       "  \n",
       "    \n",
       "    if (typeof (window._bokeh_timeout) === \"undefined\" || force === true) {\n",
       "      window._bokeh_timeout = Date.now() + 0;\n",
       "      window._bokeh_failed_load = false;\n",
       "    }\n",
       "  \n",
       "    var NB_LOAD_WARNING = {'data': {'text/html':\n",
       "       \"<div style='background-color: #fdd'>\\n\"+\n",
       "       \"<p>\\n\"+\n",
       "       \"BokehJS does not appear to have successfully loaded. If loading BokehJS from CDN, this \\n\"+\n",
       "       \"may be due to a slow or bad network connection. Possible fixes:\\n\"+\n",
       "       \"</p>\\n\"+\n",
       "       \"<ul>\\n\"+\n",
       "       \"<li>re-rerun `output_notebook()` to attempt to load from CDN again, or</li>\\n\"+\n",
       "       \"<li>use INLINE resources instead, as so:</li>\\n\"+\n",
       "       \"</ul>\\n\"+\n",
       "       \"<code>\\n\"+\n",
       "       \"from bokeh.resources import INLINE\\n\"+\n",
       "       \"output_notebook(resources=INLINE)\\n\"+\n",
       "       \"</code>\\n\"+\n",
       "       \"</div>\"}};\n",
       "  \n",
       "    function display_loaded() {\n",
       "      if (window.Bokeh !== undefined) {\n",
       "        document.getElementById(\"1184694e-1dcc-424e-9c3e-654a8528ff30\").textContent = \"BokehJS successfully loaded.\";\n",
       "      } else if (Date.now() < window._bokeh_timeout) {\n",
       "        setTimeout(display_loaded, 100)\n",
       "      }\n",
       "    }\n",
       "  \n",
       "    function run_callbacks() {\n",
       "      window._bokeh_onload_callbacks.forEach(function(callback) { callback() });\n",
       "      delete window._bokeh_onload_callbacks\n",
       "      console.info(\"Bokeh: all callbacks have finished\");\n",
       "    }\n",
       "  \n",
       "    function load_libs(js_urls, callback) {\n",
       "      window._bokeh_onload_callbacks.push(callback);\n",
       "      if (window._bokeh_is_loading > 0) {\n",
       "        console.log(\"Bokeh: BokehJS is being loaded, scheduling callback at\", now());\n",
       "        return null;\n",
       "      }\n",
       "      if (js_urls == null || js_urls.length === 0) {\n",
       "        run_callbacks();\n",
       "        return null;\n",
       "      }\n",
       "      console.log(\"Bokeh: BokehJS not loaded, scheduling load and callback at\", now());\n",
       "      window._bokeh_is_loading = js_urls.length;\n",
       "      for (var i = 0; i < js_urls.length; i++) {\n",
       "        var url = js_urls[i];\n",
       "        var s = document.createElement('script');\n",
       "        s.src = url;\n",
       "        s.async = false;\n",
       "        s.onreadystatechange = s.onload = function() {\n",
       "          window._bokeh_is_loading--;\n",
       "          if (window._bokeh_is_loading === 0) {\n",
       "            console.log(\"Bokeh: all BokehJS libraries loaded\");\n",
       "            run_callbacks()\n",
       "          }\n",
       "        };\n",
       "        s.onerror = function() {\n",
       "          console.warn(\"failed to load library \" + url);\n",
       "        };\n",
       "        console.log(\"Bokeh: injecting script tag for BokehJS library: \", url);\n",
       "        document.getElementsByTagName(\"head\")[0].appendChild(s);\n",
       "      }\n",
       "    };var element = document.getElementById(\"1184694e-1dcc-424e-9c3e-654a8528ff30\");\n",
       "    if (element == null) {\n",
       "      console.log(\"Bokeh: ERROR: autoload.js configured with elementid '1184694e-1dcc-424e-9c3e-654a8528ff30' but no matching script tag was found. \")\n",
       "      return false;\n",
       "    }\n",
       "  \n",
       "    var js_urls = [];\n",
       "  \n",
       "    var inline_js = [\n",
       "      function(Bokeh) {\n",
       "        (function() {\n",
       "          var fn = function() {\n",
       "            var docs_json = {\"67b112d6-3882-4752-8599-5e1a81eb5c12\":{\"roots\":{\"references\":[{\"attributes\":{\"plot\":{\"id\":\"d0db1a8a-0ab4-4ba2-8b99-69559dad1ba9\",\"subtype\":\"Figure\",\"type\":\"Plot\"}},\"id\":\"9f1b03a8-a1dc-40a2-a38b-9c1f3bdd4ffb\",\"type\":\"ResetTool\"},{\"attributes\":{\"data_source\":{\"id\":\"5daeef44-9512-4b0d-bf8b-11e98a6a2427\",\"type\":\"ColumnDataSource\"},\"glyph\":{\"id\":\"791b2d8a-f85e-4916-842b-74d731f6fb45\",\"type\":\"Quad\"},\"hover_glyph\":null,\"nonselection_glyph\":{\"id\":\"e5660e27-9ad2-470c-8931-e7b38a7dbd20\",\"type\":\"Quad\"},\"selection_glyph\":null},\"id\":\"281b825f-7bb4-4191-9ca2-3533ff0e4808\",\"type\":\"GlyphRenderer\"},{\"attributes\":{\"bottom\":{\"value\":0},\"fill_color\":{\"value\":\"#1f77b4\"},\"left\":{\"field\":\"left\"},\"line_color\":{\"value\":\"#555555\"},\"right\":{\"field\":\"right\"},\"top\":{\"field\":\"top\"}},\"id\":\"791b2d8a-f85e-4916-842b-74d731f6fb45\",\"type\":\"Quad\"},{\"attributes\":{\"callback\":null,\"column_names\":[\"left\",\"right\",\"top\"],\"data\":{\"left\":{\"__ndarray__\":\"AAAAAAAA8D9SuB6F65lmQFK4HoXriXZAPgrXo3DjgEBSuB6F64GGQGZmZmZmIIxAPgrXo3DfkEBI4XoUrq6TQFK4HoXrfZZAXI/C9ShNmUBmZmZmZhycQHE9Ctej655APgrXo3DdoEDD9ShcD0WiQEjhehSurKNAzczMzEwUpUBSuB6F63umQNejcD2K46dAXI/C9ShLqUDhehSux7KqQGZmZmZmGqxA7FG4HgWCrUBxPQrXo+muQHsUrkehKLBAPgrXo3DcsEAAAAAAQJCxQMP1KFwPRLJAhetRuN73skBI4XoUrquzQArXo3B9X7RAzczMzEwTtUCPwvUoHMe1QFK4HoXrerZAFa5H4bout0DXo3A9iuK3QJqZmZlZlrhAXI/C9ShKuUAfhetR+P25QOF6FK7HsbpApHA9Cpdlu0BmZmZmZhm8QClcj8I1zbxA7FG4HgWBvUCuR+F61DS+QHE9Ctej6L5AMzMzM3Ocv0B7FK5HISjAQFyPwvUIgsBAPgrXo/DbwEAfhetR2DXBQAAAAADAj8FA4XoUrqfpwUDD9Shcj0PCQKRwPQp3ncJAhetRuF73wkBmZmZmRlHDQEjhehQuq8NAKVyPwhUFxEAK16Nw/V7EQOxRuB7luMRAzczMzMwSxUCuR+F6tGzFQI/C9SicxsVAcT0K14MgxkBSuB6Fa3rGQDMzMzNT1MZAFa5H4Toux0D2KFyPIojHQNejcD0K4sdAuB6F6/E7yECamZmZ2ZXIQHsUrkfB78hAXI/C9ahJyUA+CtejkKPJQB+F61F4/clAAAAAAGBXykDhehSuR7HKQMP1KFwvC8tApHA9Chdly0CF61G4/r7LQGZmZmbmGMxASOF6FM5yzEApXI/CtczMQArXo3CdJs1A7FG4HoWAzUDNzMzMbNrNQK5H4XpUNM5Aj8L1KDyOzkBxPQrXI+jOQFK4HoULQs9AMzMzM/Obz0AVrkfh2vXPQHsUrkfhJ9BA7FG4HtVU0EBcj8L1yIHQQM3MzMy8rtBAPgrXo7Db0ECuR+F6pAjRQB+F61GYNdFAj8L1KIxi0UA=\",\"dtype\":\"float64\",\"shape\":[100]},\"right\":{\"__ndarray__\":\"UrgeheuZZkBSuB6F64l2QD4K16Nw44BAUrgeheuBhkBmZmZmZiCMQD4K16Nw35BASOF6FK6uk0BSuB6F632WQFyPwvUoTZlAZmZmZmYcnEBxPQrXo+ueQD4K16Nw3aBAw/UoXA9FokBI4XoUrqyjQM3MzMxMFKVAUrgehet7pkDXo3A9iuOnQFyPwvUoS6lA4XoUrseyqkBmZmZmZhqsQOxRuB4Fgq1AcT0K16PprkB7FK5HoSiwQD4K16Nw3LBAAAAAAECQsUDD9ShcD0SyQIXrUbje97JASOF6FK6rs0AK16NwfV+0QM3MzMxME7VAj8L1KBzHtUBSuB6F63q2QBWuR+G6LrdA16NwPYrit0CamZmZWZa4QFyPwvUoSrlAH4XrUfj9uUDhehSux7G6QKRwPQqXZbtAZmZmZmYZvEApXI/CNc28QOxRuB4Fgb1ArkfhetQ0vkBxPQrXo+i+QDMzMzNznL9AexSuRyEowEBcj8L1CILAQD4K16Pw28BAH4XrUdg1wUAAAAAAwI/BQOF6FK6n6cFAw/UoXI9DwkCkcD0Kd53CQIXrUbhe98JAZmZmZkZRw0BI4XoULqvDQClcj8IVBcRACtejcP1exEDsUbge5bjEQM3MzMzMEsVArkfherRsxUCPwvUonMbFQHE9CteDIMZAUrgehWt6xkAzMzMzU9TGQBWuR+E6LsdA9ihcjyKIx0DXo3A9CuLHQLgehevxO8hAmpmZmdmVyEB7FK5Hwe/IQFyPwvWoSclAPgrXo5CjyUAfhetReP3JQAAAAABgV8pA4XoUrkexykDD9ShcLwvLQKRwPQoXZctAhetRuP6+y0BmZmZm5hjMQEjhehTOcsxAKVyPwrXMzEAK16NwnSbNQOxRuB6FgM1AzczMzGzazUCuR+F6VDTOQI/C9Sg8js5AcT0K1yPozkBSuB6FC0LPQDMzMzPzm89AFa5H4dr1z0B7FK5H4SfQQOxRuB7VVNBAXI/C9ciB0EDNzMzMvK7QQD4K16Ow29BArkfheqQI0UAfhetRmDXRQI/C9SiMYtFAAAAAAICP0UA=\",\"dtype\":\"float64\",\"shape\":[100]},\"top\":{\"__ndarray__\":\"RolWG6whdj9AW8fRkAgNP1iXGEbF4vg+kw+7Li6X4D6TD7suLpfgPo4Puy4ul/A+AAAAAAAAAAAAAAAAAAAAAJMPuy4ul+A+kw+7Li6X4D4AAAAAAAAAAAAAAAAAAAAAAAAAAAAAAAAAAAAAAAAAAAAAAAAAAAAAAAAAAAAAAAAAAAAAAAAAAJMPuy4ul+A+AAAAAAAAAAAAAAAAAAAAAAAAAAAAAAAAAAAAAAAAAAAAAAAAAAAAAAAAAAAAAAAAAAAAAAAAAACID7suLpfgPgAAAAAAAAAAAAAAAAAAAAAAAAAAAAAAAAAAAAAAAAAAAAAAAAAAAAAAAAAAAAAAAAAAAAAAAAAAAAAAAAAAAAAAAAAAAAAAAAAAAAAAAAAAAAAAAAAAAAAAAAAAAAAAAAAAAAAAAAAAAAAAAAAAAAAAAAAAAAAAAAAAAAAAAAAAAAAAAAAAAAAAAAAAAAAAAAAAAAAAAAAAAAAAAAAAAAAAAAAAAAAAAAAAAAAAAAAAAAAAAAAAAAAAAAAAAAAAAAAAAAAAAAAAAAAAAAAAAAAAAAAAAAAAAAAAAAAAAAAAAAAAAAAAAAAAAAAAAAAAAAAAAAAAAAAAAAAAAAAAAAAAAAAAAAAAAAAAAAAAAAAAnw+7Li6X4D4AAAAAAAAAAAAAAAAAAAAAAAAAAAAAAAAAAAAAAAAAAAAAAAAAAAAAAAAAAAAAAAAAAAAAAAAAAAAAAAAAAAAAAAAAAAAAAAAAAAAAAAAAAAAAAAAAAAAAAAAAAAAAAAAAAAAAAAAAAAAAAAAAAAAAAAAAAAAAAAAAAAAAAAAAAAAAAAAAAAAAAAAAAAAAAAAAAAAAAAAAAAAAAAAAAAAAAAAAAAAAAAAAAAAAAAAAAAAAAAAAAAAAAAAAAAAAAAAAAAAAAAAAAAAAAAAAAAAAAAAAAAAAAAAAAAAAAAAAAAAAAAAAAAAAAAAAAAAAAAAAAAAAAAAAAAAAAAAAAAAAAAAAAAAAAAAAAAAAAAAAAAAAAAAAAAAAAAAAAAAAAAAAAAAAAAAAAAAAAAAAAAAAcA+7Li6X4D4=\",\"dtype\":\"float64\",\"shape\":[100]}}},\"id\":\"5daeef44-9512-4b0d-bf8b-11e98a6a2427\",\"type\":\"ColumnDataSource\"},{\"attributes\":{\"callback\":null},\"id\":\"4130eb6a-a2d7-44b1-96ef-7e7d16887df0\",\"type\":\"DataRange1d\"},{\"attributes\":{\"below\":[{\"id\":\"2daaca9b-67a8-4236-9f26-ea17615f863a\",\"type\":\"LinearAxis\"}],\"left\":[{\"id\":\"f0b7d78d-6c76-43c8-b99d-d486c1845cf7\",\"type\":\"LinearAxis\"}],\"renderers\":[{\"id\":\"2daaca9b-67a8-4236-9f26-ea17615f863a\",\"type\":\"LinearAxis\"},{\"id\":\"6e2cd207-8eca-4403-8f22-415e73ca8330\",\"type\":\"Grid\"},{\"id\":\"f0b7d78d-6c76-43c8-b99d-d486c1845cf7\",\"type\":\"LinearAxis\"},{\"id\":\"53e2c96b-09a9-4a48-a52e-dcb74e9d5eee\",\"type\":\"Grid\"},{\"id\":\"281b825f-7bb4-4191-9ca2-3533ff0e4808\",\"type\":\"GlyphRenderer\"}],\"title\":{\"id\":\"de1fbdf5-5097-43c4-8d27-4e20e80c55cb\",\"type\":\"Title\"},\"tool_events\":{\"id\":\"cc794597-aa47-47df-9e17-f56538bcaccb\",\"type\":\"ToolEvents\"},\"toolbar\":{\"id\":\"2eed0866-092d-46ce-aa71-1d69f4dc0fad\",\"type\":\"Toolbar\"},\"toolbar_location\":\"above\",\"x_range\":{\"id\":\"4130eb6a-a2d7-44b1-96ef-7e7d16887df0\",\"type\":\"DataRange1d\"},\"y_range\":{\"id\":\"0d5baf05-a31b-4459-9421-3b6f17031daa\",\"type\":\"DataRange1d\"}},\"id\":\"d0db1a8a-0ab4-4ba2-8b99-69559dad1ba9\",\"subtype\":\"Figure\",\"type\":\"Plot\"},{\"attributes\":{\"plot\":{\"id\":\"d0db1a8a-0ab4-4ba2-8b99-69559dad1ba9\",\"subtype\":\"Figure\",\"type\":\"Plot\"},\"ticker\":{\"id\":\"d6bbda2f-35cb-4b45-b20a-e1237ec21d9e\",\"type\":\"BasicTicker\"}},\"id\":\"6e2cd207-8eca-4403-8f22-415e73ca8330\",\"type\":\"Grid\"},{\"attributes\":{\"formatter\":{\"id\":\"4a4cfe72-3663-4642-8d29-b573c1c81f82\",\"type\":\"BasicTickFormatter\"},\"plot\":{\"id\":\"d0db1a8a-0ab4-4ba2-8b99-69559dad1ba9\",\"subtype\":\"Figure\",\"type\":\"Plot\"},\"ticker\":{\"id\":\"9077e535-90d6-42d6-862c-3487191f282b\",\"type\":\"BasicTicker\"}},\"id\":\"f0b7d78d-6c76-43c8-b99d-d486c1845cf7\",\"type\":\"LinearAxis\"},{\"attributes\":{},\"id\":\"d6bbda2f-35cb-4b45-b20a-e1237ec21d9e\",\"type\":\"BasicTicker\"},{\"attributes\":{\"plot\":{\"id\":\"d0db1a8a-0ab4-4ba2-8b99-69559dad1ba9\",\"subtype\":\"Figure\",\"type\":\"Plot\"}},\"id\":\"ee511a9b-67f1-41bf-9a0b-275ecdd8fd85\",\"type\":\"PanTool\"},{\"attributes\":{\"plot\":null,\"text\":\"The frequency distribution of the words in our corpus\"},\"id\":\"de1fbdf5-5097-43c4-8d27-4e20e80c55cb\",\"type\":\"Title\"},{\"attributes\":{\"formatter\":{\"id\":\"9a68aa24-9b35-472e-b40a-d2c72f5d4319\",\"type\":\"BasicTickFormatter\"},\"plot\":{\"id\":\"d0db1a8a-0ab4-4ba2-8b99-69559dad1ba9\",\"subtype\":\"Figure\",\"type\":\"Plot\"},\"ticker\":{\"id\":\"d6bbda2f-35cb-4b45-b20a-e1237ec21d9e\",\"type\":\"BasicTicker\"}},\"id\":\"2daaca9b-67a8-4236-9f26-ea17615f863a\",\"type\":\"LinearAxis\"},{\"attributes\":{},\"id\":\"9077e535-90d6-42d6-862c-3487191f282b\",\"type\":\"BasicTicker\"},{\"attributes\":{},\"id\":\"9a68aa24-9b35-472e-b40a-d2c72f5d4319\",\"type\":\"BasicTickFormatter\"},{\"attributes\":{\"plot\":{\"id\":\"d0db1a8a-0ab4-4ba2-8b99-69559dad1ba9\",\"subtype\":\"Figure\",\"type\":\"Plot\"}},\"id\":\"9146809a-8492-4333-8774-8aa8f30fd6a4\",\"type\":\"SaveTool\"},{\"attributes\":{},\"id\":\"4a4cfe72-3663-4642-8d29-b573c1c81f82\",\"type\":\"BasicTickFormatter\"},{\"attributes\":{},\"id\":\"cc794597-aa47-47df-9e17-f56538bcaccb\",\"type\":\"ToolEvents\"},{\"attributes\":{\"callback\":null},\"id\":\"0d5baf05-a31b-4459-9421-3b6f17031daa\",\"type\":\"DataRange1d\"},{\"attributes\":{\"dimension\":1,\"plot\":{\"id\":\"d0db1a8a-0ab4-4ba2-8b99-69559dad1ba9\",\"subtype\":\"Figure\",\"type\":\"Plot\"},\"ticker\":{\"id\":\"9077e535-90d6-42d6-862c-3487191f282b\",\"type\":\"BasicTicker\"}},\"id\":\"53e2c96b-09a9-4a48-a52e-dcb74e9d5eee\",\"type\":\"Grid\"},{\"attributes\":{\"bottom\":{\"value\":0},\"fill_alpha\":{\"value\":0.1},\"fill_color\":{\"value\":\"#1f77b4\"},\"left\":{\"field\":\"left\"},\"line_alpha\":{\"value\":0.1},\"line_color\":{\"value\":\"#1f77b4\"},\"right\":{\"field\":\"right\"},\"top\":{\"field\":\"top\"}},\"id\":\"e5660e27-9ad2-470c-8931-e7b38a7dbd20\",\"type\":\"Quad\"},{\"attributes\":{\"active_drag\":\"auto\",\"active_scroll\":\"auto\",\"active_tap\":\"auto\",\"tools\":[{\"id\":\"ee511a9b-67f1-41bf-9a0b-275ecdd8fd85\",\"type\":\"PanTool\"},{\"id\":\"10f8ca2c-2fcc-4c3a-8eb3-8461bd9fa021\",\"type\":\"WheelZoomTool\"},{\"id\":\"9f1b03a8-a1dc-40a2-a38b-9c1f3bdd4ffb\",\"type\":\"ResetTool\"},{\"id\":\"9146809a-8492-4333-8774-8aa8f30fd6a4\",\"type\":\"SaveTool\"}]},\"id\":\"2eed0866-092d-46ce-aa71-1d69f4dc0fad\",\"type\":\"Toolbar\"},{\"attributes\":{\"plot\":{\"id\":\"d0db1a8a-0ab4-4ba2-8b99-69559dad1ba9\",\"subtype\":\"Figure\",\"type\":\"Plot\"}},\"id\":\"10f8ca2c-2fcc-4c3a-8eb3-8461bd9fa021\",\"type\":\"WheelZoomTool\"}],\"root_ids\":[\"d0db1a8a-0ab4-4ba2-8b99-69559dad1ba9\"]},\"title\":\"Bokeh Application\",\"version\":\"0.12.4\"}};\n",
       "            var render_items = [{\"docid\":\"67b112d6-3882-4752-8599-5e1a81eb5c12\",\"elementid\":\"1184694e-1dcc-424e-9c3e-654a8528ff30\",\"modelid\":\"d0db1a8a-0ab4-4ba2-8b99-69559dad1ba9\"}];\n",
       "            \n",
       "            Bokeh.embed.embed_items(docs_json, render_items);\n",
       "          };\n",
       "          if (document.readyState != \"loading\") fn();\n",
       "          else document.addEventListener(\"DOMContentLoaded\", fn);\n",
       "        })();\n",
       "      },\n",
       "      function(Bokeh) {\n",
       "      }\n",
       "    ];\n",
       "  \n",
       "    function run_inline_js() {\n",
       "      \n",
       "      if ((window.Bokeh !== undefined) || (force === true)) {\n",
       "        for (var i = 0; i < inline_js.length; i++) {\n",
       "          inline_js[i](window.Bokeh);\n",
       "        }if (force === true) {\n",
       "          display_loaded();\n",
       "        }} else if (Date.now() < window._bokeh_timeout) {\n",
       "        setTimeout(run_inline_js, 100);\n",
       "      } else if (!window._bokeh_failed_load) {\n",
       "        console.log(\"Bokeh: BokehJS failed to load within specified timeout.\");\n",
       "        window._bokeh_failed_load = true;\n",
       "      } else if (force !== true) {\n",
       "        var cell = $(document.getElementById(\"1184694e-1dcc-424e-9c3e-654a8528ff30\")).parents('.cell').data().cell;\n",
       "        cell.output_area.append_execute_result(NB_LOAD_WARNING)\n",
       "      }\n",
       "  \n",
       "    }\n",
       "  \n",
       "    if (window._bokeh_is_loading === 0) {\n",
       "      console.log(\"Bokeh: BokehJS loaded, going straight to plotting\");\n",
       "      run_inline_js();\n",
       "    } else {\n",
       "      load_libs(js_urls, function() {\n",
       "        console.log(\"Bokeh: BokehJS plotting callback run at\", now());\n",
       "        run_inline_js();\n",
       "      });\n",
       "    }\n",
       "  }(this));\n",
       "</script>"
      ]
     },
     "metadata": {},
     "output_type": "display_data"
    }
   ],
   "source": [
    "frequency_frequency = Counter()\n",
    "\n",
    "for word, cnt in total_counts.most_common():\n",
    "    frequency_frequency[cnt] += 1\n",
    "    \n",
    "hist, edges = np.histogram(list(map(lambda x:x[1],frequency_frequency.most_common())), density=True, bins=100, normed=True)\n",
    "\n",
    "p = figure(tools=\"pan,wheel_zoom,reset,save\",\n",
    "           toolbar_location=\"above\",\n",
    "           title=\"The frequency distribution of the words in our corpus\")\n",
    "p.quad(top=hist, bottom=0, left=edges[:-1], right=edges[1:], line_color=\"#555555\")\n",
    "show(p)    "
   ]
  },
  {
   "cell_type": "markdown",
   "metadata": {},
   "source": [
    "从上面两个图我们可以知道，大多数词出现的次数其实是不到180的，因此我们完全可以把这些词过滤出去\n",
    "另外一个就是在词的分布上，我们可以看到对于一些中间的其实其是比较模糊的词，没有很强的对比性，可能在-0.2到0.2之间的词，我们也不做考虑\n",
    "考虑以上两点，就有了下面的优化"
   ]
  },
  {
   "cell_type": "code",
   "execution_count": 329,
   "metadata": {
    "collapsed": true
   },
   "outputs": [],
   "source": [
    "import time\n",
    "import sys\n",
    "import numpy as np\n",
    "# Let's tweak our network from before to model these phenomena\n",
    "class SentimentNetwork:\n",
    "    def __init__(self, reviews,labels,min_count = 180,polarity_cutoff = 0.1,hidden_nodes = 10, learning_rate = 0.1):\n",
    "       \n",
    "        # set our random number generator \n",
    "        np.random.seed(1)\n",
    "    \n",
    "        self.pre_process_data(reviews, labels, polarity_cutoff, min_count)\n",
    "        \n",
    "        self.init_network(len(self.review_vocab),hidden_nodes, 1, learning_rate)\n",
    "        \n",
    "        \n",
    "    def pre_process_data(self, reviews, labels, polarity_cutoff, min_count):\n",
    "        positive_counts = Counter()\n",
    "        negative_counts = Counter()\n",
    "        total_counts = Counter()\n",
    "\n",
    "        # 计算出 pos 和 neg 中出现的次数\n",
    "        for i in range(len(reviews)):\n",
    "            if(labels[i] == 1):\n",
    "                for word in reviews[i]:\n",
    "                    positive_counts[word] += 1\n",
    "                    total_counts[word] += 1\n",
    "            else:\n",
    "                for word in reviews[i]:\n",
    "                    negative_counts[word] += 1\n",
    "                    total_counts[word] += 1\n",
    "        \n",
    "        pos_neg_ratios = Counter()\n",
    "        # 计算单词在 pos 和 neg 中出现的比率\n",
    "        for term,cnt in list(total_counts.most_common()):\n",
    "            if(cnt >= min_count):\n",
    "                pos_neg_ratio = positive_counts[term] / float(negative_counts[term]+1)\n",
    "                pos_neg_ratios[term] = pos_neg_ratio\n",
    "                \n",
    "        # 转换数据正规化\n",
    "        for word,ratio in pos_neg_ratios.most_common():\n",
    "            if(ratio > 1):\n",
    "                pos_neg_ratios[word] = np.log(ratio)\n",
    "            else:\n",
    "                pos_neg_ratios[word] = -np.log((1 / (ratio + 0.01)))\n",
    "                \n",
    "        review_vocab = set()\n",
    "        for review in reviews:\n",
    "            for word in review:\n",
    "                if(total_counts[word] > min_count):\n",
    "                    if(word in pos_neg_ratios.keys()):\n",
    "                        if((pos_neg_ratios[word] >= polarity_cutoff) or (pos_neg_ratios[word] <= -polarity_cutoff)):\n",
    "                            review_vocab.add(word)\n",
    "                    else:\n",
    "                        review_vocab.add(word)\n",
    "                        \n",
    "        self.review_vocab = list(review_vocab)\n",
    "        \n",
    "#         label_vocab = set()\n",
    "#         for label in labels:\n",
    "#             label_vocab.add(label)\n",
    "        \n",
    "#         self.label_vocab = list(label_vocab)\n",
    "        \n",
    "        self.review_vocab_size = len(self.review_vocab)\n",
    "#         self.label_vocab_size = len(self.label_vocab)\n",
    "        \n",
    "        self.word2index = {}\n",
    "        for i, word in enumerate(self.review_vocab):\n",
    "            self.word2index[word] = i\n",
    "        \n",
    "#         self.label2index = {}\n",
    "#         for i, label in enumerate(self.label_vocab):\n",
    "#             self.label2index[label] = i\n",
    "         \n",
    "        \n",
    "    def init_network(self, input_nodes, hidden_nodes, output_nodes, learning_rate):\n",
    "        # Set number of nodes in input, hidden and output layers.\n",
    "        self.input_nodes = input_nodes\n",
    "        self.hidden_nodes = hidden_nodes\n",
    "        self.output_nodes = output_nodes\n",
    "\n",
    "        # Initialize weights\n",
    "        self.weights_0_1 = np.zeros((self.hidden_nodes,self.input_nodes))\n",
    "    \n",
    "        self.weights_1_2 = np.random.normal(0.0, self.output_nodes**-0.5, \n",
    "                                                (self.output_nodes, self.hidden_nodes))\n",
    "        \n",
    "        self.learning_rate = learning_rate\n",
    "        \n",
    "        self.layer_0 = np.zeros((input_nodes,1))\n",
    "        self.layer_1 = np.zeros((hidden_nodes,1))\n",
    "    \n",
    "        \n",
    "    def update_input_layer(self,review):\n",
    "\n",
    "        # clear out previous state, reset the layer to be all 0s\n",
    "        self.layer_0 *= 0\n",
    "        for word in review:\n",
    "            if(word in self.word2index.keys()):\n",
    "                self.layer_0[self.word2index[word]][0] = 1\n",
    "                \n",
    "#     def get_target_for_label(self,label):\n",
    "#         if(label == 'POSITIVE'):\n",
    "#             return 1\n",
    "#         else:\n",
    "#             return 0\n",
    "        \n",
    "    def sigmoid(self,x):\n",
    "        return 1 / (1 + np.exp(-x))\n",
    "    \n",
    "    \n",
    "    def sigmoid_output_2_derivative(self,output):\n",
    "        return output * (1 - output)\n",
    "    \n",
    "    def train(self, training_reviews_raw, training_labels):\n",
    "        \n",
    "        training_reviews = list()\n",
    "        for review in training_reviews_raw:\n",
    "            indices = set()\n",
    "            for word in review:\n",
    "                if(word in self.word2index.keys()):\n",
    "                    indices.add(self.word2index[word])\n",
    "            training_reviews.append(list(indices))\n",
    "        \n",
    "        assert(len(training_reviews) == len(training_labels))\n",
    "        \n",
    "        correct_so_far = 0\n",
    "        \n",
    "        start = time.time()\n",
    "        \n",
    "        for i in range(len(training_reviews)):\n",
    "            \n",
    "            review = training_reviews[i]\n",
    "            label = training_labels[i]\n",
    "            \n",
    "            #### Implement the forward pass here ####\n",
    "            ### Forward pass ###\n",
    "\n",
    "            # Input Layer\n",
    "#             self.update_input_layer(review)\n",
    "#             layer_0 = self.layer_0\n",
    "            # Hidden layer\n",
    "#             layer_1 = self.weights_0_1.dot(self.layer_0)\n",
    "            self.layer_1 *= 0\n",
    "            for index in review:\n",
    "                self.layer_1 += self.weights_0_1[:,[index]]\n",
    "\n",
    "            # Output layer\n",
    "            layer_2 = self.sigmoid(self.weights_1_2.dot(self.layer_1))\n",
    "\n",
    "            #### Implement the backward pass here ####\n",
    "            ### Backward pass ###\n",
    "\n",
    "            # TODO: Output error\n",
    "            layer_2_error = layer_2 - label # Output layer error is the difference between desired target and actual output.\n",
    "            layer_2_delta = layer_2_error * self.sigmoid_output_2_derivative(layer_2)\n",
    "\n",
    "            # TODO: Backpropagated error\n",
    "            layer_1_error = self.weights_1_2.T.dot(layer_2_delta) # errors propagated to the hidden layer\n",
    "            layer_1_delta = layer_1_error # hidden layer gradients - no nonlinearity so it's the same as the error\n",
    "\n",
    "            # TODO: Update the weights\n",
    "            self.weights_1_2 -= layer_2_delta.dot(self.layer_1.T) * self.learning_rate # update hidden-to-output weights with gradient descent step\n",
    "#             self.weights_0_1 -= layer_1_delta.dot(self.layer_0.T) * self.learning_rate # update input-to-hidden weights with gradient descent step\n",
    "            for index in review:\n",
    "                self.weights_0_1[:,[index]] -= layer_1_delta * self.learning_rate\n",
    "\n",
    "            if(np.abs(layer_2_error) < 0.5):\n",
    "                correct_so_far += 1\n",
    "            \n",
    "            reviews_per_second = i / float(time.time() - start)\n",
    "            \n",
    "            sys.stdout.write(\"\\rProgress:\" + __builtins__.str(100 * i/float(len(training_reviews)))[:4] + \"% Speed(reviews/sec):\" + __builtins__.str(reviews_per_second)[0:5] + \" #Correct:\" + __builtins__.str(correct_so_far) + \" #Trained:\" + __builtins__.str(i+1) + \" Training Accuracy:\" + __builtins__.str(correct_so_far * 100 / float(i+1))[:4] + \"%\")\n",
    "            if(i % 2500 == 0):\n",
    "                print(\"\")\n",
    "    \n",
    "    def test(self, testing_reviews, testing_labels):\n",
    "        \n",
    "        correct = 0\n",
    "        \n",
    "        start = time.time()\n",
    "        \n",
    "        for i in range(len(testing_reviews)):\n",
    "            pred = self.run(testing_reviews[i])\n",
    "            if(pred == testing_labels[i]):\n",
    "                correct += 1\n",
    "            \n",
    "            reviews_per_second = i / float(time.time() - start)\n",
    "            \n",
    "            sys.stdout.write(\"\\rProgress:\" + __builtins__.str(100 * i/float(len(testing_reviews)))[:4] \\\n",
    "                             + \"% Speed(reviews/sec):\" + __builtins__.str(reviews_per_second)[0:5] \\\n",
    "                            + \"% #Correct:\" + __builtins__.str(correct) + \" #Tested:\" + __builtins__.str(i+1) + \" Testing Accuracy:\" + __builtins__.str(correct * 100 / float(i+1))[:4] + \"%\")\n",
    "            \n",
    "    def run(self, review):\n",
    "        \n",
    "        # Input Layer\n",
    "#         print(review)\n",
    "        self.update_input_layer(review)\n",
    "#         print(self.layer_0.shape)\n",
    "#         print(self.weights_0_1.shape)\n",
    "#         print(np.dot(self.weights_0_1,self.layer_0))\n",
    "        # Hidden layer\n",
    "        layer_1 = self.weights_0_1.dot(self.layer_0)\n",
    "\n",
    "        # Output layer\n",
    "        layer_2 = self.sigmoid(self.weights_1_2.dot(layer_1))\n",
    "#         print(layer_2) # 发现一只0.5呢\n",
    "        if(layer_2[0] > 0.5):\n",
    "            return 1\n",
    "        else:\n",
    "            return 0"
   ]
  },
  {
   "cell_type": "code",
   "execution_count": 330,
   "metadata": {
    "collapsed": false
   },
   "outputs": [],
   "source": [
    "mlp = SentimentNetwork(reviews[:-1000],labels[:-1000],min_count=180,polarity_cutoff=0.1,learning_rate=0.1)"
   ]
  },
  {
   "cell_type": "code",
   "execution_count": 331,
   "metadata": {
    "collapsed": false
   },
   "outputs": [
    {
     "name": "stdout",
     "output_type": "stream",
     "text": [
      "Progress:0.0% Speed(reviews/sec):0.0 #Correct:0 #Trained:1 Training Accuracy:0.0%\n",
      "Progress:12.4% Speed(reviews/sec):1077. #Correct:1865 #Trained:2501 Training Accuracy:74.5%\n",
      "Progress:24.8% Speed(reviews/sec):1131. #Correct:3854 #Trained:5001 Training Accuracy:77.0%\n",
      "Progress:37.3% Speed(reviews/sec):1214. #Correct:5898 #Trained:7501 Training Accuracy:78.6%\n",
      "Progress:49.7% Speed(reviews/sec):1218. #Correct:7972 #Trained:10001 Training Accuracy:79.7%\n",
      "Progress:62.1% Speed(reviews/sec):1229. #Correct:10040 #Trained:12501 Training Accuracy:80.3%\n",
      "Progress:74.6% Speed(reviews/sec):1229. #Correct:12111 #Trained:15001 Training Accuracy:80.7%\n",
      "Progress:87.0% Speed(reviews/sec):1243. #Correct:14210 #Trained:17501 Training Accuracy:81.1%\n",
      "Progress:99.4% Speed(reviews/sec):1221. #Correct:16314 #Trained:20001 Training Accuracy:81.5%\n",
      "Progress:99.9% Speed(reviews/sec):1223. #Correct:16397 #Trained:20105 Training Accuracy:81.5%"
     ]
    }
   ],
   "source": [
    "mlp.train(reviews[:-1000],labels[:-1000])"
   ]
  },
  {
   "cell_type": "markdown",
   "metadata": {},
   "source": [
    "进行到这，处理速度是快了，但是准确率不高。囧\n",
    "## 分析：weights发生了什么\n",
    "我们来分析下，在不断训练过程中，weight是怎么变化的\n",
    "一个预测是词义相同的词应该对于最终的贡献是相当的，那weight值也应该是差不多的，让我们来验证下"
   ]
  },
  {
   "cell_type": "code",
   "execution_count": 332,
   "metadata": {
    "collapsed": true
   },
   "outputs": [],
   "source": [
    "mlp_full = SentimentNetwork(reviews[:-1000],labels[:-1000],min_count=0,polarity_cutoff=0,learning_rate=0.1)"
   ]
  },
  {
   "cell_type": "code",
   "execution_count": 333,
   "metadata": {
    "collapsed": false
   },
   "outputs": [
    {
     "name": "stdout",
     "output_type": "stream",
     "text": [
      "Progress:0.0% Speed(reviews/sec):0.0 #Correct:0 #Trained:1 Training Accuracy:0.0%\n",
      "Progress:12.4% Speed(reviews/sec):729.0 #Correct:1881 #Trained:2501 Training Accuracy:75.2%\n",
      "Progress:24.8% Speed(reviews/sec):657.7 #Correct:3959 #Trained:5001 Training Accuracy:79.1%\n",
      "Progress:37.3% Speed(reviews/sec):647.5 #Correct:6077 #Trained:7501 Training Accuracy:81.0%\n",
      "Progress:49.7% Speed(reviews/sec):638.3 #Correct:8238 #Trained:10001 Training Accuracy:82.3%\n",
      "Progress:62.1% Speed(reviews/sec):644.2 #Correct:10431 #Trained:12501 Training Accuracy:83.4%\n",
      "Progress:74.6% Speed(reviews/sec):653.8 #Correct:12607 #Trained:15001 Training Accuracy:84.0%\n",
      "Progress:87.0% Speed(reviews/sec):659.0 #Correct:14827 #Trained:17501 Training Accuracy:84.7%\n",
      "Progress:99.4% Speed(reviews/sec):658.7 #Correct:17034 #Trained:20001 Training Accuracy:85.1%\n",
      "Progress:99.9% Speed(reviews/sec):658.8 #Correct:17122 #Trained:20105 Training Accuracy:85.1%"
     ]
    }
   ],
   "source": [
    "mlp_full.train(reviews[:-1000],labels[:-1000])"
   ]
  },
  {
   "cell_type": "code",
   "execution_count": 392,
   "metadata": {
    "collapsed": false
   },
   "outputs": [],
   "source": [
    "def get_most_similar_words(focus = \"快乐\"):\n",
    "    most_similar = Counter()\n",
    "\n",
    "    for word in mlp_full.word2index.keys():\n",
    "        most_similar[word] = np.dot(mlp_full.weights_0_1[:,mlp_full.word2index[word]],mlp_full.weights_0_1[:,mlp_full.word2index[focus]])\n",
    "    \n",
    "    return most_similar.most_common()"
   ]
  },
  {
   "cell_type": "code",
   "execution_count": 410,
   "metadata": {
    "collapsed": false
   },
   "outputs": [
    {
     "data": {
      "text/plain": [
       "[('不错', 0.33538066226583924),\n",
       " ('配置', 0.25838511832658073),\n",
       " ('很快', 0.23718560658398344),\n",
       " ('外观', 0.22438845743883634),\n",
       " ('性价比', 0.21692741585717784),\n",
       " ('感动', 0.20675190024284118),\n",
       " ('感谢', 0.20565860660647881),\n",
       " ('很漂亮', 0.20487517481149334),\n",
       " ('光明', 0.20001075298186977),\n",
       " ('漂亮', 0.19736937455766837)]"
      ]
     },
     "execution_count": 410,
     "metadata": {},
     "output_type": "execute_result"
    }
   ],
   "source": [
    "get_most_similar_words(\"快乐\")[:10]"
   ]
  },
  {
   "cell_type": "code",
   "execution_count": 411,
   "metadata": {
    "collapsed": false
   },
   "outputs": [
    {
     "data": {
      "text/plain": [
       "[('失望', 0.85875815559965318),\n",
       " ('差', 0.6900918464910496),\n",
       " ('抵制', 0.64737891767552369),\n",
       " ('很差', 0.61566873849650305),\n",
       " ('不如', 0.59475802794155375),\n",
       " ('垃圾', 0.57265810403945516),\n",
       " ('内容', 0.5178029813713555),\n",
       " ('不', 0.49460849862501899),\n",
       " ('不够', 0.49421096739949072),\n",
       " ('根本', 0.49069603367023529)]"
      ]
     },
     "execution_count": 411,
     "metadata": {},
     "output_type": "execute_result"
    }
   ],
   "source": [
    "get_most_similar_words(\"很差\")[:10]"
   ]
  },
  {
   "cell_type": "markdown",
   "metadata": {},
   "source": [
    "从上面可以看到通过weight相似度还是能很好的区分出相近的词的\n",
    "最后我们再来看一个图，能更直观的看清楚"
   ]
  },
  {
   "cell_type": "code",
   "execution_count": 395,
   "metadata": {
    "collapsed": false
   },
   "outputs": [],
   "source": [
    "import matplotlib.colors as colors\n",
    "\n",
    "words_to_visualize = list()\n",
    "for word, ratio in pos_neg_ratios.most_common(500):\n",
    "    if(word in mlp_full.word2index.keys()):\n",
    "        words_to_visualize.append(word)\n",
    "    \n",
    "for word, ratio in list(reversed(pos_neg_ratios.most_common()))[0:500]:\n",
    "    if(word in mlp_full.word2index.keys()):\n",
    "        words_to_visualize.append(word)     "
   ]
  },
  {
   "cell_type": "code",
   "execution_count": 350,
   "metadata": {
    "collapsed": false
   },
   "outputs": [],
   "source": [
    "# len(words_to_visualize)"
   ]
  },
  {
   "cell_type": "code",
   "execution_count": 396,
   "metadata": {
    "collapsed": false
   },
   "outputs": [],
   "source": [
    "pos = 0\n",
    "neg = 0\n",
    "\n",
    "colors_list = list()\n",
    "vectors_list = list()\n",
    "for word in words_to_visualize:\n",
    "    if word in pos_neg_ratios.keys():\n",
    "        vectors_list.append(mlp_full.weights_0_1[:,mlp_full.word2index[word]])\n",
    "        if(pos_neg_ratios[word] > 0):\n",
    "            pos+=1\n",
    "            colors_list.append(\"#00ff00\")\n",
    "        else:\n",
    "            neg+=1\n",
    "            colors_list.append(\"#000000\")"
   ]
  },
  {
   "cell_type": "code",
   "execution_count": 388,
   "metadata": {
    "collapsed": false
   },
   "outputs": [],
   "source": [
    "# vectors_list"
   ]
  },
  {
   "cell_type": "code",
   "execution_count": 397,
   "metadata": {
    "collapsed": false
   },
   "outputs": [],
   "source": [
    "from sklearn.manifold import TSNE\n",
    "tsne = TSNE(n_components=2, random_state=0)\n",
    "words_top_ted_tsne = tsne.fit_transform(vectors_list)"
   ]
  },
  {
   "cell_type": "code",
   "execution_count": 400,
   "metadata": {
    "collapsed": false
   },
   "outputs": [
    {
     "name": "stderr",
     "output_type": "stream",
     "text": [
      "/Users/zhuanxu/anaconda/envs/linear_regression_demo/lib/python3.6/site-packages/bokeh/util/deprecation.py:34: BokehDeprecationWarning: \n",
      "Supplying a user-defined data source AND iterable values to glyph methods is deprecated.\n",
      "\n",
      "See https://github.com/bokeh/bokeh/issues/2056 for more information.\n",
      "\n",
      "  warn(message)\n",
      "/Users/zhuanxu/anaconda/envs/linear_regression_demo/lib/python3.6/site-packages/bokeh/util/deprecation.py:34: BokehDeprecationWarning: \n",
      "Supplying a user-defined data source AND iterable values to glyph methods is deprecated.\n",
      "\n",
      "See https://github.com/bokeh/bokeh/issues/2056 for more information.\n",
      "\n",
      "  warn(message)\n"
     ]
    },
    {
     "data": {
      "text/html": [
       "\n",
       "\n",
       "    <div class=\"bk-root\">\n",
       "        <div class=\"bk-plotdiv\" id=\"b90deed0-8019-4d5f-9b59-6d3ca8dc9f94\"></div>\n",
       "    </div>\n",
       "<script type=\"text/javascript\">\n",
       "  \n",
       "  (function(global) {\n",
       "    function now() {\n",
       "      return new Date();\n",
       "    }\n",
       "  \n",
       "    var force = false;\n",
       "  \n",
       "    if (typeof (window._bokeh_onload_callbacks) === \"undefined\" || force === true) {\n",
       "      window._bokeh_onload_callbacks = [];\n",
       "      window._bokeh_is_loading = undefined;\n",
       "    }\n",
       "  \n",
       "  \n",
       "    \n",
       "    if (typeof (window._bokeh_timeout) === \"undefined\" || force === true) {\n",
       "      window._bokeh_timeout = Date.now() + 0;\n",
       "      window._bokeh_failed_load = false;\n",
       "    }\n",
       "  \n",
       "    var NB_LOAD_WARNING = {'data': {'text/html':\n",
       "       \"<div style='background-color: #fdd'>\\n\"+\n",
       "       \"<p>\\n\"+\n",
       "       \"BokehJS does not appear to have successfully loaded. If loading BokehJS from CDN, this \\n\"+\n",
       "       \"may be due to a slow or bad network connection. Possible fixes:\\n\"+\n",
       "       \"</p>\\n\"+\n",
       "       \"<ul>\\n\"+\n",
       "       \"<li>re-rerun `output_notebook()` to attempt to load from CDN again, or</li>\\n\"+\n",
       "       \"<li>use INLINE resources instead, as so:</li>\\n\"+\n",
       "       \"</ul>\\n\"+\n",
       "       \"<code>\\n\"+\n",
       "       \"from bokeh.resources import INLINE\\n\"+\n",
       "       \"output_notebook(resources=INLINE)\\n\"+\n",
       "       \"</code>\\n\"+\n",
       "       \"</div>\"}};\n",
       "  \n",
       "    function display_loaded() {\n",
       "      if (window.Bokeh !== undefined) {\n",
       "        document.getElementById(\"b90deed0-8019-4d5f-9b59-6d3ca8dc9f94\").textContent = \"BokehJS successfully loaded.\";\n",
       "      } else if (Date.now() < window._bokeh_timeout) {\n",
       "        setTimeout(display_loaded, 100)\n",
       "      }\n",
       "    }\n",
       "  \n",
       "    function run_callbacks() {\n",
       "      window._bokeh_onload_callbacks.forEach(function(callback) { callback() });\n",
       "      delete window._bokeh_onload_callbacks\n",
       "      console.info(\"Bokeh: all callbacks have finished\");\n",
       "    }\n",
       "  \n",
       "    function load_libs(js_urls, callback) {\n",
       "      window._bokeh_onload_callbacks.push(callback);\n",
       "      if (window._bokeh_is_loading > 0) {\n",
       "        console.log(\"Bokeh: BokehJS is being loaded, scheduling callback at\", now());\n",
       "        return null;\n",
       "      }\n",
       "      if (js_urls == null || js_urls.length === 0) {\n",
       "        run_callbacks();\n",
       "        return null;\n",
       "      }\n",
       "      console.log(\"Bokeh: BokehJS not loaded, scheduling load and callback at\", now());\n",
       "      window._bokeh_is_loading = js_urls.length;\n",
       "      for (var i = 0; i < js_urls.length; i++) {\n",
       "        var url = js_urls[i];\n",
       "        var s = document.createElement('script');\n",
       "        s.src = url;\n",
       "        s.async = false;\n",
       "        s.onreadystatechange = s.onload = function() {\n",
       "          window._bokeh_is_loading--;\n",
       "          if (window._bokeh_is_loading === 0) {\n",
       "            console.log(\"Bokeh: all BokehJS libraries loaded\");\n",
       "            run_callbacks()\n",
       "          }\n",
       "        };\n",
       "        s.onerror = function() {\n",
       "          console.warn(\"failed to load library \" + url);\n",
       "        };\n",
       "        console.log(\"Bokeh: injecting script tag for BokehJS library: \", url);\n",
       "        document.getElementsByTagName(\"head\")[0].appendChild(s);\n",
       "      }\n",
       "    };var element = document.getElementById(\"b90deed0-8019-4d5f-9b59-6d3ca8dc9f94\");\n",
       "    if (element == null) {\n",
       "      console.log(\"Bokeh: ERROR: autoload.js configured with elementid 'b90deed0-8019-4d5f-9b59-6d3ca8dc9f94' but no matching script tag was found. \")\n",
       "      return false;\n",
       "    }\n",
       "  \n",
       "    var js_urls = [];\n",
       "  \n",
       "    var inline_js = [\n",
       "      function(Bokeh) {\n",
       "        (function() {\n",
       "          var fn = function() {\n",
       "            var docs_json = {\"4d51a1e4-b66c-403b-a3d3-0da9129edeb7\":{\"roots\":{\"references\":[{\"attributes\":{\"callback\":null,\"column_names\":[\"x1\",\"x2\",\"names\",\"fill_color\",\"line_color\"],\"data\":{\"fill_color\":[\"#00ff00\",\"#00ff00\",\"#00ff00\",\"#00ff00\",\"#00ff00\",\"#00ff00\",\"#00ff00\",\"#00ff00\",\"#00ff00\",\"#00ff00\",\"#00ff00\",\"#00ff00\",\"#00ff00\",\"#00ff00\",\"#00ff00\",\"#00ff00\",\"#00ff00\",\"#00ff00\",\"#00ff00\",\"#00ff00\",\"#00ff00\",\"#00ff00\",\"#00ff00\",\"#00ff00\",\"#00ff00\",\"#00ff00\",\"#00ff00\",\"#00ff00\",\"#00ff00\",\"#00ff00\",\"#00ff00\",\"#00ff00\",\"#00ff00\",\"#00ff00\",\"#00ff00\",\"#00ff00\",\"#00ff00\",\"#00ff00\",\"#00ff00\",\"#00ff00\",\"#00ff00\",\"#00ff00\",\"#00ff00\",\"#00ff00\",\"#00ff00\",\"#00ff00\",\"#00ff00\",\"#00ff00\",\"#00ff00\",\"#00ff00\",\"#00ff00\",\"#00ff00\",\"#00ff00\",\"#00ff00\",\"#00ff00\",\"#00ff00\",\"#00ff00\",\"#00ff00\",\"#00ff00\",\"#00ff00\",\"#00ff00\",\"#00ff00\",\"#00ff00\",\"#00ff00\",\"#00ff00\",\"#00ff00\",\"#00ff00\",\"#00ff00\",\"#00ff00\",\"#00ff00\",\"#00ff00\",\"#00ff00\",\"#00ff00\",\"#00ff00\",\"#00ff00\",\"#00ff00\",\"#00ff00\",\"#00ff00\",\"#00ff00\",\"#00ff00\",\"#00ff00\",\"#00ff00\",\"#00ff00\",\"#00ff00\",\"#00ff00\",\"#00ff00\",\"#00ff00\",\"#00ff00\",\"#00ff00\",\"#00ff00\",\"#00ff00\",\"#00ff00\",\"#00ff00\",\"#00ff00\",\"#00ff00\",\"#00ff00\",\"#00ff00\",\"#00ff00\",\"#00ff00\",\"#00ff00\",\"#00ff00\",\"#00ff00\",\"#00ff00\",\"#00ff00\",\"#00ff00\",\"#00ff00\",\"#00ff00\",\"#00ff00\",\"#00ff00\",\"#00ff00\",\"#00ff00\",\"#00ff00\",\"#00ff00\",\"#00ff00\",\"#00ff00\",\"#00ff00\",\"#00ff00\",\"#00ff00\",\"#00ff00\",\"#00ff00\",\"#00ff00\",\"#00ff00\",\"#00ff00\",\"#00ff00\",\"#00ff00\",\"#00ff00\",\"#00ff00\",\"#00ff00\",\"#00ff00\",\"#00ff00\",\"#00ff00\",\"#00ff00\",\"#00ff00\",\"#00ff00\",\"#00ff00\",\"#00ff00\",\"#00ff00\",\"#00ff00\",\"#00ff00\",\"#00ff00\",\"#00ff00\",\"#00ff00\",\"#00ff00\",\"#00ff00\",\"#00ff00\",\"#00ff00\",\"#00ff00\",\"#00ff00\",\"#00ff00\",\"#00ff00\",\"#00ff00\",\"#00ff00\",\"#00ff00\",\"#00ff00\",\"#00ff00\",\"#00ff00\",\"#00ff00\",\"#00ff00\",\"#00ff00\",\"#00ff00\",\"#00ff00\",\"#00ff00\",\"#00ff00\",\"#00ff00\",\"#00ff00\",\"#00ff00\",\"#00ff00\",\"#00ff00\",\"#00ff00\",\"#00ff00\",\"#00ff00\",\"#00ff00\",\"#00ff00\",\"#00ff00\",\"#00ff00\",\"#00ff00\",\"#00ff00\",\"#00ff00\",\"#00ff00\",\"#00ff00\",\"#00ff00\",\"#00ff00\",\"#00ff00\",\"#00ff00\",\"#00ff00\",\"#00ff00\",\"#00ff00\",\"#00ff00\",\"#00ff00\",\"#00ff00\",\"#00ff00\",\"#00ff00\",\"#00ff00\",\"#00ff00\",\"#00ff00\",\"#00ff00\",\"#00ff00\",\"#00ff00\",\"#00ff00\",\"#00ff00\",\"#00ff00\",\"#00ff00\",\"#00ff00\",\"#00ff00\",\"#00ff00\",\"#00ff00\",\"#00ff00\",\"#00ff00\",\"#00ff00\",\"#00ff00\",\"#00ff00\",\"#00ff00\",\"#00ff00\",\"#00ff00\",\"#00ff00\",\"#00ff00\",\"#00ff00\",\"#00ff00\",\"#00ff00\",\"#00ff00\",\"#00ff00\",\"#00ff00\",\"#00ff00\",\"#00ff00\",\"#00ff00\",\"#00ff00\",\"#00ff00\",\"#00ff00\",\"#00ff00\",\"#00ff00\",\"#00ff00\",\"#00ff00\",\"#00ff00\",\"#00ff00\",\"#00ff00\",\"#00ff00\",\"#00ff00\",\"#00ff00\",\"#00ff00\",\"#00ff00\",\"#00ff00\",\"#00ff00\",\"#00ff00\",\"#00ff00\",\"#00ff00\",\"#00ff00\",\"#00ff00\",\"#00ff00\",\"#00ff00\",\"#00ff00\",\"#00ff00\",\"#00ff00\",\"#00ff00\",\"#00ff00\",\"#00ff00\",\"#00ff00\",\"#00ff00\",\"#00ff00\",\"#00ff00\",\"#00ff00\",\"#00ff00\",\"#00ff00\",\"#00ff00\",\"#00ff00\",\"#00ff00\",\"#00ff00\",\"#00ff00\",\"#00ff00\",\"#00ff00\",\"#00ff00\",\"#00ff00\",\"#00ff00\",\"#00ff00\",\"#00ff00\",\"#00ff00\",\"#00ff00\",\"#00ff00\",\"#00ff00\",\"#00ff00\",\"#00ff00\",\"#00ff00\",\"#00ff00\",\"#00ff00\",\"#00ff00\",\"#00ff00\",\"#00ff00\",\"#00ff00\",\"#00ff00\",\"#00ff00\",\"#00ff00\",\"#00ff00\",\"#00ff00\",\"#00ff00\",\"#00ff00\",\"#00ff00\",\"#00ff00\",\"#00ff00\",\"#00ff00\",\"#00ff00\",\"#00ff00\",\"#00ff00\",\"#00ff00\",\"#00ff00\",\"#00ff00\",\"#00ff00\",\"#00ff00\",\"#00ff00\",\"#00ff00\",\"#00ff00\",\"#00ff00\",\"#00ff00\",\"#00ff00\",\"#00ff00\",\"#00ff00\",\"#00ff00\",\"#00ff00\",\"#00ff00\",\"#00ff00\",\"#00ff00\",\"#00ff00\",\"#00ff00\",\"#00ff00\",\"#00ff00\",\"#00ff00\",\"#00ff00\",\"#00ff00\",\"#00ff00\",\"#00ff00\",\"#00ff00\",\"#00ff00\",\"#00ff00\",\"#00ff00\",\"#00ff00\",\"#00ff00\",\"#00ff00\",\"#00ff00\",\"#00ff00\",\"#00ff00\",\"#00ff00\",\"#00ff00\",\"#00ff00\",\"#00ff00\",\"#00ff00\",\"#00ff00\",\"#00ff00\",\"#00ff00\",\"#00ff00\",\"#00ff00\",\"#00ff00\",\"#00ff00\",\"#00ff00\",\"#00ff00\",\"#00ff00\",\"#00ff00\",\"#00ff00\",\"#00ff00\",\"#00ff00\",\"#00ff00\",\"#00ff00\",\"#00ff00\",\"#00ff00\",\"#00ff00\",\"#00ff00\",\"#00ff00\",\"#00ff00\",\"#00ff00\",\"#00ff00\",\"#00ff00\",\"#00ff00\",\"#00ff00\",\"#00ff00\",\"#00ff00\",\"#00ff00\",\"#00ff00\",\"#00ff00\",\"#00ff00\",\"#00ff00\",\"#00ff00\",\"#00ff00\",\"#00ff00\",\"#00ff00\",\"#00ff00\",\"#00ff00\",\"#00ff00\",\"#00ff00\",\"#00ff00\",\"#00ff00\",\"#00ff00\",\"#00ff00\",\"#00ff00\",\"#00ff00\",\"#00ff00\",\"#00ff00\",\"#00ff00\",\"#00ff00\",\"#00ff00\",\"#00ff00\",\"#00ff00\",\"#00ff00\",\"#00ff00\",\"#00ff00\",\"#00ff00\",\"#00ff00\",\"#00ff00\",\"#00ff00\",\"#00ff00\",\"#00ff00\",\"#00ff00\",\"#00ff00\",\"#00ff00\",\"#00ff00\",\"#00ff00\",\"#00ff00\",\"#00ff00\",\"#00ff00\",\"#00ff00\",\"#00ff00\",\"#00ff00\",\"#00ff00\",\"#00ff00\",\"#00ff00\",\"#00ff00\",\"#00ff00\",\"#00ff00\",\"#00ff00\",\"#00ff00\",\"#00ff00\",\"#00ff00\",\"#00ff00\",\"#00ff00\",\"#00ff00\",\"#00ff00\",\"#00ff00\",\"#00ff00\",\"#00ff00\",\"#00ff00\",\"#00ff00\",\"#00ff00\",\"#00ff00\",\"#00ff00\",\"#00ff00\",\"#00ff00\",\"#00ff00\",\"#00ff00\",\"#00ff00\",\"#00ff00\",\"#00ff00\",\"#00ff00\",\"#00ff00\",\"#00ff00\",\"#00ff00\",\"#00ff00\",\"#00ff00\",\"#00ff00\",\"#00ff00\",\"#00ff00\",\"#00ff00\",\"#00ff00\",\"#00ff00\",\"#00ff00\",\"#00ff00\",\"#00ff00\",\"#00ff00\",\"#00ff00\",\"#00ff00\",\"#00ff00\",\"#00ff00\",\"#00ff00\",\"#00ff00\",\"#00ff00\",\"#00ff00\",\"#00ff00\",\"#00ff00\",\"#00ff00\",\"#00ff00\",\"#00ff00\",\"#00ff00\",\"#00ff00\",\"#00ff00\",\"#00ff00\",\"#00ff00\",\"#00ff00\",\"#00ff00\",\"#00ff00\",\"#00ff00\",\"#00ff00\",\"#00ff00\",\"#00ff00\",\"#00ff00\",\"#00ff00\",\"#00ff00\",\"#00ff00\",\"#00ff00\",\"#00ff00\",\"#00ff00\",\"#00ff00\",\"#00ff00\",\"#00ff00\",\"#00ff00\",\"#00ff00\",\"#000000\",\"#000000\",\"#000000\",\"#000000\",\"#000000\",\"#000000\",\"#000000\",\"#000000\",\"#000000\",\"#000000\",\"#000000\",\"#000000\",\"#000000\",\"#000000\",\"#000000\",\"#000000\",\"#000000\",\"#000000\",\"#000000\",\"#000000\",\"#000000\",\"#000000\",\"#000000\",\"#000000\",\"#000000\",\"#000000\",\"#000000\",\"#000000\",\"#000000\",\"#000000\",\"#000000\",\"#000000\",\"#000000\",\"#000000\",\"#000000\",\"#000000\",\"#000000\",\"#000000\",\"#000000\",\"#000000\",\"#000000\",\"#000000\",\"#000000\",\"#000000\",\"#000000\",\"#000000\",\"#000000\",\"#000000\",\"#000000\",\"#000000\",\"#000000\",\"#000000\",\"#000000\",\"#000000\",\"#000000\",\"#000000\",\"#000000\",\"#000000\",\"#000000\",\"#000000\",\"#000000\",\"#000000\",\"#000000\",\"#000000\",\"#000000\",\"#000000\",\"#000000\",\"#000000\",\"#000000\",\"#000000\",\"#000000\",\"#000000\",\"#000000\",\"#000000\",\"#000000\",\"#000000\",\"#000000\",\"#000000\",\"#000000\",\"#000000\",\"#000000\",\"#000000\",\"#000000\",\"#000000\",\"#000000\",\"#000000\",\"#000000\",\"#000000\",\"#000000\",\"#000000\",\"#000000\",\"#000000\",\"#000000\",\"#000000\",\"#000000\",\"#000000\",\"#000000\",\"#000000\",\"#000000\",\"#000000\",\"#000000\",\"#000000\",\"#000000\",\"#000000\",\"#000000\",\"#000000\",\"#000000\",\"#000000\",\"#000000\",\"#000000\",\"#000000\",\"#000000\",\"#000000\",\"#000000\",\"#000000\",\"#000000\",\"#000000\",\"#000000\",\"#000000\",\"#000000\",\"#000000\",\"#000000\",\"#000000\",\"#000000\",\"#000000\",\"#000000\",\"#000000\",\"#000000\",\"#000000\",\"#000000\",\"#000000\",\"#000000\",\"#000000\",\"#000000\",\"#000000\",\"#000000\",\"#000000\",\"#000000\",\"#000000\",\"#000000\",\"#000000\",\"#000000\",\"#000000\",\"#000000\",\"#000000\",\"#000000\",\"#000000\",\"#000000\",\"#000000\",\"#000000\",\"#000000\",\"#000000\",\"#000000\",\"#000000\",\"#000000\",\"#000000\",\"#000000\",\"#000000\",\"#000000\",\"#000000\",\"#000000\",\"#000000\",\"#000000\",\"#000000\",\"#000000\",\"#000000\",\"#000000\",\"#000000\",\"#000000\",\"#000000\",\"#000000\",\"#000000\",\"#000000\",\"#000000\",\"#000000\",\"#000000\",\"#000000\",\"#000000\",\"#000000\",\"#000000\",\"#000000\",\"#000000\",\"#000000\",\"#000000\",\"#000000\",\"#000000\",\"#000000\",\"#000000\",\"#000000\",\"#000000\",\"#000000\",\"#000000\",\"#000000\",\"#000000\",\"#000000\",\"#000000\",\"#000000\",\"#000000\",\"#000000\",\"#000000\",\"#000000\",\"#000000\",\"#000000\",\"#000000\",\"#000000\",\"#000000\",\"#000000\",\"#000000\",\"#000000\",\"#000000\",\"#000000\",\"#000000\",\"#000000\",\"#000000\",\"#000000\",\"#000000\",\"#000000\",\"#000000\",\"#000000\",\"#000000\",\"#000000\",\"#000000\",\"#000000\",\"#000000\",\"#000000\",\"#000000\",\"#000000\",\"#000000\",\"#000000\",\"#000000\",\"#000000\",\"#000000\",\"#000000\",\"#000000\",\"#000000\",\"#000000\",\"#000000\",\"#000000\",\"#000000\",\"#000000\",\"#000000\",\"#000000\",\"#000000\",\"#000000\",\"#000000\",\"#000000\",\"#000000\",\"#000000\",\"#000000\",\"#000000\",\"#000000\",\"#000000\",\"#000000\",\"#000000\",\"#000000\",\"#000000\",\"#000000\",\"#000000\",\"#000000\",\"#000000\",\"#000000\",\"#000000\",\"#000000\",\"#000000\",\"#000000\",\"#000000\",\"#000000\",\"#000000\",\"#000000\",\"#000000\",\"#000000\",\"#000000\",\"#000000\",\"#000000\",\"#000000\",\"#000000\",\"#000000\",\"#000000\",\"#000000\",\"#000000\",\"#000000\",\"#000000\",\"#000000\",\"#000000\",\"#000000\",\"#000000\",\"#000000\",\"#000000\",\"#000000\",\"#00ff00\",\"#00ff00\",\"#00ff00\",\"#00ff00\",\"#00ff00\",\"#00ff00\",\"#00ff00\",\"#00ff00\",\"#00ff00\",\"#00ff00\",\"#00ff00\",\"#00ff00\",\"#00ff00\",\"#00ff00\",\"#00ff00\",\"#00ff00\",\"#00ff00\",\"#00ff00\",\"#00ff00\",\"#00ff00\",\"#00ff00\",\"#00ff00\",\"#00ff00\",\"#00ff00\",\"#00ff00\",\"#00ff00\",\"#00ff00\",\"#00ff00\",\"#00ff00\",\"#00ff00\",\"#00ff00\",\"#00ff00\",\"#00ff00\",\"#00ff00\",\"#00ff00\",\"#00ff00\",\"#00ff00\",\"#00ff00\",\"#00ff00\",\"#00ff00\",\"#00ff00\",\"#00ff00\",\"#00ff00\",\"#00ff00\",\"#00ff00\",\"#00ff00\",\"#00ff00\",\"#00ff00\",\"#00ff00\",\"#00ff00\",\"#00ff00\",\"#00ff00\",\"#00ff00\",\"#00ff00\",\"#00ff00\",\"#00ff00\",\"#00ff00\",\"#00ff00\",\"#00ff00\",\"#00ff00\",\"#00ff00\",\"#00ff00\",\"#00ff00\",\"#00ff00\",\"#00ff00\",\"#00ff00\",\"#00ff00\",\"#00ff00\",\"#00ff00\",\"#00ff00\",\"#00ff00\",\"#00ff00\",\"#00ff00\",\"#00ff00\",\"#00ff00\",\"#00ff00\",\"#00ff00\",\"#00ff00\",\"#00ff00\",\"#00ff00\",\"#00ff00\",\"#00ff00\",\"#00ff00\",\"#00ff00\",\"#00ff00\",\"#00ff00\",\"#00ff00\",\"#00ff00\",\"#00ff00\",\"#00ff00\",\"#00ff00\",\"#00ff00\",\"#00ff00\",\"#00ff00\",\"#00ff00\",\"#00ff00\",\"#00ff00\",\"#00ff00\",\"#00ff00\",\"#00ff00\",\"#00ff00\",\"#00ff00\",\"#00ff00\",\"#00ff00\",\"#00ff00\",\"#00ff00\",\"#00ff00\",\"#00ff00\",\"#00ff00\",\"#00ff00\",\"#00ff00\",\"#00ff00\",\"#00ff00\",\"#00ff00\",\"#00ff00\",\"#00ff00\",\"#00ff00\",\"#00ff00\",\"#00ff00\",\"#00ff00\",\"#00ff00\",\"#00ff00\",\"#00ff00\",\"#00ff00\",\"#00ff00\",\"#00ff00\",\"#00ff00\",\"#00ff00\",\"#00ff00\",\"#00ff00\",\"#00ff00\",\"#00ff00\",\"#00ff00\",\"#00ff00\",\"#00ff00\",\"#00ff00\",\"#00ff00\",\"#00ff00\",\"#00ff00\",\"#00ff00\",\"#00ff00\",\"#00ff00\",\"#00ff00\",\"#00ff00\",\"#00ff00\",\"#00ff00\",\"#00ff00\",\"#00ff00\",\"#00ff00\",\"#00ff00\",\"#00ff00\",\"#00ff00\",\"#00ff00\",\"#00ff00\",\"#00ff00\",\"#00ff00\",\"#00ff00\",\"#00ff00\",\"#00ff00\",\"#00ff00\",\"#00ff00\",\"#00ff00\",\"#00ff00\",\"#00ff00\",\"#00ff00\",\"#00ff00\",\"#00ff00\",\"#00ff00\",\"#00ff00\",\"#00ff00\",\"#00ff00\",\"#00ff00\",\"#00ff00\",\"#00ff00\",\"#00ff00\",\"#00ff00\",\"#00ff00\",\"#00ff00\",\"#00ff00\",\"#00ff00\",\"#00ff00\",\"#00ff00\",\"#00ff00\",\"#00ff00\",\"#00ff00\",\"#00ff00\",\"#00ff00\",\"#00ff00\",\"#00ff00\",\"#00ff00\",\"#00ff00\",\"#00ff00\",\"#00ff00\",\"#00ff00\",\"#00ff00\",\"#00ff00\",\"#00ff00\",\"#00ff00\",\"#00ff00\",\"#00ff00\",\"#00ff00\",\"#00ff00\",\"#00ff00\",\"#00ff00\",\"#00ff00\",\"#00ff00\",\"#00ff00\",\"#00ff00\",\"#00ff00\",\"#00ff00\",\"#00ff00\"],\"line_color\":[\"#00ff00\",\"#00ff00\",\"#00ff00\",\"#00ff00\",\"#00ff00\",\"#00ff00\",\"#00ff00\",\"#00ff00\",\"#00ff00\",\"#00ff00\",\"#00ff00\",\"#00ff00\",\"#00ff00\",\"#00ff00\",\"#00ff00\",\"#00ff00\",\"#00ff00\",\"#00ff00\",\"#00ff00\",\"#00ff00\",\"#00ff00\",\"#00ff00\",\"#00ff00\",\"#00ff00\",\"#00ff00\",\"#00ff00\",\"#00ff00\",\"#00ff00\",\"#00ff00\",\"#00ff00\",\"#00ff00\",\"#00ff00\",\"#00ff00\",\"#00ff00\",\"#00ff00\",\"#00ff00\",\"#00ff00\",\"#00ff00\",\"#00ff00\",\"#00ff00\",\"#00ff00\",\"#00ff00\",\"#00ff00\",\"#00ff00\",\"#00ff00\",\"#00ff00\",\"#00ff00\",\"#00ff00\",\"#00ff00\",\"#00ff00\",\"#00ff00\",\"#00ff00\",\"#00ff00\",\"#00ff00\",\"#00ff00\",\"#00ff00\",\"#00ff00\",\"#00ff00\",\"#00ff00\",\"#00ff00\",\"#00ff00\",\"#00ff00\",\"#00ff00\",\"#00ff00\",\"#00ff00\",\"#00ff00\",\"#00ff00\",\"#00ff00\",\"#00ff00\",\"#00ff00\",\"#00ff00\",\"#00ff00\",\"#00ff00\",\"#00ff00\",\"#00ff00\",\"#00ff00\",\"#00ff00\",\"#00ff00\",\"#00ff00\",\"#00ff00\",\"#00ff00\",\"#00ff00\",\"#00ff00\",\"#00ff00\",\"#00ff00\",\"#00ff00\",\"#00ff00\",\"#00ff00\",\"#00ff00\",\"#00ff00\",\"#00ff00\",\"#00ff00\",\"#00ff00\",\"#00ff00\",\"#00ff00\",\"#00ff00\",\"#00ff00\",\"#00ff00\",\"#00ff00\",\"#00ff00\",\"#00ff00\",\"#00ff00\",\"#00ff00\",\"#00ff00\",\"#00ff00\",\"#00ff00\",\"#00ff00\",\"#00ff00\",\"#00ff00\",\"#00ff00\",\"#00ff00\",\"#00ff00\",\"#00ff00\",\"#00ff00\",\"#00ff00\",\"#00ff00\",\"#00ff00\",\"#00ff00\",\"#00ff00\",\"#00ff00\",\"#00ff00\",\"#00ff00\",\"#00ff00\",\"#00ff00\",\"#00ff00\",\"#00ff00\",\"#00ff00\",\"#00ff00\",\"#00ff00\",\"#00ff00\",\"#00ff00\",\"#00ff00\",\"#00ff00\",\"#00ff00\",\"#00ff00\",\"#00ff00\",\"#00ff00\",\"#00ff00\",\"#00ff00\",\"#00ff00\",\"#00ff00\",\"#00ff00\",\"#00ff00\",\"#00ff00\",\"#00ff00\",\"#00ff00\",\"#00ff00\",\"#00ff00\",\"#00ff00\",\"#00ff00\",\"#00ff00\",\"#00ff00\",\"#00ff00\",\"#00ff00\",\"#00ff00\",\"#00ff00\",\"#00ff00\",\"#00ff00\",\"#00ff00\",\"#00ff00\",\"#00ff00\",\"#00ff00\",\"#00ff00\",\"#00ff00\",\"#00ff00\",\"#00ff00\",\"#00ff00\",\"#00ff00\",\"#00ff00\",\"#00ff00\",\"#00ff00\",\"#00ff00\",\"#00ff00\",\"#00ff00\",\"#00ff00\",\"#00ff00\",\"#00ff00\",\"#00ff00\",\"#00ff00\",\"#00ff00\",\"#00ff00\",\"#00ff00\",\"#00ff00\",\"#00ff00\",\"#00ff00\",\"#00ff00\",\"#00ff00\",\"#00ff00\",\"#00ff00\",\"#00ff00\",\"#00ff00\",\"#00ff00\",\"#00ff00\",\"#00ff00\",\"#00ff00\",\"#00ff00\",\"#00ff00\",\"#00ff00\",\"#00ff00\",\"#00ff00\",\"#00ff00\",\"#00ff00\",\"#00ff00\",\"#00ff00\",\"#00ff00\",\"#00ff00\",\"#00ff00\",\"#00ff00\",\"#00ff00\",\"#00ff00\",\"#00ff00\",\"#00ff00\",\"#00ff00\",\"#00ff00\",\"#00ff00\",\"#00ff00\",\"#00ff00\",\"#00ff00\",\"#00ff00\",\"#00ff00\",\"#00ff00\",\"#00ff00\",\"#00ff00\",\"#00ff00\",\"#00ff00\",\"#00ff00\",\"#00ff00\",\"#00ff00\",\"#00ff00\",\"#00ff00\",\"#00ff00\",\"#00ff00\",\"#00ff00\",\"#00ff00\",\"#00ff00\",\"#00ff00\",\"#00ff00\",\"#00ff00\",\"#00ff00\",\"#00ff00\",\"#00ff00\",\"#00ff00\",\"#00ff00\",\"#00ff00\",\"#00ff00\",\"#00ff00\",\"#00ff00\",\"#00ff00\",\"#00ff00\",\"#00ff00\",\"#00ff00\",\"#00ff00\",\"#00ff00\",\"#00ff00\",\"#00ff00\",\"#00ff00\",\"#00ff00\",\"#00ff00\",\"#00ff00\",\"#00ff00\",\"#00ff00\",\"#00ff00\",\"#00ff00\",\"#00ff00\",\"#00ff00\",\"#00ff00\",\"#00ff00\",\"#00ff00\",\"#00ff00\",\"#00ff00\",\"#00ff00\",\"#00ff00\",\"#00ff00\",\"#00ff00\",\"#00ff00\",\"#00ff00\",\"#00ff00\",\"#00ff00\",\"#00ff00\",\"#00ff00\",\"#00ff00\",\"#00ff00\",\"#00ff00\",\"#00ff00\",\"#00ff00\",\"#00ff00\",\"#00ff00\",\"#00ff00\",\"#00ff00\",\"#00ff00\",\"#00ff00\",\"#00ff00\",\"#00ff00\",\"#00ff00\",\"#00ff00\",\"#00ff00\",\"#00ff00\",\"#00ff00\",\"#00ff00\",\"#00ff00\",\"#00ff00\",\"#00ff00\",\"#00ff00\",\"#00ff00\",\"#00ff00\",\"#00ff00\",\"#00ff00\",\"#00ff00\",\"#00ff00\",\"#00ff00\",\"#00ff00\",\"#00ff00\",\"#00ff00\",\"#00ff00\",\"#00ff00\",\"#00ff00\",\"#00ff00\",\"#00ff00\",\"#00ff00\",\"#00ff00\",\"#00ff00\",\"#00ff00\",\"#00ff00\",\"#00ff00\",\"#00ff00\",\"#00ff00\",\"#00ff00\",\"#00ff00\",\"#00ff00\",\"#00ff00\",\"#00ff00\",\"#00ff00\",\"#00ff00\",\"#00ff00\",\"#00ff00\",\"#00ff00\",\"#00ff00\",\"#00ff00\",\"#00ff00\",\"#00ff00\",\"#00ff00\",\"#00ff00\",\"#00ff00\",\"#00ff00\",\"#00ff00\",\"#00ff00\",\"#00ff00\",\"#00ff00\",\"#00ff00\",\"#00ff00\",\"#00ff00\",\"#00ff00\",\"#00ff00\",\"#00ff00\",\"#00ff00\",\"#00ff00\",\"#00ff00\",\"#00ff00\",\"#00ff00\",\"#00ff00\",\"#00ff00\",\"#00ff00\",\"#00ff00\",\"#00ff00\",\"#00ff00\",\"#00ff00\",\"#00ff00\",\"#00ff00\",\"#00ff00\",\"#00ff00\",\"#00ff00\",\"#00ff00\",\"#00ff00\",\"#00ff00\",\"#00ff00\",\"#00ff00\",\"#00ff00\",\"#00ff00\",\"#00ff00\",\"#00ff00\",\"#00ff00\",\"#00ff00\",\"#00ff00\",\"#00ff00\",\"#00ff00\",\"#00ff00\",\"#00ff00\",\"#00ff00\",\"#00ff00\",\"#00ff00\",\"#00ff00\",\"#00ff00\",\"#00ff00\",\"#00ff00\",\"#00ff00\",\"#00ff00\",\"#00ff00\",\"#00ff00\",\"#00ff00\",\"#00ff00\",\"#00ff00\",\"#00ff00\",\"#00ff00\",\"#00ff00\",\"#00ff00\",\"#00ff00\",\"#00ff00\",\"#00ff00\",\"#00ff00\",\"#00ff00\",\"#00ff00\",\"#00ff00\",\"#00ff00\",\"#00ff00\",\"#00ff00\",\"#00ff00\",\"#00ff00\",\"#00ff00\",\"#00ff00\",\"#00ff00\",\"#00ff00\",\"#00ff00\",\"#00ff00\",\"#00ff00\",\"#00ff00\",\"#00ff00\",\"#00ff00\",\"#00ff00\",\"#00ff00\",\"#00ff00\",\"#00ff00\",\"#00ff00\",\"#00ff00\",\"#00ff00\",\"#00ff00\",\"#00ff00\",\"#00ff00\",\"#00ff00\",\"#00ff00\",\"#00ff00\",\"#00ff00\",\"#00ff00\",\"#00ff00\",\"#00ff00\",\"#00ff00\",\"#00ff00\",\"#00ff00\",\"#00ff00\",\"#00ff00\",\"#00ff00\",\"#00ff00\",\"#00ff00\",\"#00ff00\",\"#00ff00\",\"#00ff00\",\"#00ff00\",\"#00ff00\",\"#00ff00\",\"#00ff00\",\"#00ff00\",\"#00ff00\",\"#00ff00\",\"#00ff00\",\"#00ff00\",\"#00ff00\",\"#00ff00\",\"#00ff00\",\"#00ff00\",\"#00ff00\",\"#00ff00\",\"#00ff00\",\"#00ff00\",\"#00ff00\",\"#00ff00\",\"#00ff00\",\"#00ff00\",\"#00ff00\",\"#00ff00\",\"#00ff00\",\"#00ff00\",\"#00ff00\",\"#00ff00\",\"#00ff00\",\"#00ff00\",\"#00ff00\",\"#00ff00\",\"#00ff00\",\"#00ff00\",\"#00ff00\",\"#00ff00\",\"#00ff00\",\"#00ff00\",\"#00ff00\",\"#00ff00\",\"#00ff00\",\"#00ff00\",\"#00ff00\",\"#00ff00\",\"#00ff00\",\"#00ff00\",\"#000000\",\"#000000\",\"#000000\",\"#000000\",\"#000000\",\"#000000\",\"#000000\",\"#000000\",\"#000000\",\"#000000\",\"#000000\",\"#000000\",\"#000000\",\"#000000\",\"#000000\",\"#000000\",\"#000000\",\"#000000\",\"#000000\",\"#000000\",\"#000000\",\"#000000\",\"#000000\",\"#000000\",\"#000000\",\"#000000\",\"#000000\",\"#000000\",\"#000000\",\"#000000\",\"#000000\",\"#000000\",\"#000000\",\"#000000\",\"#000000\",\"#000000\",\"#000000\",\"#000000\",\"#000000\",\"#000000\",\"#000000\",\"#000000\",\"#000000\",\"#000000\",\"#000000\",\"#000000\",\"#000000\",\"#000000\",\"#000000\",\"#000000\",\"#000000\",\"#000000\",\"#000000\",\"#000000\",\"#000000\",\"#000000\",\"#000000\",\"#000000\",\"#000000\",\"#000000\",\"#000000\",\"#000000\",\"#000000\",\"#000000\",\"#000000\",\"#000000\",\"#000000\",\"#000000\",\"#000000\",\"#000000\",\"#000000\",\"#000000\",\"#000000\",\"#000000\",\"#000000\",\"#000000\",\"#000000\",\"#000000\",\"#000000\",\"#000000\",\"#000000\",\"#000000\",\"#000000\",\"#000000\",\"#000000\",\"#000000\",\"#000000\",\"#000000\",\"#000000\",\"#000000\",\"#000000\",\"#000000\",\"#000000\",\"#000000\",\"#000000\",\"#000000\",\"#000000\",\"#000000\",\"#000000\",\"#000000\",\"#000000\",\"#000000\",\"#000000\",\"#000000\",\"#000000\",\"#000000\",\"#000000\",\"#000000\",\"#000000\",\"#000000\",\"#000000\",\"#000000\",\"#000000\",\"#000000\",\"#000000\",\"#000000\",\"#000000\",\"#000000\",\"#000000\",\"#000000\",\"#000000\",\"#000000\",\"#000000\",\"#000000\",\"#000000\",\"#000000\",\"#000000\",\"#000000\",\"#000000\",\"#000000\",\"#000000\",\"#000000\",\"#000000\",\"#000000\",\"#000000\",\"#000000\",\"#000000\",\"#000000\",\"#000000\",\"#000000\",\"#000000\",\"#000000\",\"#000000\",\"#000000\",\"#000000\",\"#000000\",\"#000000\",\"#000000\",\"#000000\",\"#000000\",\"#000000\",\"#000000\",\"#000000\",\"#000000\",\"#000000\",\"#000000\",\"#000000\",\"#000000\",\"#000000\",\"#000000\",\"#000000\",\"#000000\",\"#000000\",\"#000000\",\"#000000\",\"#000000\",\"#000000\",\"#000000\",\"#000000\",\"#000000\",\"#000000\",\"#000000\",\"#000000\",\"#000000\",\"#000000\",\"#000000\",\"#000000\",\"#000000\",\"#000000\",\"#000000\",\"#000000\",\"#000000\",\"#000000\",\"#000000\",\"#000000\",\"#000000\",\"#000000\",\"#000000\",\"#000000\",\"#000000\",\"#000000\",\"#000000\",\"#000000\",\"#000000\",\"#000000\",\"#000000\",\"#000000\",\"#000000\",\"#000000\",\"#000000\",\"#000000\",\"#000000\",\"#000000\",\"#000000\",\"#000000\",\"#000000\",\"#000000\",\"#000000\",\"#000000\",\"#000000\",\"#000000\",\"#000000\",\"#000000\",\"#000000\",\"#000000\",\"#000000\",\"#000000\",\"#000000\",\"#000000\",\"#000000\",\"#000000\",\"#000000\",\"#000000\",\"#000000\",\"#000000\",\"#000000\",\"#000000\",\"#000000\",\"#000000\",\"#000000\",\"#000000\",\"#000000\",\"#000000\",\"#000000\",\"#000000\",\"#000000\",\"#000000\",\"#000000\",\"#000000\",\"#000000\",\"#000000\",\"#000000\",\"#000000\",\"#000000\",\"#000000\",\"#000000\",\"#000000\",\"#000000\",\"#000000\",\"#000000\",\"#000000\",\"#000000\",\"#000000\",\"#000000\",\"#000000\",\"#000000\",\"#000000\",\"#000000\",\"#000000\",\"#000000\",\"#000000\",\"#000000\",\"#000000\",\"#000000\",\"#000000\",\"#000000\",\"#000000\",\"#000000\",\"#000000\",\"#000000\",\"#000000\",\"#000000\",\"#000000\",\"#000000\",\"#000000\",\"#000000\",\"#000000\",\"#000000\",\"#000000\",\"#000000\",\"#000000\",\"#000000\",\"#000000\",\"#000000\",\"#000000\",\"#000000\",\"#000000\",\"#000000\",\"#000000\",\"#00ff00\",\"#00ff00\",\"#00ff00\",\"#00ff00\",\"#00ff00\",\"#00ff00\",\"#00ff00\",\"#00ff00\",\"#00ff00\",\"#00ff00\",\"#00ff00\",\"#00ff00\",\"#00ff00\",\"#00ff00\",\"#00ff00\",\"#00ff00\",\"#00ff00\",\"#00ff00\",\"#00ff00\",\"#00ff00\",\"#00ff00\",\"#00ff00\",\"#00ff00\",\"#00ff00\",\"#00ff00\",\"#00ff00\",\"#00ff00\",\"#00ff00\",\"#00ff00\",\"#00ff00\",\"#00ff00\",\"#00ff00\",\"#00ff00\",\"#00ff00\",\"#00ff00\",\"#00ff00\",\"#00ff00\",\"#00ff00\",\"#00ff00\",\"#00ff00\",\"#00ff00\",\"#00ff00\",\"#00ff00\",\"#00ff00\",\"#00ff00\",\"#00ff00\",\"#00ff00\",\"#00ff00\",\"#00ff00\",\"#00ff00\",\"#00ff00\",\"#00ff00\",\"#00ff00\",\"#00ff00\",\"#00ff00\",\"#00ff00\",\"#00ff00\",\"#00ff00\",\"#00ff00\",\"#00ff00\",\"#00ff00\",\"#00ff00\",\"#00ff00\",\"#00ff00\",\"#00ff00\",\"#00ff00\",\"#00ff00\",\"#00ff00\",\"#00ff00\",\"#00ff00\",\"#00ff00\",\"#00ff00\",\"#00ff00\",\"#00ff00\",\"#00ff00\",\"#00ff00\",\"#00ff00\",\"#00ff00\",\"#00ff00\",\"#00ff00\",\"#00ff00\",\"#00ff00\",\"#00ff00\",\"#00ff00\",\"#00ff00\",\"#00ff00\",\"#00ff00\",\"#00ff00\",\"#00ff00\",\"#00ff00\",\"#00ff00\",\"#00ff00\",\"#00ff00\",\"#00ff00\",\"#00ff00\",\"#00ff00\",\"#00ff00\",\"#00ff00\",\"#00ff00\",\"#00ff00\",\"#00ff00\",\"#00ff00\",\"#00ff00\",\"#00ff00\",\"#00ff00\",\"#00ff00\",\"#00ff00\",\"#00ff00\",\"#00ff00\",\"#00ff00\",\"#00ff00\",\"#00ff00\",\"#00ff00\",\"#00ff00\",\"#00ff00\",\"#00ff00\",\"#00ff00\",\"#00ff00\",\"#00ff00\",\"#00ff00\",\"#00ff00\",\"#00ff00\",\"#00ff00\",\"#00ff00\",\"#00ff00\",\"#00ff00\",\"#00ff00\",\"#00ff00\",\"#00ff00\",\"#00ff00\",\"#00ff00\",\"#00ff00\",\"#00ff00\",\"#00ff00\",\"#00ff00\",\"#00ff00\",\"#00ff00\",\"#00ff00\",\"#00ff00\",\"#00ff00\",\"#00ff00\",\"#00ff00\",\"#00ff00\",\"#00ff00\",\"#00ff00\",\"#00ff00\",\"#00ff00\",\"#00ff00\",\"#00ff00\",\"#00ff00\",\"#00ff00\",\"#00ff00\",\"#00ff00\",\"#00ff00\",\"#00ff00\",\"#00ff00\",\"#00ff00\",\"#00ff00\",\"#00ff00\",\"#00ff00\",\"#00ff00\",\"#00ff00\",\"#00ff00\",\"#00ff00\",\"#00ff00\",\"#00ff00\",\"#00ff00\",\"#00ff00\",\"#00ff00\",\"#00ff00\",\"#00ff00\",\"#00ff00\",\"#00ff00\",\"#00ff00\",\"#00ff00\",\"#00ff00\",\"#00ff00\",\"#00ff00\",\"#00ff00\",\"#00ff00\",\"#00ff00\",\"#00ff00\",\"#00ff00\",\"#00ff00\",\"#00ff00\",\"#00ff00\",\"#00ff00\",\"#00ff00\",\"#00ff00\",\"#00ff00\",\"#00ff00\",\"#00ff00\",\"#00ff00\",\"#00ff00\",\"#00ff00\",\"#00ff00\",\"#00ff00\",\"#00ff00\",\"#00ff00\",\"#00ff00\",\"#00ff00\",\"#00ff00\",\"#00ff00\",\"#00ff00\",\"#00ff00\",\"#00ff00\",\"#00ff00\",\"#00ff00\",\"#00ff00\",\"#00ff00\",\"#00ff00\"],\"names\":[\"\\u7ed3\\u5c40\",\"\\u6210\\u957f\",\"\\u5feb\\u4e50\",\"\\u4e16\\u754c\",\"\\u5e78\\u798f\",\"\\u611f\\u8c22\",\"\\u5f88\\u6f02\\u4eae\",\"\\u6f02\\u4eae\",\"\\u4eba\\u751f\",\"\\u611f\\u52a8\",\"\\u597d\\u4e66\",\"\\u8001\\u5e08\",\"\\u914d\\u7f6e\",\"\\u5916\\u89c2\",\"\\u5f88\\u5feb\",\"\\u5988\\u5988\",\"\\u7231\\u60c5\",\"\\u7236\\u6bcd\",\"\\u7231\",\"\\u62e5\\u6709\",\"\\u5148\\u751f\",\"\\u6df1\\u523b\",\"\\u65f6\\u5c1a\",\"\\u77e5\\u8bc6\",\"\\u4e0d\\u9519\",\"\\u5386\\u53f2\",\"\\u6bcf\\u4e2a\",\"\\u8bfb\\u5b8c\",\"\\u5b8c\\u7f8e\",\"\\u4e30\\u5bcc\",\"\\u751f\\u6d3b\",\"\\u6539\\u53d8\",\"\\u4e00\\u5207\",\"\\u5b66\\u4e60\",\"\\u6027\\u4ef7\\u6bd4\",\"\\u6bcf\",\"\\u6210\\u4e3a\",\"\\u6e05\\u6670\",\"\\u4e86\\u89e3\",\"\\u8ba4\\u8bc6\",\"\\u53ef\\u7231\",\"\\u7535\\u5f71\",\"\\u8bb8\\u591a\",\"\\u66f4\\u52a0\",\"\\u8fd8\\u4f1a\",\"\\u6027\\u80fd\",\"\\u7ec6\\u8282\",\"\\u771f\\u5b9e\",\"\\u5bb6\\u957f\",\"\\u5065\\u5eb7\",\"\\u4ee5\\u53ca\",\"\\u5973\\u513f\",\"\\u793e\\u4f1a\",\"\\u771f\\u6b63\",\"\\u54c8\\u54c8\",\"\\u5373\\u4f7f\",\"\\u5f00\\u5fc3\",\"\\u591f\",\"\\u6574\\u4f53\",\"\\u6559\\u80b2\",\"\\u611f\\u53d7\",\"\\u91cd\\u8981\",\"\\u5404\\u79cd\",\"\\u4e00\\u79cd\",\"\\u5fc3\\u91cc\",\"\\u8eab\\u8fb9\",\"\\u300a\",\"\\u7ecf\\u5178\",\"\\u4e66\\u7c4d\",\"\\u8bfb\",\"\\u4ef7\\u4f4d\",\"\\u5b9d\\u5b9d\",\"\\u505a\\u5de5\",\"\\u300b\",\"\\u603b\\u4f53\",\"\\u5b69\\u5b50\",\"\\u4f7f\",\"\\u624b\\u611f\",\"\\u7cfb\\u5217\",\"\\u7b97\\u662f\",\"\\u5730\\u7406\\u4f4d\\u7f6e\",\"\\u5979\",\"\\u4ed6\",\"\\u4e66\\u4e2d\",\"\\u671f\\u5f85\",\"\\u503c\\u5f97\",\"\\u76f8\\u5f53\",\"\\u6700\\u597d\",\"\\u8fd9\\u662f\",\"\\u4e2d\\u56fd\",\"\\u4ea4\\u901a\",\"\\u751f\\u547d\",\"\\u80fd\\u591f\",\"\\u6240\",\"\\u4e0d\\u540c\",\"\\u6587\\u5b57\",\"\\u90a3\\u79cd\",\"\\u65e5\\u672c\",\"\\u5957\\u4e66\",\"\\u9605\\u8bfb\",\"\\u70ed\\u60c5\",\"\\u6bd5\\u7adf\",\"\\u6545\\u4e8b\",\"\\u901f\\u5ea6\",\"\\u5bf9\\u4e8e\",\"\\u8c22\\u8c22\",\"\\u5b89\\u9759\",\"\\u86ee\",\"\\u5c0f\\u8bf4\",\"\\u4e2d\",\"\\u4e4b\\u95f4\",\"\\u4e0e\",\"\\u4f5c\\u54c1\",\"\\u611f\\u5230\",\"\\u5e26\",\"\\u5c4f\",\"\\u65b9\\u9762\",\"\\u6bcf\\u5929\",\"\\u9ad8\",\"\\u65b9\\u5f0f\",\"\\u7ecf\\u5386\",\"\\u8bbe\\u8ba1\",\"\\u90a3\\u4e9b\",\"\\u8ba4\\u4e3a\",\"\\u540c\\u65f6\",\"\\u5730\",\"\\u5176\\u5b9e\",\"\\u73a9\",\"\\u90a3\\u6837\",\"\\u2014\",\"\\u5341\\u5206\",\"\\u559c\\u6b22\",\"\\u4f5c\\u4e3a\",\"\\u5475\\u5475\",\"\\u6ee1\\u610f\",\"\\u76ee\\u524d\",\"\\u867d\\u7136\",\"\\u4eba\\u7269\",\"\\u97f3\\u4e50\",\"\\u8fd9\\u672c\",\"\\u54c1\\u724c\",\"\\u8fc7\\u7a0b\",\"\\u6587\\u5316\",\"\\u4e00\\u8d77\",\"\\u513f\\u5b50\",\"\\u80fd\\u529b\",\"\\u800c\\u662f\",\"\\u62cd\\u6444\",\"\\u5f88\",\"\\u8272\\u5f69\",\"\\u6765\\u8bf4\",\"\\u5438\\u5f15\",\"\\u60c5\\u8282\",\"\\u5e2e\\u52a9\",\"\\u4ee5\",\"\\u5173\\u4e8e\",\"\\u8bb2\",\"\\u672c\\u672c\",\"\\u53ea\\u8981\",\"\\u633a\",\"\\u5f00\\u59cb\",\"\\u800c\",\"\\u6e38\\u620f\",\"\\u65b9\\u6cd5\",\"\\u5176\\u4e2d\",\"\\u53ef\\u4ee5\",\"\\u4e00\\u672c\",\"\\u600e\\u6837\",\"\\u54e6\",\"\\u884c\",\"\\u98ce\\u683c\",\"\\u7684\\u786e\",\"\\u7b97\",\"\\u597d\",\"\\u7ec8\\u4e8e\",\"\\u4f18\\u70b9\",\"\\u4eec\",\"\\u7740\",\"\\u6b3e\",\"\\u50cf\\u7d20\",\"\\u53d1\\u751f\",\"\\u90e8\\u5206\",\"\\u770b\\u5230\",\"\\u7406\\u8bba\",\"\\u5c24\\u5176\",\"\\u5f53\\u7136\",\"\\u64ad\\u653e\",\"\\u8212\\u670d\",\"\\u8fd9\\u4e9b\",\"\\u786e\\u5b9e\",\"\\u603b\\u662f\",\"\\u81ea\\u5df1\",\"\\u63a8\\u8350\",\"\\u975e\\u5e38\",\"\\u66f4\",\"\\u6700\",\"\\u4e3a\",\"\\u4e3b\\u8981\",\"\\u5b9e\\u7528\",\"\\u66f4\\u597d\",\"\\u6b63\\u5728\",\"\\u6bd4\\u8f83\",\"\\u6548\\u679c\",\"\\u5e72\\u51c0\",\"\\u751a\\u81f3\",\"\\u65b9\\u4fbf\",\"\\u7ffb\\u8bd1\",\"\\u6bd4\\u5982\",\"\\u4e00\\u4e9b\",\"\\u5982\\u4f55\",\"\\u6210\\u529f\",\"\\u770b\\u7740\",\"\\u4f5c\\u8005\",\"\\u673a\\u8eab\",\"\\u65b0\",\"\\u5b8c\",\"\\u5de5\\u4f5c\",\"\\u4e00\\u76f4\",\"\\u771f\\u7684\",\"\\u5f88\\u591a\",\"\\u76f8\\u4fe1\",\"\\u4e0d\\u5c11\",\"\\u770b\\u8fc7\",\"\\u529f\\u80fd\",\"\\u548c\",\"\\u3001\",\"\\u79bb\",\"\\u7248\\u672c\",\"\\u201d\",\"\\u89c2\\u70b9\",\"\\u8ba9\",\"\\u9009\\u62e9\",\"\\u5411\",\"\\u7406\\u89e3\",\"\\u672c\\u4e66\",\"\\u201c\",\"\\u8f83\",\"\\u8bfb\\u8005\",\"\\u5bf9\",\"\\u901a\\u8fc7\",\"\\u597d\\u770b\",\"\\u7537\\u4eba\",\"\\u540c\\u6837\",\"\\u505a\",\"\\u627e\\u5230\",\"\\u5f97\\u5230\",\"\\u8d77\\u6765\",\"\\u8bed\\u8a00\",\"\\u539f\\u6765\",\"\\u5b83\",\"\\u4e8b\",\"\\u5feb\",\"\\u80fd\",\"\\u4e5f\\u8bb8\",\"\\u73af\\u5883\",\"\\u5e2e\",\"\\u7b80\\u5355\",\"\\u4e4b\",\"\\u4f60\",\"\\u4ece\",\"\\u6240\\u4ee5\",\"\\u5e76\\u4e14\",\"\\u4f1a\",\"\\u8fd0\\u884c\",\"\\u4e8e\\u662f\",\"\\u4eba\",\"\\u6bd4\",\"\\u9001\\u7ed9\",\"\\u672c\",\"\\u8d70\",\"\\u8fd9\",\"\\u597d\\u597d\",\"\\u7ee7\\u7eed\",\"\\u4ef7\\u94b1\",\"\\u4ecb\\u7ecd\",\"\\u5f3a\",\"\\u8d77\",\"\\u2026\",\"\\u5b58\\u5728\",\"\\u4e00\\u4f4d\",\"\\u4ee5\\u524d\",\"\\u7279\\u522b\",\"\\u51e0\\u5929\",\"\\u6709\\u4eba\",\"\\u514d\\u8d39\",\"\\u7684\",\"\\u5176\",\"\\u670b\\u53cb\",\"\\u5347\\u7ea7\",\"\\u4f3c\\u4e4e\",\"\\u8d2d\\u4e70\",\"\\u6211\\u4eec\",\"\\u57fa\\u672c\",\"\\u4e4b\\u524d\",\"\\u4fbf\\u5b9c\",\"\\u6b64\\u4e66\",\"\\u591a\",\"\\u6709\",\"\\u53ea\\u662f\",\"\\u5f53\",\"\\u591a\\u5c11\",\"\\u6837\\u5b50\",\"\\u5546\\u52a1\",\"\\u7ba1\\u7406\",\"\\u5f53\\u65f6\",\"\\u56e0\\u4e3a\",\"\\u89c9\\u5f97\",\"\\u5e76\",\"\\u9057\\u61be\",\"\\u5e0c\\u671b\",\"\\u5c06\",\"\\u6765\\u770b\",\"\\u4f46\\u662f\",\"\\u5728\",\"\\u4eca\\u5929\",\"\\u542c\",\"\\u5374\",\"\\u4e00\\u5b9a\",\"\\u6563\\u70ed\",\"\\u90a3\",\"\\u4e0d\\u8fc7\",\"\\u4e0d\\u7528\",\"\\u5fc3\\u60c5\",\"\\u957f\",\"\\u8fd9\\u91cc\",\"\\u9053\\u7406\",\"\\u6587\\u7ae0\",\"\\u50cf\",\"\\u6bcf\\u6b21\",\"\\u4e8e\",\"\\u6240\\u6709\",\"\\u4e5f\",\"\\u6216\",\"\\u4e00\\u6837\",\"\\u3002\",\"\\u5c81\",\"\\u8fc7\\u53bb\",\"\\u51e0\\u4e4e\",\"\\u770b\",\"\\u4f46\",\"\\u989c\\u8272\",\"\\u5f88\\u5927\",\"\\u521a\",\"\\u7edd\\u5bf9\",\"\\u5e94\\u8be5\",\"\\u5982\",\"\\uff0c\",\"\\u51c6\\u5907\",\"\\u8fd8\\u662f\",\"\\u9002\\u5408\",\"\\u4e8b\\u60c5\",\"\\u4e13\\u4e1a\",\"\\u6444\\u50cf\\u5934\",\"\\u753b\\u9762\",\"\\u952e\\u76d8\",\"\\u4e2a\\u4eba\",\"\\u62ff\\u5230\",\"\\u5982\\u6b64\",\"\\u4f4d\\u7f6e\",\"\\u4e0a\",\"\\u4e00\\u5957\",\"\\u660e\\u767d\",\"\\u524d\",\"\\u6700\\u5927\",\"\\u5566\",\"\\u8bdd\",\"\\u73b0\\u5728\",\"\\u4e9b\",\"\\u9700\\u8981\",\"\\u4e3a\\u4e86\",\"\\u666e\\u901a\",\"\\u60f3\",\"\\u4ee4\\u4eba\",\"\\u4ed6\\u4eec\",\"\\u64cd\\u4f5c\",\"\\u652f\\u6301\",\"\\u5973\\u4eba\",\"\\u5df2\\u7ecf\",\"\\u7b14\\u8bb0\\u672c\",\"\\u6ce8\\u610f\",\"\\u53ca\",\"\\u5b89\\u6392\",\"\\u5927\\u6982\",\"\\u6765\\u7535\",\"\\u90fd\",\"\\u91cc\",\"\\u4e00\\u4e2a\",\"\\u8fdb\\u884c\",\"\\u9047\\u5230\",\"\\u6765\",\"\\u4e0b\\u6b21\",\"\\u5927\",\"\\u8fd9\\u6b21\",\"\\u5403\",\"MP3\",\"\\u95f4\",\"\\u6700\\u540e\",\"\\u53ef\",\"\\u5148\",\"\\u53ef\\u60dc\",\"\\u65f6\\u5019\",\"\\u7b2c\\u4e00\\u6b21\",\"\\u770b\\u770b\",\"\\u6216\\u8005\",\"\\u662f\\u56e0\\u4e3a\",\"\\u4f7f\\u7528\",\"\\u662f\",\"\\u56fe\\u7247\",\"\\u5c4f\\u5e55\",\"\\u8fd8\",\"\\u611f\\u89c9\",\"\\u5982\\u679c\",\"\\u4e0a\\u7f51\",\"\\u540c\\u4e8b\",\"\\u63a5\\u53d7\",\"\\u6709\\u4e9b\",\"\\u8fd9\\u4e2a\",\"\\u597d\\u591a\",\"\\u90a3\\u4e2a\",\"\\u673a\\u5668\",\"\\u91cc\\u9762\",\"\\u672c\\u8eab\",\"\\u5de6\\u53f3\",\"\\u540d\\u5b57\",\"\\u9a6c\\u4e0a\",\"\\u94c3\\u58f0\",\"\\u5bb6\",\"\\u540e\\u9762\",\"100\",\"~\",\"\\u8054\\u60f3\",\"\\u8fd1\",\"\\u4e0d\\u7ba1\",\"\\u51b3\\u5b9a\",\"\\u60f3\\u8c61\",\"\\u6ca1\\u60f3\\u5230\",\"\\u770b\\u8d77\\u6765\",\"\\u5f97\",\"\\u4e4b\\u540e\",\"\\u4e66\",\"\\u770b\\u6765\",\"\\u624b\\u673a\",\"\\u7b49\",\"\\u5c0f\\u5b69\",\"\\u663e\\u5361\",\"\\u4ef7\\u683c\",\"\\u7684\\u8bdd\",\"\\u603b\",\"\\u80af\\u5b9a\",\"\\u5c0f\",\";\",\"\\u6211\",\"\\u53bb\",\"\\u51fa\",\"\\u9001\",\"\\u552f\\u4e00\",\"\\u65f6\\u95f4\",\"\\u628a\",\"\\u8dd1\",\"\\u4e1c\\u897f\",\"\\u697c\",\"\\u5c31\\u662f\",\"\\u7ed9\",\"\\u9664\\u4e86\",\"\\u5174\\u8da3\",\"\\uff1b\",\"\\u90a3\\u4e48\",\"@\",\"\\u5b89\\u88c5\",\"\\u4e00\",\"\\u5b57\",\"\\u5473\\u9053\",\"\\u4e60\\u60ef\",\"\\u7ecf\\u5e38\",\"\\u8fd9\\u6837\",\"\\u5199\",\"\\u9001\\u8d27\",\"\\u65e9\\u9910\",\"\\u8fd8\\u6709\",\"\\u62cd\\u7167\",\"\\u6807\\u51c6\",\"\\u5230\",\"\\u670d\\u52a1\",\"\\u5df2\",\"\\u53c8\",\"\\u653e\\u5728\",\"\\u544a\\u8bc9\",\"\\u4e00\\u53e5\",\"\\u8fd8\\u597d\",\"\\u7761\\u89c9\",\"\\u52a0\",\"\\u4e0d\\u8db3\",\"\\u9910\\u5385\",\"\\u5305\\u88c5\",\"\\u5176\\u4ed6\",\"\\u522b\\u4eba\",\"\\uff1a\",\"\\u95e8\\u53e3\",\"\\u7528\",\"\\u5462\",\"\\u62b5\\u5236\",\"\\u6b7b\\u673a\",\"\\u5f88\\u5dee\",\"\\u5783\\u573e\",\"\\u5931\\u671b\",\"\\u5dee\",\"\\u9875\",\"\\u90c1\\u95f7\",\"\\u6839\\u672c\",\"\\u540e\\u6094\",\"\\u574f\",\"\\u9ebb\\u70e6\",\"\\u4f60\\u4eec\",\"\\u4e0d\\u5982\",\"\\u6253\\u7535\\u8bdd\",\"\\u9000\\u623f\",\"\\u4e0d\\u597d\",\"\\u559d\",\"\\u6162\",\"\\u4e0d\\u4e86\",\"\\u8ba2\\u5355\",\"\\u7b80\\u76f4\",\"\\u6362\",\"\\u643a\\u7a0b\",\"\\u592a\\u5c0f\",\"\\u4e0d\\u884c\",\"\\u5c45\\u7136\",\"\\u7adf\\u7136\",\"\\u529e\\u6cd5\",\"\\u5f00\\u673a\",\"\\u5c0f\\u59d0\",\"\\u53cd\\u5e94\",\"\\u5ba2\\u670d\",\"12\",\"\\u524d\\u53f0\",\"\\u53ea\\u80fd\",\"\\u65e0\",\"\\u4e0d\\u80fd\",\"\\u9884\\u5b9a\",\"\\u610f\\u601d\",\"\\u7535\\u8bdd\",\"\\u7ffb\",\"\\u592a\",\"\\u9f20\\u6807\",\"\\u7a7a\\u8c03\",\"\\u94b1\",\"\\u5b9e\\u5728\",\"\\u9a71\\u52a8\",\"\\u53f7\",\"\\uff1f\",\"\\u8bf7\",\"\\u641e\",\"11\",\"\\u7ed3\\u679c\",\"\\u5ba2\\u6237\",\"\\u5f53\\u5f53\",\"\\u670d\\u52a1\\u5458\",\"\\u70ed\",\"VISTA\",\"\\u600e\\u4e48\",\"\\u5ba2\\u4eba\",\"\\u8054\\u7cfb\",\"\\u4e0d\\u591f\",\"\\u660e\\u663e\",\"\\u5f53\\u5f53\\u7f51\",\"\\u4e0d\\u8981\",\"\\u4e0d\\u592a\",\"\\u7b2c\\u4e8c\\u5929\",\"\\u5f00\",\"\\u4e3a\\u4ec0\\u4e48\",\"\\u4e0b\\u8f7d\",\"\\u5929\",\"\\u6b7b\",\"\\u5feb\\u9012\",\"\\u8fd8\\u8981\",\"\\u6ca1\\u4ec0\\u4e48\",\"\\u9694\\u97f3\",\"\\u65e5\",\"\\u4f0a\\u5229\",\"\\u6253\",\"\\u6253\\u5f00\",\"\\u9648\\u65e7\",\"\\u4e0d\",\"\\u4e00\\u822c\",\"\\u627e\",\"\\u6ca1\",\"\\u4e0d\\u5230\",\"\\u5417\",\"\\u4e0d\\u77e5\",\"\\u661f\",\"\\u65e0\\u6cd5\",\"\\u6ca1\\u6709\",\"!\",\"\\u5fc5\\u987b\",\"\\u5916\\u9762\",\"\\u8fde\",\"\\u6708\",\"\\u5149\\u76d8\",\"\\u5f88\\u5c0f\",\"\\u95ee\",\"\\u6536\\u5230\",\"\\u5b9a\",\"xp\",\"\\u8981\\u6c42\",\"\\u6b63\\u5e38\",\"\\u536b\\u751f\\u95f4\",\"\\u5143\",\"\\u623f\",\"\\u8bf4\\u660e\",\"\\u8d27\",\"?\",\"\\u89e3\\u51b3\",\"\\u4fe1\\u53f7\",\"\\u522b\\u7684\",\"\\u662f\\u4e0d\\u662f\",\"\\u8bc4\\u8bba\",\"\\u8d35\",\"\\u8ba2\",\"15\",\"\\u7cfb\\u7edf\",\"2\",\"\\u4e0d\\u60f3\",\"\\u5ba2\\u623f\",\"\\u4e00\\u770b\",\"\\u4f30\\u8ba1\",\"\\u53eb\",\"9\",\"\\u5165\\u4f4f\",\"\\u88c5\",\"\\u623f\\u95f4\",\"10\",\"\\u70b9\\u8bc4\",\"\\u65e9\\u4e0a\",\"\\u6c34\",\"\\u952e\",\"\\u672c\\u6765\",\"\\u5efa\\u8bae\",\"\\u4efb\\u4f55\",\"\\u4ee5\\u4e3a\",\"\\u58f0\\u97f3\",\"\\u5361\",\"\\u56db\\u661f\",\"\\u8fd9\\u5bb6\",\"1\",\"\\u7f51\\u4e0a\",\"\\u53ea\\u6709\",\"\\u70b9\",\"\\u8fd9\\u4e48\",\"\\u5012\",\"\\u9152\\u5e97\",\"\\u6240\\u8c13\",\"XP\",\"\\u4f4f\",\"\\uff01\",\"\\u8981\\u662f\",\"\\u5904\\u7406\",\"\\u8499\\u725b\",\"\\u665a\\u4e0a\",\"\\u84dd\\u7259\",\"\\u5e8a\",\"\\u4e0d\\u4f1a\",\"\\\"\",\"\\u53cd\\u9988\",\"\\u77ed\\u4fe1\",\"\\u60a8\",\"\\u8bf4\",\"\\u53ef\\u662f\",\"\\u8865\\u5145\",\"\\u653e\",\"\\u4f01\\u4e1a\",\"\\u7535\\u6c60\",\"\\u6574\\u4e2a\",\"\\u4ec0\\u4e48\",\"\\u603b\\u4e4b\",\"\\u5440\",\"\\u90a3\\u91cc\",\"\\u6e05\\u695a\",\"\\u6309\",\"\\u4eba\\u5458\",\"\\u76f4\\u63a5\",\"\\u51fa\\u73b0\",\"\\u6309\\u952e\",\"\\u624d\",\"\\u4e0a\\u9762\",\"\\u8be5\",\"\\u4e24\\u5929\",\"\\u5185\\u5b58\",\"\\u6709\\u65f6\",\"\\u7535\\u89c6\",\"\\u516c\\u53f8\",\"\\u77e5\\u9053\",\"\\u8bc4\\u4ef7\",\"\\u5b9e\\u9645\",\"\\u5927\\u5802\",\",\",\"\\u5185\\u5bb9\",\"(\",\"\\u5305\",\"20\",\"\\u5370\\u5237\",\"\\u5bb9\\u6613\",\"\\u554a\",\"6\",\"\\u4e14\",\"\\u4e70\\u6765\",\"\\u5206\\u949f\",\"3\",\"\\u5fc3\\u7406\",\"\\u540e\\u6765\",\"\\u51e0\\u4e2a\",\"\\u60c5\\u51b5\",\"\\u5927\\u5e8a\",\"\\u6709\\u70b9\",\"\\u8fd9\\u79cd\",\"\\u8bbe\\u7f6e\",\"\\u5bbe\\u9986\",\"\\u91cd\\u65b0\",\"\\u5b8c\\u5168\",\"\\u53ea\",\" \",\"\\u663e\\u793a\",\"\\u4e00\\u5bb6\",\"2008\",\"\\u4e70\\u56de\\u6765\",\"\\u5176\\u5b83\",\"4\",\"\\u5c11\",\"\\u95ee\\u9898\",\"\\u4ee5\\u540e\",\"\\u8c01\",\")\",\"\\u65e7\",\"\\u53d1\\u73b0\",\"\\u6c34\\u5e73\",\"...\",\"\\u4e2a\",\"\\u670d\\u52a1\\u6001\\u5ea6\",\"\\u6b64\",\"8\",\"\\u4e00\\u70b9\",\"\\u540e\",\"\\u4ea7\\u54c1\",\"\\u5f85\\u673a\\u65f6\\u95f4\",\"\\u6001\\u5ea6\",\"\\u63d0\\u4f9b\",\"\\u8d28\\u91cf\",\"\\u518d\",\"30\",\".\",\"\\u996d\\u5e97\",\"#\",\"\\u539f\\u56e0\",\"\\u786c\\u76d8\",\"\\u8c61\",\"\\u597d\\u50cf\",\"\\u771f\\u662f\",\"7\",\"\\u4e70\",\"\\u63d0\\u51fa\",\"\\u8bbe\\u65bd\",\"-\",\"\\u9996\\u5148\",\"\\u82f1\\u8bed\",\"\\u4ee5\\u4e0a\",\"\\u4e0d\\u662f\",\"\\u4e00\\u5929\",\"\\u672c\\u4eba\",\"\\u82b1\",\"\\u56de\\u6765\",\"\\u4e0b\\u53bb\",\"\\u8003\\u8651\",\"\\u5e74\",\"\\uff5e\",\"\\u8c6a\\u534e\",\"\\u771f\",\"5\",\"\\u5927\\u5bb6\",\"\\u8981\",\"\\u62ff\",\"\\u88c5\\u4fee\",\"\\u7167\\u7247\",\"\\u800c\\u4e14\",\"......\",\":\",\"\\u4e0b\\u5348\",\"\\u662f\\u5426\",\"\\u65f6\",\"\\u5f71\\u54cd\",\"\\u5c31\",\"\\u7136\\u540e\",\"\\u5185\",\"\\u4e09\\u661f\",\"\\u4e24\\u4e2a\",\"\\u53e6\\u5916\",\"\\u8fc7\",\"\\u7531\\u4e8e\",\"\\u8f6f\\u4ef6\",\"\\uff08\",\"\\u624d\\u80fd\",\"\\u6210\",\"\\u5730\\u65b9\",\"\\u4fe1\\u606f\",\"\\u518d\\u6b21\",\"\\u7f3a\\u70b9\",\"\\u5dee\\u4e0d\\u591a\",\"\\u5206\",\"\\u8ddf\",\"\\u725b\\u5976\",\"\\u7535\\u8111\",\"\\u5c0f\\u65f6\",\"\\u5427\",\"\\uff09\",\"\\u673a\\u5b50\",\"\\u53ef\\u80fd\",\"\\u4e86\",\"\\u4eac\\u4e1c\",\"\\uff0e\",\"\\u51fa\\u6765\",\"\\u8001\",\"\\u88ab\",\"/\",\"\\u4e00\\u4e0b\",\"\\u4e00\\u6b21\",\"\\u786c\\u4ef6\",\"\\u4e0b\",\"\\u81f3\\u5c11\",\"\\u5462\",\"\\u7528\",\"\\u95e8\\u53e3\",\"\\uff1a\",\"\\u522b\\u4eba\",\"\\u5176\\u4ed6\",\"\\u5305\\u88c5\",\"\\u9910\\u5385\",\"\\u4e0d\\u8db3\",\"\\u52a0\",\"\\u7761\\u89c9\",\"\\u8fd8\\u597d\",\"\\u4e00\\u53e5\",\"\\u544a\\u8bc9\",\"\\u653e\\u5728\",\"\\u53c8\",\"\\u5df2\",\"\\u670d\\u52a1\",\"\\u5230\",\"\\u6807\\u51c6\",\"\\u62cd\\u7167\",\"\\u8fd8\\u6709\",\"\\u65e9\\u9910\",\"\\u9001\\u8d27\",\"\\u5199\",\"\\u8fd9\\u6837\",\"\\u7ecf\\u5e38\",\"\\u4e60\\u60ef\",\"\\u5473\\u9053\",\"\\u5b57\",\"\\u4e00\",\"\\u5b89\\u88c5\",\"@\",\"\\u90a3\\u4e48\",\"\\uff1b\",\"\\u5174\\u8da3\",\"\\u9664\\u4e86\",\"\\u7ed9\",\"\\u5c31\\u662f\",\"\\u697c\",\"\\u4e1c\\u897f\",\"\\u8dd1\",\"\\u628a\",\"\\u65f6\\u95f4\",\"\\u552f\\u4e00\",\"\\u9001\",\"\\u51fa\",\"\\u53bb\",\"\\u6211\",\";\",\"\\u5c0f\",\"\\u80af\\u5b9a\",\"\\u603b\",\"\\u7684\\u8bdd\",\"\\u4ef7\\u683c\",\"\\u663e\\u5361\",\"\\u5c0f\\u5b69\",\"\\u7b49\",\"\\u624b\\u673a\",\"\\u770b\\u6765\",\"\\u4e66\",\"\\u4e4b\\u540e\",\"\\u5f97\",\"\\u770b\\u8d77\\u6765\",\"\\u6ca1\\u60f3\\u5230\",\"\\u60f3\\u8c61\",\"\\u51b3\\u5b9a\",\"\\u4e0d\\u7ba1\",\"\\u8fd1\",\"\\u8054\\u60f3\",\"~\",\"100\",\"\\u540e\\u9762\",\"\\u5bb6\",\"\\u94c3\\u58f0\",\"\\u9a6c\\u4e0a\",\"\\u540d\\u5b57\",\"\\u5de6\\u53f3\",\"\\u672c\\u8eab\",\"\\u91cc\\u9762\",\"\\u673a\\u5668\",\"\\u90a3\\u4e2a\",\"\\u597d\\u591a\",\"\\u8fd9\\u4e2a\",\"\\u6709\\u4e9b\",\"\\u63a5\\u53d7\",\"\\u540c\\u4e8b\",\"\\u4e0a\\u7f51\",\"\\u5982\\u679c\",\"\\u611f\\u89c9\",\"\\u8fd8\",\"\\u5c4f\\u5e55\",\"\\u56fe\\u7247\",\"\\u662f\",\"\\u4f7f\\u7528\",\"\\u662f\\u56e0\\u4e3a\",\"\\u6216\\u8005\",\"\\u770b\\u770b\",\"\\u7b2c\\u4e00\\u6b21\",\"\\u65f6\\u5019\",\"\\u53ef\\u60dc\",\"\\u5148\",\"\\u53ef\",\"\\u6700\\u540e\",\"\\u95f4\",\"MP3\",\"\\u5403\",\"\\u8fd9\\u6b21\",\"\\u5927\",\"\\u4e0b\\u6b21\",\"\\u6765\",\"\\u9047\\u5230\",\"\\u8fdb\\u884c\",\"\\u4e00\\u4e2a\",\"\\u91cc\",\"\\u90fd\",\"\\u6765\\u7535\",\"\\u5927\\u6982\",\"\\u5b89\\u6392\",\"\\u53ca\",\"\\u6ce8\\u610f\",\"\\u7b14\\u8bb0\\u672c\",\"\\u5df2\\u7ecf\",\"\\u5973\\u4eba\",\"\\u652f\\u6301\",\"\\u64cd\\u4f5c\",\"\\u4ed6\\u4eec\",\"\\u4ee4\\u4eba\",\"\\u60f3\",\"\\u666e\\u901a\",\"\\u4e3a\\u4e86\",\"\\u9700\\u8981\",\"\\u4e9b\",\"\\u73b0\\u5728\",\"\\u8bdd\",\"\\u5566\",\"\\u6700\\u5927\",\"\\u524d\",\"\\u660e\\u767d\",\"\\u4e00\\u5957\",\"\\u4e0a\",\"\\u4f4d\\u7f6e\",\"\\u5982\\u6b64\",\"\\u62ff\\u5230\",\"\\u4e2a\\u4eba\",\"\\u952e\\u76d8\",\"\\u753b\\u9762\",\"\\u6444\\u50cf\\u5934\",\"\\u4e13\\u4e1a\",\"\\u4e8b\\u60c5\",\"\\u9002\\u5408\",\"\\u8fd8\\u662f\",\"\\u51c6\\u5907\",\"\\uff0c\",\"\\u5982\",\"\\u5e94\\u8be5\",\"\\u7edd\\u5bf9\",\"\\u521a\",\"\\u5f88\\u5927\",\"\\u989c\\u8272\",\"\\u4f46\",\"\\u770b\",\"\\u51e0\\u4e4e\",\"\\u8fc7\\u53bb\",\"\\u5c81\",\"\\u3002\",\"\\u4e00\\u6837\",\"\\u6216\",\"\\u4e5f\",\"\\u6240\\u6709\",\"\\u4e8e\",\"\\u6bcf\\u6b21\",\"\\u50cf\",\"\\u6587\\u7ae0\"],\"x1\":{\"__ndarray__\":\"L5a7bFKYJUA0t+oxB/cnQPZ5SJAiJy1Am8pA19MBKUBjGuH/L9YkQH4HD3B9QSRAF26dSTFEJECFySLXMWgkQK5LwmNRZytAdi8hHWw9JEBpC5HBqX0kQAobWhbF1SHAKSm417jbI0BOBifexAkkQDoJFovB9CNATuD4eZT7KkASxF/jnosGQNqnmhEQ0wPAtCvZoZGdJ0ATdLJjGAcjwKUOybz8KybA2Ww5FUmF/z8mjOtu9eglwLFqrSN1DzLAsQNsY6C5I0CQOqOdEDQbQG80zHZxz/c/rrHpaZomK0AEvYW3rWMlQPqUmP+paS1ASvC7/7xgMsAMCjup+QcmwK6hj9fG8dW/ivLyx8L5J0A9L/u/IxokQNCVSKEoFw5Ap9u09iUjJ8AjkohihSwlQP7qTMJXkStAX8kEaEsiEMB6v9pheaIGQFgKtuiYIiPAgq1hwrEsLUAr4c0CxFsrQKqnXOLk/yRAHQOsGyAULUAMGsjCpmUkwI33qqb0A/g/HqNPrf8TJcAm39OrxV71P7EhErpGRS1AuR+RCKXGJsCAt9HcGR8TwDXiNwaIyiRAeduETfoZJUCUe1jSMmItQGmuXpKOwibAMOa41cXPK0BeCbqfV2srQOh7cDYxLea/QObL7N6m3b8P1qeHZL0gwJuhuBwMSgbAmJ03FpQmGcBVmSBtlLvmv5iQjV2zqg5ALbOKAskWLEAAeRpOj9cZQEYyqDvqvSNADfKm924YLEBokhCjQx8hwLLsC6tTsQbAwYfe+81vJMBUkbqQGMHFvxZnMHNuTibAulyrhHlL0z9t+2OZ1RExwMRVmS56UgfAWI1BIphYJsDd/E5ZEhotQMqZFyOE5SXASmUj+UnQ5b/9CPteQ1olQJDxhlm2vytAiJbAfzWZ8D8yEH+m4CQnwOjG2jWeoiDAIKkAW421KkBwTcLPmScmwP5rwWG8Ey1Awp/uP20qKECsbvhJe9IhQGmCTGQrGgpAIpoKncvuJcB1ic5IuRISwOLfnWLofzLAeHUzRUxBLEB6ybfXW6/Nv37j3ga2+ixAmYND/VkA/D8y4RIDi/ckQBOqQCLWuidA9XFLY3c9McC1ZIPud3ItQH9fBR6P9wxAhkJn2qRrLED+AT07eEYtQBPT/BWbaCbAmiCkG9LJMMDgNIj4n60OQEfolL+FxCPAad6gUdgY8D/vNqLO7KckQCb9FTXJ2RDAr5BudjO3J0B1O7syoWktQEYb12HisDDAVWnCX6RkLUAigz1SKzgqQDhswIYCUSJAap1cy6nnFMCD0RN3YMX2v16DbDeF9QnArI8BZseEDkAT6wB5vUsAQBUmsQ7lZy1AyMB5GZRsJkDbOc/XCWkjwBMqt0XVjyvAYcCqbJrOKsAbS8F/No0swFRwRnTvHydAR625yjMnBsCxesGy5uwZQJFT7z+i2iDALk+vKUc8JsAyWvzKHEUxwN72MeFzTwBAhl9lbO/5CsAKpnfpx6MkwMr/dgJOjytA/yQmS3HoAkD91+Njsl8EwGDbiytlwRzA1zO3EBGwMkDb0DY0fskzwAhK4pxLMDDASXMBN93FMMDvHvbhFaYmQLFfjZoFfiDAXyD/AUr8EsDsxq8fEcAvwE0dn1UcTPi/q+ETwS5eA8BMV6F8TTQrwLzJuMYU7eW/Oc0EQGnzGUCFi416OsYaQJJQT8LDTOW/inkmTM8QK0B5fRZTuN0mwKXG4dzCmjPAwlfmheNlKkAYf8E44jgwwFR4rsTpQTHAgxtDIYYCJsBA0BR+fsELQH0d1mWlVfK/+CQ3QV1YIsASrYDP9aooQN5Bl8IcPBvA0RnFATqTA8D7zk6Y4Ia7PzdFhLjrDCxAa2zZTvupLEAOYFxln3InQGOKAd5esRnAZb9fILaVAUAPPgjaUXv9P+HcDaASVQLAuelkVxuWBcDFCspvF8sMwKj0mYuXRZE/iUvO3yjzFsAkZNUKPCQmwKdPAWx2bS1AzL4g8Fbrob9XwZ0qtrosQMB7iVEiuSPAfJBtXCO5DkCrgl6fIJAcwKn8mcnNth9AGwfCb/gTJsCEc/IGkawnQE6jQnVAtfu/ZALQe56cG0BIu5bkDWYlwAQ8hlx5YC1AKUvirNMIKEBdjsdZvNMywPpt380KJifARY7INVIoEMDO9GVy3TUjwH68Q7ygcybAgbpOHYBGDUBxAFOPhH8nQMHZ8KMoBibAe8nHEPReJMAUxRhcBuYCwPQicDGcJ/W/XNzJilDuEsBTaxHzvY0iwNNGpu8vOBTAQ1AojUBL17+fcySPpzAmwJK0rnRb6yPAy4U/Xr8pB0Czu0rQ9gInwEcMA6mYwBfAE3CrKS9PB0CsnX181wcwwN+j4lqQm9S/xPySzlX5/j+bgQTVQoUsQJJfmwq0IS3A5p3HLRYS0b+WsaOz1LMgwP0HsoiOECfA1wpVcck6BEAvzN2PgjsjQJ9iSXYEpiNA3WTz3OQRFcB8yJtqI1gZQJejG5Q6rRPAX3cQlKK9L0Dy2Ni/vpQIQKOrx4Lb5TPAfiGe4TiDGMB8SeJHWEg0wBESK1QScjLAmOcCnZo3JsCczUoa+W4hQBkBDjyqhTDADtrrDHzFAMAQJdNq+8IjwBfmT1cd8hPA6CU6t1b7JMCrArOtb5obQMdnwoZIoixAs4S/b4A8FsCKaG5mXRwmwBb9J+B6viXAyVnhoUtaE8BiUOq7O8UlQMUixmx3yCrAGQOvm9EKLEAFVcngKQAKQMTmctQ4ABvA3u4fDVdwJsDrk3zGWkTsP7fW3F151QBAvhxJyP2wIcA8AUEPMyXrvwFnXY+I4Q1AOvkh+BIz+b/lTD2H2LsiwBnvQZQYTSZAtGEKoVk95D9Ws4BPlr4cQP9OXVk1rhpAiQqhHAjGJUAo5BNXYqwxwFnCpmk65wlASLmISV1ENMBPOtf/OFQGwFgTuqUF+gNAKvjKPsSyJ8A3NnRfx18bQF2YPVtnSTTArIPDABYrE8BOIyb83Q0aQC8vb6HKyOK/EcS1Q8GwJcASNCjWue8aQCIxGR7MVihAnpoEvU2YFMC2x65LRe/Wv5Lx4lIooybABM9SaaKbJcCZSsEvNB4EwI5hPlYR0DPAZPtFepyIIsAcAo7o41rkv7JtB6Tp6hpA/cQ6kDRV9z8FhJHpqHALQE9tBPHQYS1AX+5+Q6/iAEDbYKNyuiotwBviKShKNh9AY3GOyMQu4T/MdrQhH74lwP0+2dSubjDAWxOFjI0iJ8Bgl4YHjlssQHSN8S+yOjTAeKD5rtNjI8BXdMYl4K0gwG2RtbJv0ABAKuNJE/abH8BATDKcTUHRv/qxfWXCZxvABH+ta2io/r9TV/1ia3IcQG4jDLq7XidApqvXfOw+NMA8iHRqAIsCwOzcbi5meQfAb4V3/mwBFsAtyfNJW08fwDHYQhl2sDDABDfG86ArLUAZV7k5fOwIQFnE6mamvAZA87vNC72XJ8C3vT5TKI0awNK21Bt///q/AIhJn5ix9j8SCqmyH+H7P+ydHAISJydAIMd1ZoI4AEBt40DM+AcOQDo4fKMRdCfAur1/K9LKC0ATQ5rRdbMtQEzRFm/5piZAWhhIsSU+IUCy/OJ1SRD7vwfdDE0hc+u/z8UjpiCDFMBF1NiTm5AdwOtya5gCozPAi0naYrtB+b/MrZQPS2YnwO0l2SwSOiPAwn0hs4dPEsCsSOVh+9Ptv0B12jtC2v2/2J8h/KNJ/z+sncUk9koiwOyZKy0qLA/AONWPqWq2CkCNHff1GG0xwJwVIcszFjTAkYhZ6xz/HUCARz/X7dUFwM0fh0aFjzDAluZL8mlvI8ChKu8gzTk0wMlKGC5E6QBAOq4XEz7BJUAq4KpVhLYiwKCoW5KeODHAAglRt+EDI8CE3m5gD/olwL8tw51C6zDA2+kWmRMHMMAiaGS47Y8AQEVyXxYnKxHAowkKuG6f/z9T2ARA1AYpwCL5axlTU/8/0AOon3edM8DAo/+k+CAnwNmc6zdKhR1AlCVwvmZaKEAkH7OgWoklQLC+pKkehxbAP+j0cNGVF8D7QuATVCLevzo+yekOkRTAHofTQDOn/j/BSZGbahwMwAdxVXRF7wBA58lSJSvUIcCSCyVNYE0ZwOphN2xqPd+/cy9ecR+6I8C3GfyaUA0tQPYdWgx4/yTARw5fuln8LsC337P0UTP7P6UQEV48qwtAerJP8gXADkDgStsJiQVnvw3+owGnoiPAyLXASHOYC0An3pF53H8owCKUDzTHKRtAO9GggsObI0AGugKox5T0Pw+j50zM/iVAFvCmJ8E347/Ouo9vtK0wwJ46t0CHJwfACcDnAxKtK8C1+kUKRVoOQEj67GqMwBlAUuz5Yxi5FsDgmOHZe2ElwEm9hMaY8dk/K0aWNafpIEB4ajoZLM4ywAT7Cid2mP2/7To0MVaTAEA/H9FiIHwhwKjHiDXUpQtAoD1hUomUMEAGG3OyYJszwGmhxlofqve/XBfpFHoKBcDR6sDElr8hQEAjTWDE3zDAy7FM0FN/EcA8Amxs77clwCYiVQ4ziRpAQ6HWY0xJC0D/MXA8FxogwD+Lyp2lgCnAQhihxs1JNMDjrfqdRWAcwK49RFIkKTDAsg9P8kzIMsBLWeaf1I0xwPi5ioBvuiZAcAyH/ROxI8DzyZJ81KEVwMapGa6GpjDApHlxXXvb4b+6a4MzhYI0QIV+OK8lbvK/HiC9thaoMcBYvMzGSwkLQMJZbr418BzA1Ua8n8UEFcCAR7xdeKULQItUMhgYmiPAo/HlL9SjMkAW/KSC2jchwF1WfEZnSDTAkJMdBJlMIMCaWOnhZJMMwMAke/lZSRvAjsSyIlpAI8AIfstPNivXv1O5HTApwSVA+XBu10Ni9r+Op2Yep5cjwEQOnFC8ywtA3b7pf7FmIUAfelFnbyoywI0jpybhrBvAVbUCz+CeK8B6rzb8FQrRv+Wm7WTiliPAJEvl6I7WGMC6kQYYOm8cwLei+AdISQVAM89D1fAZLUDH9A0UOiU0wC+liOS7OCNAaKZK2LI91b9xfGQN+Sb6v4zGFvbyPDTA47iV31xmIUAskVR+quY0QAx7gJD7xSjAKntnBRsqK0BhefhzsH4lQOTdbs9Iwuk/jnrlflQ7NMCZdjQ4rGMAQMKTAbECzAZADoXyiG4jMMBlhDdmuJv4P1FeG2agWgVAtNh7T/7UKsDyYN+xVPomwAhRwC9NVSjA655jvyBH+z8xFbx/wRsgwCHRT7l9NgtAhybL+nah8b+5Ov64uycnwP8RraQouyDAECZez7hwJUCHl21sHoMiwAV9Tj3jvQbAmLGZFCBrAsC3aS5uiHYlwI37fJyI1zVAbhxX7AyCNUCbW0e1W9Y1QEJqMDp90zVAqMp4HCjYNUBE3UqzTdg1QEWxInS4DC5AoId94A2PMEDVZQreZcU1QCZbCXwsjDVAMqwcKZ85M0DF2s+b1aE1QMyJxfXHaSVAHJ4wpjbVNUCOwgiibmklQA0fYfqzEDVAmiVZO7LCNUB+oBUgUnY1QMEIw2pqVzVAQrfN1CKnNUAcAZOnMzDsvx0ztHkJ2DRAq5PwdLdmL0D2kGEHZybzv1d4cXH82TRA5We0yF7ZLUAnGsIlYTE1QLtWtEFLkjRANnGtoT+e9L+uHHtn3OvFv97vVx8RgRTAxiWYCvJ5JUBAtgkx2PkkQP1ombVJTxjAZouwZjKOL0Bp/18lCe4zQMOhkIAn9TNAmLeF0FE/NUD/2Y12lGAjwKJmB08XAyJAdAuBKt3wLkAHNW0ZWYk1QGNzZPjJHjVANkJ7dfaCJUAX5+53iT0hQK9E+Z9iYzJA1yj+EwqYMUDeCY7BkBLlv7oEIddcEyNAPdBfd9ovNEB+DtApI98kQHefWWYEsSVA7FU10KSdIMAaW7S31HIlQEUu/ySQ1SFA7lOdtKArLkAharv9AxMlQACzQS3WGzFArtGWpPaI8r8Q/XgF1rcjQCkckuM2VRjAGVLDN4UZHcCB0NlFf8Y1QEm4ifPulC9Aict+TWxsJUDdFtLlgFo0QGY8tN91/TNA1muH32yx2z+cSJ0CDEA0wOA/c2JHKiVAiJe8hmGIJUCZ4NikpBIwQM7kXpBzdCFA3QyputXvMECfMs6GVMHzv5NZVxLLmjVA6dB7rh04GMC1bbsCCdIbwIU4buOZYhfAEC2npQRUIMAs4WoKQn8lQIOuIEK1cSVAcvJtl53GNUDqPdEvjL0zQKsXC2maSDNA8Xsh+/3XC8DIj9UhKWsuQMQER03BXiHAfsHgwEYWA0B1W6ExEOchQDVPhNU5HjVAUMrLx4XBNUDC7CNDlwUkQM+fvBB+Li9AE+23vK07JUCHOFQK7O0iQG5wfoeFPP4/STI9LLhyvj8H3ISHIF7Qv7FWz6iY2dO/LpkF7SBGBcDEYCpPXXgiQOguL7HJDSPAxmotd0FrIUBUhuqnpJslQDO384R5xiVAtE7ChBuoHUDZ8EQQ70PhP/UMqe3rxBdA4FSjBSXQ9b+A4iB5ao8nQJ3WdLcxlSVAl4LmAoJf/T8CQKuIRcrqPyet/b9fkBrAyfTxK7UFDUCOif/DapcxQCPyFxJyFwtAxt5EqcS/JkBacYOaDlYUwPUyNRUuri1AdGTbt32E+j/An1qKUFP7v4/m+mmJSSPA9jNxM4Jc/D+3IQpTYscnQAY4h5P/ExlAynnus+sb5r/ybSDtavkmwKCk87BPtyHAYoagVR9lIEBC8WBv2kg0wAXdVzClL9i/6SPUk9oDJUDCkvDC+AsjQP9RyIdIqR3AhZxZUE0QM0Cq97gVU50fQF9IHc2dNzFAepIv3qXaMEAwHI8dsWUzQKiekYJujjPAbB39flppGkAezdaAbAUDQOj1sW6qwTBAnmQmrv+hIUCz37AUx68jQEcvyqSmZfq/2J4O1buoM0AnUL6T3h4KwEChBvSIFTFACnX9OiOKC8AUHjKw8uXXv9nZL3sA7yJAT/a2zOkGNEDSvOSosEwzQK+qYYgRuyTAXXaB0b6xCMB8uwTupbflv8tow6DrGi3APQbCUmvGMUB2OdNJd2IywCMLEIctxSVAvBdPK/4x8L/+Cj20dFYnQOX/iGyKiyVAbGPhgMhFM0Bo4+THpH8OQOTb/LPIaRfAi/8/7u/ELUB2mT8NXsUjwKmyZVEw6eG/FARRAtR+wb+tLSOpUAMmQMKw37d5GwxA2UL5xbKm+T+4hBeffzQEwAyl5saOJhbAfov/Z4SeGsBko2Xo/vwTwFgUYE/NHBzAMV1d/p39IEB1sucesXAlQAMUNULkCQhAETL3kRHW0r9bFVPhhOIQwBfItCOGVAFA7/0zpAMEI8CmNz/9COH0P+3RmcqVMTTA0c3jdXgrAsC0XlnXBWolQNe6EQmsdyVAdhsYO8uiHcC/tF2Qz4/3P2rO76d2zDVAXttZIqBzHEBh4lq5FDf1vzCwOKbKvPe/d4u8bpsyMUBrEvxvxn8iQIu7ulbTZto/uLDTjyiPIsDV5xGwlpMjQOldLm32IjNAHqWFFt11IkD2KR3JxXIiwCppucA3F/G/KvS/sVLTMECC+dnezijwP9Q1PwoYaSRA6892e/3AAEDG96G8LC0yQO7743I9/wlAcIJdLQm46L8aX+Mw1G4lQHXNg/BjPTTAkcVJXyFtJUBN6uKDq5Xwv5wDszLEaRXA1J+oJHdWIEAxormHEickQETMW255aP2/tuah8k2QHcDB4Ld5+jr5Pz9Pwy2WKzHAuypcRQdFNMADwuH56WLYv0LaYOS/Cx3Ap524pD04MMBv+qSiaiT3vyzTbN6qh/2/aqGz/w+kG8Bf/KcPQJ8lQBkE9Tbvtu6/s14PclUZ5b9HO/egxYQlQLkJq86VnSRAkJTTJG7Y8L94Z8+5sO0ewOqfqRNDzSNAhFE5NyZ6G8BmE4jjWXoiwN+FOL4jFvY/8Qatv+lgIUDlxqYn2wQwQIN9kr7kWwDAWhKzDOFPFMD4dxcdaaEAQG7s3DpPUzLAvsQChSwfMsCK5yIOWTUcwNyZdDvyaSVAUyj4neubHEDwB02MUkHlP0ccqJTqadU/ADJcpOWsGsBq0j+5qQzBvwrW1StC7d0/3RdN4su5JEAxukSwG/khwBo7CkmSeDFAuHVozFUEA8CU76F/EYobwBEQQKuAvDVAKWBcU4P5IsCss5cdm9P2PxM7h0hdSTTAdws2L8Tu8z+1WN/r0Rb3P1WXAA/wZPw/FwPeLxny/T+KcRAYZV0gQEpZN5azK/E/lbqY3air+r/XeinhpYILQAyRoHmfoCZA1P94p9r2IcCwBOZWVbwcwFaEgVrMP+E/oW5hlMmR/z9+jlHn5ej/v6ynxfjUfiVAjjcLNA8vNMDR7N25QF3/P4gG+GUP7Pk/XAqFfcfvB8D1VUe3H5YgwKDjmb4pTyRAAaFoYcohNMAlJ5MBuyMbQGfZqXmNNfq/pBnzK84mHMD5foW0rgUMQGP1cWyzWfg/H6dIrM5EFcD2kSZOnyj8v29vBZsXKiVAwz4uMKp68r/NewosiY4gQK+XyF3lGCJAJRjnBPzuIcCAcRpLjnIjQCK5dneGxQjAX2Yse2mjJUB2VP0eThYbwNKCuGGw5ifAIrVRF8nVAEDFPZihjaMSwCgjwud1TS1A69hvLnJJnj8nEFDe3x/yv7DxF/UTRRfAHm69ilgKNECklFIR+wkiwHCKB3ncYPI/M0cbYrYlDkDIC/bKfaECwP0YgLhA4BfAEKHDsk84HMB/eDq67VIAQHpGzEHqgR5A7R5yufl4FMBmZdbHsPkhwCU+l8Y+cyRAT3xlpqnAJUBBASdhDIElwNOYnbPkWgLACv0Ok0GKBsBQtWIYkYoiwLZF/W1weyVA6gJQo4y0IMDA6HqS8iQnwLmUMzdEhvG/kGaUFVhXC0DrexiTaBkgwI4KfpvlMPs/p2ipVVBeKMBAXzPlFvgmwBiN8WFR1SrA0XnGWj1tBUD3D0IbCoj4Pz51PUOXIDDA5OnCxxnWBkBp5086GKMAQDV2uWt9PjTA4oxybJNV6D/DALILbH4lQG/mX0pRLStA9utdN8u+KMAHXUAkRuE0QAm9GbxTWyFANl1zFK85NMBumlROgyL6v88Ir2TCZ9W/6k9dcP0pI0DMpKq4wCc0wED4H2KnEC1Ajj/0X8Y5BUB3Yv8Fcl4cwBX02JpS1RjAp0EmjROfI8CHqdM7asnQvwShz2o6oCvAUjPvjRWwG8DBlvRBmiYywGEi84CoWyFAMCTLrWM3DEA0kBNkto4jwGNh8gv2X/a/2MVq/pzFJUDfyAXgnIfVv2Vo0gOxNiPASwvHSYBFG8BNBrR3p5wMwEfZsQ6YTiDAmkC26itKNMAK2mVZuDYhwNruWiAxoTJAjMC0i8yVI8DX8JgDCR0LQOTKXzqqDxXAmeApU8TeHMC6GUafwpYKQCqeeBS7qDHARaQ2FpN88r8aCWFOO300QBKlBzS+IeK/xJ07yjqgMMCAy8BY8aUVwP0WiNrtuCPAtoBDWzCtJkDMiZUroY0xwAp6mannzDLAlxphlH4sMMC4Z62p13AcwPOnY8g3SDTAfQ4imtmDKcAxkh3NwBsgwPO5mWIqzQtA3bbCq3OVGkDd0jWAV60lwNXl7HizhRHAIpxD7z/mMMARhgHRV8shQPIgBPVOEwXAeLery1K2979inU+u8JkzwFuYsk0flDBA9Uqe1iaDC0CY1htJyXchwBUxn0sU1gBAXNIlH/aR/b8embdak8kywFo9gPzr8yBAHVdtmHZv3D8ANEnbuWslwPwi1X1NuRbAtuHLjgCjGUCft3pZZLYOQL3A5w1hrivAQ+q+0RRtB8CY1Z8hhbQwwCDq6jeun+O/cbnK8t75JUAdtUr30sL0P+a6Oi5BrSNAk5ByPI0sG0C1fKG4IYgowBzqddR9EQtACHM+lXinI8B2W0r7nQSYP18jaZxtnA5AOXcppT4cDEAxb02+YPj6PzTiAmwu/i7Ak3F2AbwGJcD7csPV7wQtQKRMLCt4tCPA4Q6pCHdB378K8+c4/08ZwHnL+dR83SHANeiBAHqwAEDM+I7bny8MwMzkYZVkg/4/qvuU8bieFMBqRm+fUrjfvx0qhe4SjBfAqgR4yRWPFsCe+cTl2oklQFiXlBbbWChAyUXihQ6FHUBsEV0GiB4nwA7ELnHynjPAaQuCU9iO/z85PteVKQEpwA2nk+H3j/8/kzwAaBYmEcAF9vkQSIUAQM09FaIRBTDABTuixzLwMMDlBKWJ6O8lwMMGlF2BASPA0MVjzmo+McDZkWoeUL8iwEuk+OUoxyVAZbmYoYKlAECn2ATndzY0wDtZ/wInZiPASSStqdmJMMC4o4+pt/wFwLaFEMJh/R1AMp9yNw4YNMDQ6aFsDGwxwLOUO0MazwpAqjAMoRRBD8DE3LPHQ00iwDNKu0dRUP8//0+OHX3b/b85HzmerEjuv8G3t1ZuRRLAa2hia3Q4I8C6GahF7FYnwHbN2Ah9Dvm/QJv4kIikM8AOV09AFoEdwNvrQPzZchTAB78J2lzH67/sXTGQASL7v2qHwPLpMyFAtc2/vzybJkD8K9cFQKQtQKrZZtGnQwtAb57dGVRjJ8AaAbO/ju4NQPhtUHnQRgBAdww9c6s2J0BYYhZNGNH7P3yPEJj/k/Y/kzl6fZ/1+r8=\",\"dtype\":\"float64\",\"shape\":[1000]},\"x2\":{\"__ndarray__\":\"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\",\"dtype\":\"float64\",\"shape\":[1000]}}},\"id\":\"ee4a8a2b-5427-458c-9699-392d836854e4\",\"type\":\"ColumnDataSource\"},{\"attributes\":{\"fill_alpha\":{\"value\":0.1},\"fill_color\":{\"value\":\"#1f77b4\"},\"line_alpha\":{\"value\":0.1},\"line_color\":{\"value\":\"#1f77b4\"},\"size\":{\"units\":\"screen\",\"value\":8},\"x\":{\"field\":\"x1\"},\"y\":{\"field\":\"x2\"}},\"id\":\"aa5047ca-1e8a-4e4e-8d31-708c422c6976\",\"type\":\"Circle\"},{\"attributes\":{\"plot\":{\"id\":\"ce57562a-8f83-49e2-b580-1a176dbcbc8e\",\"subtype\":\"Figure\",\"type\":\"Plot\"},\"ticker\":{\"id\":\"e8b723e2-4d53-41ce-9f8f-f7658664a9de\",\"type\":\"BasicTicker\"}},\"id\":\"8c39d090-9f06-42ab-8340-ddf2bf83c1c4\",\"type\":\"Grid\"},{\"attributes\":{\"formatter\":{\"id\":\"a987f2d0-91d9-4f48-94d0-bace29047699\",\"type\":\"BasicTickFormatter\"},\"plot\":{\"id\":\"ce57562a-8f83-49e2-b580-1a176dbcbc8e\",\"subtype\":\"Figure\",\"type\":\"Plot\"},\"ticker\":{\"id\":\"9173dae3-303d-4c6c-864e-9c829ddf4830\",\"type\":\"BasicTicker\"}},\"id\":\"1da87626-a7c6-4715-a3df-4ea5aff926c9\",\"type\":\"LinearAxis\"},{\"attributes\":{\"fill_color\":{\"field\":\"fill_color\"},\"line_color\":{\"field\":\"line_color\"},\"size\":{\"units\":\"screen\",\"value\":8},\"x\":{\"field\":\"x1\"},\"y\":{\"field\":\"x2\"}},\"id\":\"bb3b5b5f-585a-47b3-8a47-5b96bfd8f330\",\"type\":\"Circle\"},{\"attributes\":{},\"id\":\"02089dc4-35e5-4484-84eb-a686c22e4b35\",\"type\":\"ToolEvents\"},{\"attributes\":{\"callback\":null},\"id\":\"e2720474-7fed-495c-b3c1-f9592c069c13\",\"type\":\"DataRange1d\"},{\"attributes\":{},\"id\":\"e8b723e2-4d53-41ce-9f8f-f7658664a9de\",\"type\":\"BasicTicker\"},{\"attributes\":{\"callback\":null},\"id\":\"aa505e4a-5225-4e5e-8142-86b557a0fef8\",\"type\":\"DataRange1d\"},{\"attributes\":{\"formatter\":{\"id\":\"5f686832-5c62-49b9-a6b4-9e22da08136b\",\"type\":\"BasicTickFormatter\"},\"plot\":{\"id\":\"ce57562a-8f83-49e2-b580-1a176dbcbc8e\",\"subtype\":\"Figure\",\"type\":\"Plot\"},\"ticker\":{\"id\":\"e8b723e2-4d53-41ce-9f8f-f7658664a9de\",\"type\":\"BasicTicker\"}},\"id\":\"cc24beec-6f56-4528-a565-60c1729ad164\",\"type\":\"LinearAxis\"},{\"attributes\":{\"plot\":{\"id\":\"ce57562a-8f83-49e2-b580-1a176dbcbc8e\",\"subtype\":\"Figure\",\"type\":\"Plot\"}},\"id\":\"d540cbe9-7ea3-43c9-a6e4-2b2ad836ad77\",\"type\":\"SaveTool\"},{\"attributes\":{},\"id\":\"5f686832-5c62-49b9-a6b4-9e22da08136b\",\"type\":\"BasicTickFormatter\"},{\"attributes\":{\"plot\":{\"id\":\"ce57562a-8f83-49e2-b580-1a176dbcbc8e\",\"subtype\":\"Figure\",\"type\":\"Plot\"}},\"id\":\"7afa7c67-b316-4a60-bafb-2db0216b13f0\",\"type\":\"WheelZoomTool\"},{\"attributes\":{\"plot\":{\"id\":\"ce57562a-8f83-49e2-b580-1a176dbcbc8e\",\"subtype\":\"Figure\",\"type\":\"Plot\"}},\"id\":\"8a7871de-85cf-4e9a-8d42-ada13bbb3891\",\"type\":\"ResetTool\"},{\"attributes\":{},\"id\":\"a987f2d0-91d9-4f48-94d0-bace29047699\",\"type\":\"BasicTickFormatter\"},{\"attributes\":{\"active_drag\":\"auto\",\"active_scroll\":\"auto\",\"active_tap\":\"auto\",\"tools\":[{\"id\":\"e8fa1767-557a-422f-8e45-183a4a463f69\",\"type\":\"PanTool\"},{\"id\":\"7afa7c67-b316-4a60-bafb-2db0216b13f0\",\"type\":\"WheelZoomTool\"},{\"id\":\"8a7871de-85cf-4e9a-8d42-ada13bbb3891\",\"type\":\"ResetTool\"},{\"id\":\"d540cbe9-7ea3-43c9-a6e4-2b2ad836ad77\",\"type\":\"SaveTool\"}]},\"id\":\"19df2189-523a-4f8c-8464-ba1576828fe0\",\"type\":\"Toolbar\"},{\"attributes\":{\"plot\":{\"id\":\"ce57562a-8f83-49e2-b580-1a176dbcbc8e\",\"subtype\":\"Figure\",\"type\":\"Plot\"}},\"id\":\"e8fa1767-557a-422f-8e45-183a4a463f69\",\"type\":\"PanTool\"},{\"attributes\":{},\"id\":\"9173dae3-303d-4c6c-864e-9c829ddf4830\",\"type\":\"BasicTicker\"},{\"attributes\":{\"dimension\":1,\"plot\":{\"id\":\"ce57562a-8f83-49e2-b580-1a176dbcbc8e\",\"subtype\":\"Figure\",\"type\":\"Plot\"},\"ticker\":{\"id\":\"9173dae3-303d-4c6c-864e-9c829ddf4830\",\"type\":\"BasicTicker\"}},\"id\":\"9bee8cdd-3ce2-4f2a-ac38-4f117cbdceb0\",\"type\":\"Grid\"},{\"attributes\":{\"data_source\":{\"id\":\"ee4a8a2b-5427-458c-9699-392d836854e4\",\"type\":\"ColumnDataSource\"},\"glyph\":{\"id\":\"bb3b5b5f-585a-47b3-8a47-5b96bfd8f330\",\"type\":\"Circle\"},\"hover_glyph\":null,\"nonselection_glyph\":{\"id\":\"aa5047ca-1e8a-4e4e-8d31-708c422c6976\",\"type\":\"Circle\"},\"selection_glyph\":null},\"id\":\"0d27c27d-4987-4aa6-9bf4-4089e01f0c6f\",\"type\":\"GlyphRenderer\"},{\"attributes\":{\"below\":[{\"id\":\"cc24beec-6f56-4528-a565-60c1729ad164\",\"type\":\"LinearAxis\"}],\"left\":[{\"id\":\"1da87626-a7c6-4715-a3df-4ea5aff926c9\",\"type\":\"LinearAxis\"}],\"renderers\":[{\"id\":\"cc24beec-6f56-4528-a565-60c1729ad164\",\"type\":\"LinearAxis\"},{\"id\":\"8c39d090-9f06-42ab-8340-ddf2bf83c1c4\",\"type\":\"Grid\"},{\"id\":\"1da87626-a7c6-4715-a3df-4ea5aff926c9\",\"type\":\"LinearAxis\"},{\"id\":\"9bee8cdd-3ce2-4f2a-ac38-4f117cbdceb0\",\"type\":\"Grid\"},{\"id\":\"0d27c27d-4987-4aa6-9bf4-4089e01f0c6f\",\"type\":\"GlyphRenderer\"}],\"title\":{\"id\":\"17bce825-5c76-4746-a831-34b91057c1a1\",\"type\":\"Title\"},\"tool_events\":{\"id\":\"02089dc4-35e5-4484-84eb-a686c22e4b35\",\"type\":\"ToolEvents\"},\"toolbar\":{\"id\":\"19df2189-523a-4f8c-8464-ba1576828fe0\",\"type\":\"Toolbar\"},\"toolbar_location\":\"above\",\"x_range\":{\"id\":\"aa505e4a-5225-4e5e-8142-86b557a0fef8\",\"type\":\"DataRange1d\"},\"y_range\":{\"id\":\"e2720474-7fed-495c-b3c1-f9592c069c13\",\"type\":\"DataRange1d\"}},\"id\":\"ce57562a-8f83-49e2-b580-1a176dbcbc8e\",\"subtype\":\"Figure\",\"type\":\"Plot\"},{\"attributes\":{\"plot\":null,\"text\":\"vector T-SNE for most polarized words\"},\"id\":\"17bce825-5c76-4746-a831-34b91057c1a1\",\"type\":\"Title\"}],\"root_ids\":[\"ce57562a-8f83-49e2-b580-1a176dbcbc8e\"]},\"title\":\"Bokeh Application\",\"version\":\"0.12.4\"}};\n",
       "            var render_items = [{\"docid\":\"4d51a1e4-b66c-403b-a3d3-0da9129edeb7\",\"elementid\":\"b90deed0-8019-4d5f-9b59-6d3ca8dc9f94\",\"modelid\":\"ce57562a-8f83-49e2-b580-1a176dbcbc8e\"}];\n",
       "            \n",
       "            Bokeh.embed.embed_items(docs_json, render_items);\n",
       "          };\n",
       "          if (document.readyState != \"loading\") fn();\n",
       "          else document.addEventListener(\"DOMContentLoaded\", fn);\n",
       "        })();\n",
       "      },\n",
       "      function(Bokeh) {\n",
       "      }\n",
       "    ];\n",
       "  \n",
       "    function run_inline_js() {\n",
       "      \n",
       "      if ((window.Bokeh !== undefined) || (force === true)) {\n",
       "        for (var i = 0; i < inline_js.length; i++) {\n",
       "          inline_js[i](window.Bokeh);\n",
       "        }if (force === true) {\n",
       "          display_loaded();\n",
       "        }} else if (Date.now() < window._bokeh_timeout) {\n",
       "        setTimeout(run_inline_js, 100);\n",
       "      } else if (!window._bokeh_failed_load) {\n",
       "        console.log(\"Bokeh: BokehJS failed to load within specified timeout.\");\n",
       "        window._bokeh_failed_load = true;\n",
       "      } else if (force !== true) {\n",
       "        var cell = $(document.getElementById(\"b90deed0-8019-4d5f-9b59-6d3ca8dc9f94\")).parents('.cell').data().cell;\n",
       "        cell.output_area.append_execute_result(NB_LOAD_WARNING)\n",
       "      }\n",
       "  \n",
       "    }\n",
       "  \n",
       "    if (window._bokeh_is_loading === 0) {\n",
       "      console.log(\"Bokeh: BokehJS loaded, going straight to plotting\");\n",
       "      run_inline_js();\n",
       "    } else {\n",
       "      load_libs(js_urls, function() {\n",
       "        console.log(\"Bokeh: BokehJS plotting callback run at\", now());\n",
       "        run_inline_js();\n",
       "      });\n",
       "    }\n",
       "  }(this));\n",
       "</script>"
      ]
     },
     "metadata": {},
     "output_type": "display_data"
    }
   ],
   "source": [
    "p = figure(tools=\"pan,wheel_zoom,reset,save\",\n",
    "           toolbar_location=\"above\",\n",
    "           title=\"vector T-SNE for most polarized words\")\n",
    "\n",
    "source = ColumnDataSource(data=dict(x1=words_top_ted_tsne[:,0],\n",
    "                                    x2=words_top_ted_tsne[:,1],\n",
    "                                    names=words_to_visualize))\n",
    "\n",
    "p.scatter(x=\"x1\", y=\"x2\", size=8, source=source,color=colors_list)\n",
    "\n",
    "word_labels = LabelSet(x=\"x1\", y=\"x2\", text=\"names\", y_offset=6,\n",
    "                  text_font_size=\"8pt\", text_color=\"#555555\",\n",
    "                  source=source, text_align='center')\n",
    "# p.add_layout(word_labels)\n",
    "\n",
    "show(p)"
   ]
  },
  {
   "cell_type": "markdown",
   "metadata": {},
   "source": [
    "上面我们将所有的数据放到二维上，绿色是肯定的，黑色是否定的，通过打开p.add_layout(word_labels)这行代码，我们可以看到距离近的其意思就是相近的\n",
    "\n",
    "## 总结\n",
    "至此就是本篇情感分析的所有了，回顾下：\n",
    "1. 最开始，我们通过分析在不同意见中词出现的次数不同，我们得出了可以根据一段话分词后不同词出现的次数来判断最终的意见，\n",
    "2. 接着我们通过对分词后的词进行编码，将一段话转换为一个向量\n",
    "3. 接着就是构建神经系统了（老套路）\n",
    "4. 下面我们不断去分析怎么能计算的更快，得出可以去掉某些频度太低的词，以及去除一些在正负观点中都出现的，代表性不是那么强的词\n",
    "5. 最后我们分析了训练出来的神经网络的weights的含义，发现可以根据weighs来对词进行分类，相同意见的词自然而然就聚合到一起了\n",
    "\n",
    "分析下上面的问题，其实在对于词输入上，我们只是简单的进行了编码，没有考虑词之间的前后的位置关系，也没有考虑不同词其实其含义是一样的，下一篇将会使用RNN和word2Vec来进行优化。\n",
    "\n",
    "## 参考\n",
    "[文本情感分类（二）：深度学习模型](http://spaces.ac.cn/archives/3414/comment-page-4)\n"
   ]
  }
 ],
 "metadata": {
  "kernelspec": {
   "display_name": "Python 3",
   "language": "python",
   "name": "python3"
  },
  "language_info": {
   "codemirror_mode": {
    "name": "ipython",
    "version": 3
   },
   "file_extension": ".py",
   "mimetype": "text/x-python",
   "name": "python",
   "nbconvert_exporter": "python",
   "pygments_lexer": "ipython3",
   "version": "3.6.0"
  }
 },
 "nbformat": 4,
 "nbformat_minor": 2
}
