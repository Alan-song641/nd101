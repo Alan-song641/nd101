{
 "cells": [
  {
   "cell_type": "markdown",
   "metadata": {},
   "source": [
    "本文是自己对于lstm的理解的总结，但是最好的文章帮助理解lstm一定是这篇[Understanding LSTM Networks](http://colah.github.io/posts/2015-08-Understanding-LSTMs/)"
   ]
  },
  {
   "cell_type": "markdown",
   "metadata": {},
   "source": [
    "## lstm理论\n",
    "我们平时在做决策的时候，会基于当前的情况和自己平时的经验来做出判断，这就会涉及到一个很重要的概念：经验，对于计算机来说，经验要怎么获取到呢？计算机有CPU进行运算，有内存进行存储，很自然的我们的想法就是将之前的输入存储到内存中，作为我们今后决策的一个经验"
   ]
  },
  {
   "cell_type": "markdown",
   "metadata": {},
   "source": [
    "我们想下FC（fully connection）网络，其输出结果就只跟当前输入有关，没有用到“经验”，那对于一些需要用到之前输入的场景就会显的力不从心，\n",
    "因此我们一个很自然的想法就是将之前输入记住的，但是记住多少呢？我们人的记忆力有限，对于一些久远的、不重要的记忆自然就会忘了，\n",
    "而对于我们决策总是起作用的事情就会记得很清楚，因此我们希望我们的模型也能有这个特性，记住**重要的**经验，遗忘不重要的\n",
    "\n",
    "基于上面“经验”的假说，早期就有了RNN（recurrent neural network）了，其主要思想就是将单一的FC重复多份，串联起来，这样当前的输出就不止由当前输入决定，还会受前面输入的影响，其示意图如下：\n",
    "\n",
    "![来自Understanding LSTM Networks](http://colah.github.io/posts/2015-08-Understanding-LSTMs/img/RNN-unrolled.png)"
   ]
  },
  {
   "cell_type": "markdown",
   "metadata": {},
   "source": [
    "但是很快人们就发现这种模型会有两个主要的问题：vanishing gradient 和 exploding gradient，梯度消失和梯度爆炸，一个直观的解释是：看上图x(t)会由x(0)乘以每个子单元之间的一个关系得到，我们用Whh表示，其特征就是 x(t) = x(0) * Whh^t，当我们Whh小于1和大于1的时候，就会分别出现梯度消失和梯度爆炸了。"
   ]
  },
  {
   "cell_type": "markdown",
   "metadata": {},
   "source": [
    "于是后来就发明了LSTM，其思想就是我们之前说的“经验”，并在此基础上加上了“遗忘”，看下结构图：\n",
    "![](https://cdn-images-1.medium.com/max/800/1*laH0_xXEkFE0lKJu54gkFQ.png)\n",
    "\n",
    "图来自[Understanding LSTM and its diagrams](https://medium.com/@shiyan/understanding-lstm-and-its-diagrams-37e2f46f1714#.q6creawff)"
   ]
  },
  {
   "cell_type": "markdown",
   "metadata": {},
   "source": [
    "对于上面的图，我们初看的时候第一眼感觉可能是复杂，此处我也不想过多的去解释上面的图了，更详细的可以这篇文章[Understanding LSTM and its diagrams](https://medium.com/@shiyan/understanding-lstm-and-its-diagrams-37e2f46f1714#.q6creawff)，其整体思路就是之前说的**遗忘+经验**，稍微具体点就是下面的图：\n",
    "\n",
    "![](http://upload-images.jianshu.io/upload_images/2256672-bff9353b92b9c488.png?imageMogr2/auto-orient/strip%7CimageView2/2/w/1240)\n",
    "图片来自：[零基础入门深度学习 (6) - 长短时记忆网络 (LSTM)](https://zybuluo.com/hanbingtao/note/581764)"
   ]
  },
  {
   "cell_type": "markdown",
   "metadata": {},
   "source": [
    "我们有3个开关，分别控制着我们的经验选择什么进行遗忘，然后当前的输入我们选择什么进行记忆，以及根据经验我们怎么做出判断，更具体的讲解可以阅读[零基础入门深度学习 (6) - 长短时记忆网络 (LSTM)](https://zybuluo.com/hanbingtao/note/581764)"
   ]
  },
  {
   "cell_type": "markdown",
   "metadata": {},
   "source": [
    "理论讲了这么多，我们最重要的还是要用，下面我们就结合一些具体的例子来看下怎么使用RNN来解决实际问题"
   ]
  },
  {
   "cell_type": "markdown",
   "metadata": {},
   "source": [
    "## 实战1（sin函数预测）\n",
    "第一个实战的例子就是使用LSTM来预测sin函数\n",
    "![](http://mourafiq.com/images/posts/sin.png)"
   ]
  },
  {
   "cell_type": "markdown",
   "metadata": {},
   "source": [
    "我们先介绍如何使用TensorFlow来搭建LSTM单元，此处我们用到的函数是：[ tf.contrib.rnn.BasicLSTMCell](https://www.tensorflow.org/api_docs/python/tf/contrib/rnn/BasicLSTMCell)，其定义是：\n",
    "```\n",
    "(num_units, forget_bias=1.0, input_size=None, state_is_tuple=True, activation=tf.tanh)\n",
    "```\n",
    "我们可以通过下面语句来声明一个lstm单元，\n",
    "```\n",
    "lstm = tf.contrib.rnn.BasicLSTMCell(num_units)\n",
    "```\n",
    "接着我们要做的是增加一个dropout的功能，目的是为了防止overfitting\n",
    "```\n",
    "drop = tf.contrib.rnn.DropoutWrapper(cell, output_keep_prob=keep_prob)\n",
    "```\n",
    "最后我们通过`tf.contrib.rnn.MultiRNNCell`函数来创建多层rnn\n",
    "```\n",
    "cell = tf.contrib.rnn.MultiRNNCell([drop] * lstm_layers)\n",
    "```"
   ]
  },
  {
   "cell_type": "code",
   "execution_count": 1,
   "metadata": {
    "collapsed": false
   },
   "outputs": [],
   "source": [
    "import numpy as np\n",
    "import tensorflow as tf\n",
    "import pandas as pd"
   ]
  },
  {
   "cell_type": "code",
   "execution_count": 2,
   "metadata": {
    "collapsed": true
   },
   "outputs": [],
   "source": [
    "def rnn_data(data, time_steps, labels=False):\n",
    "    \"\"\"\n",
    "    creates new data frame based on previous observation\n",
    "      * example:\n",
    "        l = [1, 2, 3, 4, 5]\n",
    "        time_steps = 2\n",
    "        -> labels == False [[1, 2], [2, 3], [3, 4]]\n",
    "        -> labels == True [3, 4, 5]\n",
    "    \"\"\"\n",
    "    rnn_df = []\n",
    "    for i in range(len(data) - time_steps):\n",
    "        if labels:\n",
    "            try:\n",
    "                rnn_df.append(data.iloc[i + time_steps].as_matrix())\n",
    "            except AttributeError:\n",
    "                rnn_df.append(data.iloc[i + time_steps])\n",
    "        else:\n",
    "            data_ = data.iloc[i: i + time_steps].as_matrix()\n",
    "            rnn_df.append(data_ if len(data_.shape) > 1 else [[i] for i in data_])\n",
    "\n",
    "    return np.array(rnn_df, dtype=np.float32)"
   ]
  },
  {
   "cell_type": "code",
   "execution_count": 3,
   "metadata": {
    "collapsed": true
   },
   "outputs": [],
   "source": [
    "def split_data(data, val_size=0.1, test_size=0.1):\n",
    "    \"\"\"\n",
    "    splits data to training, validation and testing parts\n",
    "    \"\"\"\n",
    "    ntest = int(round(len(data) * (1 - test_size)))\n",
    "    nval = int(round(len(data.iloc[:ntest]) * (1 - val_size)))\n",
    "\n",
    "    df_train, df_val, df_test = data.iloc[:nval], data.iloc[nval:ntest], data.iloc[ntest:]\n",
    "\n",
    "    return df_train, df_val, df_test"
   ]
  },
  {
   "cell_type": "code",
   "execution_count": 4,
   "metadata": {
    "collapsed": true
   },
   "outputs": [],
   "source": [
    "def prepare_data(data, time_steps, labels=False, val_size=0.1, test_size=0.1):\n",
    "    \"\"\"\n",
    "    Given the number of `time_steps` and some data,\n",
    "    prepares training, validation and test data for an lstm cell.\n",
    "    \"\"\"\n",
    "    df_train, df_val, df_test = split_data(data, val_size, test_size)\n",
    "    return (rnn_data(df_train, time_steps, labels=labels),\n",
    "            rnn_data(df_val, time_steps, labels=labels),\n",
    "            rnn_data(df_test, time_steps, labels=labels))"
   ]
  },
  {
   "cell_type": "code",
   "execution_count": 5,
   "metadata": {
    "collapsed": true
   },
   "outputs": [],
   "source": [
    "# 定义产生数据的函数\n",
    "def generate_data(fct, x, time_steps, seperate=False):\n",
    "    \"\"\"generates data with based on a function fct\"\"\"\n",
    "    data = fct(x)    \n",
    "    if not isinstance(data,pd.DataFrame):\n",
    "        data = pd.DataFrame(data)\n",
    "    train_x, val_x, test_x = prepare_data(data['a'] if seperate else data, time_steps)\n",
    "    train_y, val_y, test_y = prepare_data(data['b'] if seperate else data, time_steps, labels=True)\n",
    "    return dict(train=train_x, val=val_x, test=test_x), dict(train=train_y, val=val_y, test=test_y)    "
   ]
  },
  {
   "cell_type": "code",
   "execution_count": 6,
   "metadata": {
    "collapsed": true
   },
   "outputs": [],
   "source": [
    "X, Y = generate_data(np.sin, np.linspace(0, 100, 10000, dtype=np.float32), 3, seperate=False)"
   ]
  },
  {
   "cell_type": "code",
   "execution_count": null,
   "metadata": {
    "collapsed": false
   },
   "outputs": [],
   "source": [
    "print(X['test'].shape,Y['test'].shape)"
   ]
  },
  {
   "cell_type": "code",
   "execution_count": null,
   "metadata": {
    "collapsed": false
   },
   "outputs": [],
   "source": [
    "print(X['test'][0],Y['test'][0])\n",
    "print(X['test'][1],Y['test'][1])"
   ]
  },
  {
   "cell_type": "code",
   "execution_count": null,
   "metadata": {
    "collapsed": false
   },
   "outputs": [],
   "source": [
    "print(X['train'].shape,X['val'].shape)"
   ]
  },
  {
   "cell_type": "markdown",
   "metadata": {},
   "source": [
    "此处我们将数据变为了下面的示意形状\n",
    "l = [1, 2, 3, 4, 5]\n",
    "time_steps = 3\n",
    "\n",
    "x=[[[1],[2],[3]], [[2],[3],[4]]]\n",
    "\n",
    "y=[4,5]\n",
    "\n",
    "下面我们要来定义我们的计算图了"
   ]
  },
  {
   "cell_type": "code",
   "execution_count": 30,
   "metadata": {
    "collapsed": true
   },
   "outputs": [],
   "source": [
    "lstm_size = 10\n",
    "lstm_layers = 3\n",
    "batch_size = 100\n",
    "learning_rate = 0.0001"
   ]
  },
  {
   "cell_type": "code",
   "execution_count": 8,
   "metadata": {
    "collapsed": true
   },
   "outputs": [],
   "source": [
    "# Create the graph object\n",
    "graph = tf.Graph()\n",
    "# Add nodes to the graph\n",
    "with graph.as_default():\n",
    "    inputs_ = tf.placeholder(tf.float32, [None, None,1], name='inputs')\n",
    "    labels_ = tf.placeholder(tf.float32, [None, None], name='labels')\n",
    "    keep_prob = tf.placeholder(tf.float32, name='keep_prob')"
   ]
  },
  {
   "cell_type": "code",
   "execution_count": 9,
   "metadata": {
    "collapsed": true
   },
   "outputs": [],
   "source": [
    "with graph.as_default():\n",
    "    # Your basic LSTM cell\n",
    "    lstm = tf.contrib.rnn.BasicLSTMCell(num_units=lstm_size)\n",
    "    # Add dropout to the cell\n",
    "    drop = tf.contrib.rnn.DropoutWrapper(lstm, output_keep_prob=keep_prob)\n",
    "    \n",
    "    # Stack up multiple LSTM layers, for deep learning\n",
    "    cell = tf.contrib.rnn.MultiRNNCell([drop] * lstm_layers)\n",
    "    \n",
    "    # Getting an initial state of all zeros\n",
    "    initial_state = cell.zero_state(batch_size, tf.float32)"
   ]
  },
  {
   "cell_type": "code",
   "execution_count": null,
   "metadata": {
    "collapsed": false
   },
   "outputs": [],
   "source": [
    "print(cell.output_size)"
   ]
  },
  {
   "cell_type": "code",
   "execution_count": null,
   "metadata": {
    "collapsed": false
   },
   "outputs": [],
   "source": [
    "print(inputs_)"
   ]
  },
  {
   "cell_type": "code",
   "execution_count": 10,
   "metadata": {
    "collapsed": false
   },
   "outputs": [],
   "source": [
    "with graph.as_default():\n",
    "    outputs, final_state = tf.nn.dynamic_rnn(cell, inputs_, initial_state=initial_state)"
   ]
  },
  {
   "cell_type": "code",
   "execution_count": null,
   "metadata": {
    "collapsed": false
   },
   "outputs": [],
   "source": [
    "print(outputs) # (batch_size,max_time,cell.output_size=num_units=5)"
   ]
  },
  {
   "cell_type": "code",
   "execution_count": 11,
   "metadata": {
    "collapsed": true
   },
   "outputs": [],
   "source": [
    "with graph.as_default():\n",
    "    predictions = tf.contrib.layers.fully_connected(outputs[:, -1], num_outputs=1, activation_fn=tf.identity) # 简单输出\n",
    "    cost = tf.losses.mean_squared_error(labels_, predictions)\n",
    "    optimizer = tf.train.AdamOptimizer(learning_rate).minimize(cost)"
   ]
  },
  {
   "cell_type": "code",
   "execution_count": 12,
   "metadata": {
    "collapsed": true
   },
   "outputs": [],
   "source": [
    "with graph.as_default():\n",
    "    correct_pred = tf.less_equal(tf.abs(predictions-labels_),0.001)\n",
    "    \n",
    "    accuracy = tf.reduce_mean(tf.cast(correct_pred, tf.float32))"
   ]
  },
  {
   "cell_type": "code",
   "execution_count": null,
   "metadata": {
    "collapsed": false
   },
   "outputs": [],
   "source": [
    "len(X['test'])//10"
   ]
  },
  {
   "cell_type": "code",
   "execution_count": null,
   "metadata": {
    "collapsed": false
   },
   "outputs": [],
   "source": [
    "X['test'][:9*10].shape"
   ]
  },
  {
   "cell_type": "code",
   "execution_count": null,
   "metadata": {
    "collapsed": false
   },
   "outputs": [],
   "source": [
    "X['test'][:9*10][0:10].shape"
   ]
  },
  {
   "cell_type": "code",
   "execution_count": null,
   "metadata": {
    "collapsed": false
   },
   "outputs": [],
   "source": [
    "Y['test'][0:10].shape"
   ]
  },
  {
   "cell_type": "code",
   "execution_count": 13,
   "metadata": {
    "collapsed": true
   },
   "outputs": [],
   "source": [
    "def get_batches(x, y, batch_size=100):\n",
    "    \n",
    "    n_batches = len(x)//batch_size\n",
    "    x, y = x[:n_batches*batch_size], y[:n_batches*batch_size]\n",
    "    for ii in range(0, len(x), batch_size):\n",
    "        yield x[ii:ii+batch_size], y[ii:ii+batch_size]"
   ]
  },
  {
   "cell_type": "code",
   "execution_count": 31,
   "metadata": {
    "collapsed": false
   },
   "outputs": [
    {
     "name": "stdout",
     "output_type": "stream",
     "text": [
      "Epoch: 1/50 Iteration: 100 Train loss: 0.465\n",
      "Epoch: 2/50 Iteration: 200 Train loss: 0.710\n",
      "Epoch: 3/50 Iteration: 300 Train loss: 0.145\n",
      "Epoch: 4/50 Iteration: 400 Train loss: 0.339\n",
      "Epoch: 6/50 Iteration: 500 Train loss: 0.218\n",
      "Epoch: 7/50 Iteration: 600 Train loss: 0.240\n",
      "Epoch: 8/50 Iteration: 700 Train loss: 0.085\n",
      "Epoch: 9/50 Iteration: 800 Train loss: 0.199\n",
      "Epoch: 11/50 Iteration: 900 Train loss: 0.124\n",
      "Epoch: 12/50 Iteration: 1000 Train loss: 0.180\n",
      "Val acc: 0.006\n",
      "Epoch: 13/50 Iteration: 1100 Train loss: 0.063\n",
      "Epoch: 14/50 Iteration: 1200 Train loss: 0.150\n",
      "Epoch: 16/50 Iteration: 1300 Train loss: 0.096\n",
      "Epoch: 17/50 Iteration: 1400 Train loss: 0.145\n",
      "Epoch: 18/50 Iteration: 1500 Train loss: 0.063\n",
      "Epoch: 19/50 Iteration: 1600 Train loss: 0.158\n",
      "Epoch: 21/50 Iteration: 1700 Train loss: 0.124\n",
      "Epoch: 22/50 Iteration: 1800 Train loss: 0.158\n",
      "Epoch: 23/50 Iteration: 1900 Train loss: 0.034\n",
      "Epoch: 24/50 Iteration: 2000 Train loss: 0.133\n",
      "Val acc: 0.006\n",
      "Epoch: 26/50 Iteration: 2100 Train loss: 0.101\n",
      "Epoch: 27/50 Iteration: 2200 Train loss: 0.178\n",
      "Epoch: 28/50 Iteration: 2300 Train loss: 0.052\n",
      "Epoch: 29/50 Iteration: 2400 Train loss: 0.141\n",
      "Epoch: 31/50 Iteration: 2500 Train loss: 0.100\n",
      "Epoch: 32/50 Iteration: 2600 Train loss: 0.119\n",
      "Epoch: 33/50 Iteration: 2700 Train loss: 0.057\n",
      "Epoch: 34/50 Iteration: 2800 Train loss: 0.140\n",
      "Epoch: 36/50 Iteration: 2900 Train loss: 0.115\n",
      "Epoch: 37/50 Iteration: 3000 Train loss: 0.154\n",
      "Val acc: 0.007\n",
      "Epoch: 38/50 Iteration: 3100 Train loss: 0.052\n",
      "Epoch: 39/50 Iteration: 3200 Train loss: 0.161\n",
      "Epoch: 41/50 Iteration: 3300 Train loss: 0.116\n",
      "Epoch: 42/50 Iteration: 3400 Train loss: 0.149\n",
      "Epoch: 43/50 Iteration: 3500 Train loss: 0.035\n",
      "Epoch: 44/50 Iteration: 3600 Train loss: 0.122\n",
      "Epoch: 46/50 Iteration: 3700 Train loss: 0.078\n",
      "Epoch: 47/50 Iteration: 3800 Train loss: 0.161\n",
      "Epoch: 48/50 Iteration: 3900 Train loss: 0.040\n",
      "Epoch: 49/50 Iteration: 4000 Train loss: 0.151\n",
      "Val acc: 0.009\n"
     ]
    }
   ],
   "source": [
    "epochs = 50\n",
    "\n",
    "with graph.as_default():\n",
    "    saver = tf.train.Saver()\n",
    "\n",
    "with tf.Session(graph=graph) as sess:\n",
    "    sess.run(tf.global_variables_initializer())\n",
    "    iteration = 1\n",
    "    for e in range(epochs):\n",
    "        state = sess.run(initial_state)\n",
    "        \n",
    "        for x, y in get_batches(X['train'], Y['train'], batch_size):\n",
    "            \n",
    "            # print(x,y) # x 是 [batch_size,seq_len] y = [seq_len]\n",
    "            feed = {inputs_: x,\n",
    "                    labels_: y,\n",
    "                    keep_prob: 0.5,\n",
    "                    initial_state: state}\n",
    "            loss, state, _, o = sess.run([cost, final_state, optimizer,outputs], feed_dict=feed)\n",
    "            \n",
    "            # print(len(o)) # 500\n",
    "            \n",
    "            # print(outputs) # Tensor(\"rnn/transpose:0\", shape=(500, ?, 256), dtype=float32)\n",
    "            # 这个代表 shape=(500, ?, 256) batch_size = 500, lstm_size = 256\n",
    "            if iteration%100==0:\n",
    "                print(\"Epoch: {}/{}\".format(e, epochs),\n",
    "                      \"Iteration: {}\".format(iteration),\n",
    "                      \"Train loss: {:.3f}\".format(loss))\n",
    "\n",
    "            if iteration%1000==0:\n",
    "                val_acc = []\n",
    "                val_state = sess.run(cell.zero_state(batch_size, tf.float32))\n",
    "                for x, y in get_batches(X['val'], Y['val'], batch_size):\n",
    "                    feed = {inputs_: x,\n",
    "                            labels_: y,\n",
    "                            keep_prob: 1,\n",
    "                            initial_state: val_state}\n",
    "                    batch_acc, val_state = sess.run([accuracy, final_state], feed_dict=feed)\n",
    "                    val_acc.append(batch_acc)\n",
    "                print(\"Val acc: {:.3f}\".format(np.mean(val_acc)))\n",
    "            iteration +=1\n",
    "    saver.save(sess, \"checkpoints/lstm.ckpt\")"
   ]
  },
  {
   "cell_type": "code",
   "execution_count": 15,
   "metadata": {
    "collapsed": true
   },
   "outputs": [],
   "source": [
    "%matplotlib inline\n",
    "%config InlineBackend.figure_format = 'retina'\n",
    "from matplotlib import pyplot as plt"
   ]
  },
  {
   "cell_type": "markdown",
   "metadata": {},
   "source": [
    "## Testing"
   ]
  },
  {
   "cell_type": "code",
   "execution_count": 32,
   "metadata": {
    "collapsed": false
   },
   "outputs": [],
   "source": [
    "predicted = []\n",
    "with tf.Session(graph=graph) as sess:\n",
    "#     saver.restore(sess, tf.train.latest_checkpoint('/checkpoints'))\n",
    "#     loader = tf.train.import_meta_graph(\"checkpoints/lstm.ckpt.meta\")\n",
    "#     loader.restore(sess, \"checkpoints/lstm.ckpt\")\n",
    "    saver.restore(sess, \"checkpoints/lstm.ckpt\")\n",
    "    test_state = sess.run(cell.zero_state(batch_size, tf.float32))\n",
    "    for x, y in get_batches(X['test'], Y['test'], batch_size):\n",
    "        feed = {inputs_: x,\n",
    "                labels_: y,\n",
    "                keep_prob: 1,\n",
    "                initial_state: test_state}\n",
    "        batch_acc, test_state,test_predicted = sess.run([accuracy, final_state,predictions], feed_dict=feed)\n",
    "        predicted.append(test_predicted)\n",
    "    "
   ]
  },
  {
   "cell_type": "code",
   "execution_count": null,
   "metadata": {
    "collapsed": false
   },
   "outputs": [],
   "source": [
    "predicted[0].shape"
   ]
  },
  {
   "cell_type": "code",
   "execution_count": null,
   "metadata": {
    "collapsed": false
   },
   "outputs": [],
   "source": []
  },
  {
   "cell_type": "code",
   "execution_count": null,
   "metadata": {
    "collapsed": false
   },
   "outputs": [],
   "source": [
    "Y['test'][:900].shape"
   ]
  },
  {
   "cell_type": "code",
   "execution_count": 33,
   "metadata": {
    "collapsed": false
   },
   "outputs": [
    {
     "data": {
      "text/plain": [
       "<matplotlib.legend.Legend at 0x118f73828>"
      ]
     },
     "execution_count": 33,
     "metadata": {},
     "output_type": "execute_result"
    },
    {
     "data": {
      "image/png": "[encoded data removed]",
      "text/plain": [
       "<matplotlib.figure.Figure at 0x119380080>"
      ]
     },
     "metadata": {
      "image/png": {
       "height": 250,
       "width": 388
      }
     },
     "output_type": "display_data"
    }
   ],
   "source": [
    "flatten_list = np.array([y for x in predicted for y in x])\n",
    "plot_predicted, = plt.plot(flatten_list, label='predicted')\n",
    "plot_test, = plt.plot(Y['test'][:900], label='test')\n",
    "plt.legend(handles=[plot_predicted, plot_test])"
   ]
  },
  {
   "cell_type": "code",
   "execution_count": null,
   "metadata": {
    "collapsed": true
   },
   "outputs": [],
   "source": []
  }
 ],
 "metadata": {
  "kernelspec": {
   "display_name": "Python 3",
   "language": "python",
   "name": "python3"
  },
  "language_info": {
   "codemirror_mode": {
    "name": "ipython",
    "version": 3
   },
   "file_extension": ".py",
   "mimetype": "text/x-python",
   "name": "python",
   "nbconvert_exporter": "python",
   "pygments_lexer": "ipython3",
   "version": "3.6.0"
  }
 },
 "nbformat": 4,
 "nbformat_minor": 2
}
