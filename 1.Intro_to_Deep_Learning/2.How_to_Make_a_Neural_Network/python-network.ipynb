{
 "cells": [
  {
   "cell_type": "markdown",
   "metadata": {},
   "source": [
    "# 如何构建一个简单的神经网络\n",
    "## 1. 模型阐述\n",
    "假设我们有下面的一组数据\n",
    "\n",
    "|输入1 | 输入2 | 输入3 | 输出 | \n",
    "|---|---|---|---|\n",
    "|0 | 0 | 1 | 0 | \n",
    "|1 | 1 | 1 | 1 | \n",
    "|1 | 0 | 1 | 1 | \n",
    "|0 | 1 | 1 | 0 | "
   ]
  },
  {
   "cell_type": "markdown",
   "metadata": {},
   "source": [
    "对于上面的表格，我们可以找出其中的一个规律是：\n",
    "\n",
    "> 输入的第一列和输出相同\n",
    "\n",
    "那对于输入有3列，每列有0和1两个值，那可能的排列有\\\\(2^3=8\\\\)种，但是此处只有4种，那么在有限的数据情况下，我们应该怎么预测其他结果呢？\n",
    "这个时候神经网络就大显身手了！\n",
    "\n",
    "看代码："
   ]
  },
  {
   "cell_type": "code",
   "execution_count": 109,
   "metadata": {
    "collapsed": false
   },
   "outputs": [],
   "source": [
    "%matplotlib inline\n",
    "%config InlineBackend.figure_format = 'retina'\n",
    "\n",
    "from numpy import exp, array, random, dot\n",
    "\n",
    "class NeuralNetwork():\n",
    "    def __init__(self):\n",
    "        # Seed the random number generator, so it generates the same numbers\n",
    "        # every time the program runs.\n",
    "        random.seed(1)\n",
    "\n",
    "        # We model a single neuron, with 3 input connections and 1 output connection.\n",
    "        # We assign random weights to a 3 x 1 matrix, with values in the range -1 to 1\n",
    "        # and mean 0.\n",
    "        self.synaptic_weights = 2 * random.random((3, 1)) - 1\n",
    "        self.sigmoid_derivative = self.__sigmoid_derivative\n",
    "\n",
    "    # The Sigmoid function, which describes an S shaped curve.\n",
    "    # We pass the weighted sum of the inputs through this function to\n",
    "    # normalise them between 0 and 1.\n",
    "    def __sigmoid(self, x):\n",
    "        return 1 / (1 + exp(-x))\n",
    "    \n",
    "   \n",
    "\n",
    "    # The derivative of the Sigmoid function.\n",
    "    # This is the gradient of the Sigmoid curve.\n",
    "    # It indicates how confident we are about the existing weight.\n",
    "    def __sigmoid_derivative(self, x):\n",
    "        return x * (1 - x)\n",
    "\n",
    "    # We train the neural network through a process of trial and error.\n",
    "    # Adjusting the synaptic weights each time.\n",
    "    def train(self, training_set_inputs, training_set_outputs, number_of_training_iterations):\n",
    "        for iteration in range(number_of_training_iterations):\n",
    "            # Pass the training set through our neural network (a single neuron).\n",
    "            output = self.think(training_set_inputs)\n",
    "\n",
    "            # Calculate the error (The difference between the desired output\n",
    "            # and the predicted output).\n",
    "            error = training_set_outputs - output\n",
    "\n",
    "            # Multiply the error by the input and again by the gradient of the Sigmoid curve.\n",
    "            # This means less confident weights are adjusted more.\n",
    "            # This means inputs, which are zero, do not cause changes to the weights.\n",
    "            adjustment = dot(training_set_inputs.T, error * self.__sigmoid_derivative(output))\n",
    "\n",
    "            # Adjust the weights.\n",
    "            self.synaptic_weights += adjustment\n",
    "\n",
    "    # The neural network thinks.\n",
    "    def think(self, inputs):\n",
    "        # Pass inputs through our neural network (our single neuron).\n",
    "        return self.__sigmoid(dot(inputs, self.synaptic_weights))    "
   ]
  },
  {
   "cell_type": "code",
   "execution_count": 7,
   "metadata": {
    "collapsed": false
   },
   "outputs": [
    {
     "name": "stdout",
     "output_type": "stream",
     "text": [
      "Random starting synaptic weights: \n",
      "[[-0.16595599]\n",
      " [ 0.44064899]\n",
      " [-0.99977125]]\n",
      "New synaptic weights after training: \n",
      "[[ 9.67299303]\n",
      " [-0.2078435 ]\n",
      " [-4.62963669]]\n",
      "Considering new situation [1, 0, 0] -> ?: \n",
      "[ 0.99993704]\n"
     ]
    }
   ],
   "source": [
    "#Intialise a single neuron neural network.\n",
    "neural_network = NeuralNetwork()\n",
    "\n",
    "print(\"Random starting synaptic weights: \")\n",
    "print(neural_network.synaptic_weights)\n",
    "\n",
    "# The training set. We have 4 examples, each consisting of 3 input values\n",
    "# and 1 output value.\n",
    "training_set_inputs = array([[0, 0, 1], [1, 1, 1], [1, 0, 1], [0, 1, 1]])\n",
    "training_set_outputs = array([[0, 1, 1, 0]]).T\n",
    "\n",
    "# Train the neural network using a training set.\n",
    "# Do it 10,000 times and make small adjustments each time.\n",
    "neural_network.train(training_set_inputs, training_set_outputs, 10000)\n",
    "\n",
    "print(\"New synaptic weights after training: \")\n",
    "print(neural_network.synaptic_weights)\n",
    "\n",
    "# Test the neural network with a new situation.\n",
    "print(\"Considering new situation [1, 0, 0] -> ?: \")\n",
    "print(neural_network.think(array([1, 0, 0])))"
   ]
  },
  {
   "cell_type": "markdown",
   "metadata": {},
   "source": [
    "以上代码来自：https://github.com/llSourcell/Make_a_neural_network\n",
    "现在我们来分析下具体的过程：\n",
    "第一个我们需要注意的是[sigmoid function](https://en.wikipedia.org/wiki/Sigmoid_function),其图如下："
   ]
  },
  {
   "cell_type": "code",
   "execution_count": 15,
   "metadata": {
    "collapsed": false
   },
   "outputs": [
    {
     "data": {
      "image/png": "[encoded data removed]",
      "text/plain": [
       "<matplotlib.figure.Figure at 0x116a3c4e0>"
      ]
     },
     "metadata": {
      "image/png": {
       "height": 250,
       "width": 373
      }
     },
     "output_type": "display_data"
    }
   ],
   "source": [
    "import matplotlib.pyplot as plt\n",
    "import numpy as np\n",
    "\n",
    "def sigmoid(x):\n",
    "    a = []\n",
    "    for item in x:\n",
    "        a.append(1/(1+np.exp(-item)))\n",
    "    return a\n",
    "    \n",
    "x = np.arange(-6., 6., 0.2)\n",
    "sig = sigmoid(x)\n",
    "plt.plot(x,sig)\n",
    "plt.grid()\n",
    "plt.show()"
   ]
  },
  {
   "cell_type": "code",
   "execution_count": null,
   "metadata": {
    "collapsed": true
   },
   "outputs": [],
   "source": [
    "我们可以看到sigmoid函数将输入转换到了0-1之间的值，而sigmoid函数的导数是：\n",
    "```\n",
    "def __sigmoid_derivative(self, y):\n",
    "        return y * (1 - y)\n",
    "```\n",
    "其具体的含义看图："
   ]
  },
  {
   "cell_type": "code",
   "execution_count": 46,
   "metadata": {
    "collapsed": false
   },
   "outputs": [
    {
     "data": {
      "image/png": "[encoded data removed]",
      "text/plain": [
       "<matplotlib.figure.Figure at 0x116a6b438>"
      ]
     },
     "metadata": {
      "image/png": {
       "height": 250,
       "width": 373
      }
     },
     "output_type": "display_data"
    }
   ],
   "source": [
    "def sigmoid_derivative(x):\n",
    "    y = 1/(1+np.exp(-x))\n",
    "    return y * (1-y)\n",
    "\n",
    "def derivative(point):\n",
    "    dx = np.arange(-0.5,0.5,0.1)\n",
    "    slope = sigmoid_derivative(point)\n",
    "    return [point+dx,slope * dx + 1/(1+np.exp(-point))]\n",
    "\n",
    "x = np.arange(-6., 6., 0.1)\n",
    "\n",
    "sig = sigmoid(x)\n",
    "point1 = 2\n",
    "slope1 = sigmoid_derivative(point1)\n",
    "plt.plot(x,sig)\n",
    "x1,y1 = derivative(point1)\n",
    "plt.plot(x1,y1,linewidth=5)\n",
    "x2,y2 = derivative(0)\n",
    "plt.plot(x2,y2,linewidth=5)\n",
    "x3,y3 = derivative(-4)\n",
    "plt.plot(x3,y3,linewidth=5)\n",
    "plt.grid()\n",
    "plt.show()"
   ]
  },
  {
   "cell_type": "markdown",
   "metadata": {},
   "source": [
    "现在我们来根据图解释下实际的含义：\n",
    "1. 首先输出是0到1之间的值，我们可以将其认为是一个可信度，0不可信，1完全可信\n",
    "2. 当输入是0的时候，输出是0.5，什么意思呢？意思是输出模棱两可\n",
    "\n",
    "基于以上两点，我们来看下上面函数的中的一个计算过程：\n",
    "```\n",
    "adjustment = dot(training_set_inputs.T, error * self.__sigmoid_derivative(output))\n",
    "```\n",
    "这个调整值的含义我们就知道了，当输出接近0和1时候，我们已经预测的挺准了，此时调整就基本接近于0了\n",
    "而当输出为0.5左右的时候，说明预测完全是瞎猜，我们就需要快速调整，因此此时的导数也是最大的，即上图的绿色曲线，其斜度也是最大的\n",
    "\n",
    "基于上面的一个讨论，我们还可以有下面的一个结论:\n",
    "1. 当输入是1，输出是0，我们需要不断减小 weight 的值，这样子输出才会是很小，sigmoid输出才会是0\n",
    "2. 当输入是1，输出是1，我们需要不断增大 weight 的值，这样子输出才会是很大，sigmoid输出才会是1\n",
    "\n",
    "这时候我们再来看下最初的数据，\n",
    "\n",
    "|输入1 | 输入2 | 输入3 | 输出 | \n",
    "|---|---|---|---|\n",
    "|0 | 0 | 1 | 0 | \n",
    "|1 | 1 | 1 | 1 | \n",
    "|1 | 0 | 1 | 1 | \n",
    "|0 | 1 | 1 | 0 | \n",
    "\n",
    "我们可以断定输入1的weight值会变大，而输入2，3的weight值会变小。\n",
    "根据之前训练出来的结果也支持了我们的推断：\n",
    "```\n",
    "Random starting synaptic weights: \n",
    "[[-0.16595599]\n",
    " [ 0.44064899]\n",
    " [-0.99977125]]\n",
    "New synaptic weights after training: \n",
    "[[ 9.67299303]\n",
    " [-0.2078435 ]\n",
    " [-4.62963669]]\n",
    "```"
   ]
  },
  {
   "cell_type": "markdown",
   "metadata": {},
   "source": [
    "## 2. 扩展\n",
    "我们来将上面的问题稍微复杂下，假设我们的输入如下：\n",
    "\n",
    "|输入1 | 输入2 | 输入3 | 输出 | \n",
    "|---|---|---|---|\n",
    "|0 | 0 | 1 | 0 | \n",
    "|0【此处改变】 | 1 | 1 | 1 | \n",
    "|1 | 0 | 1 | 1 | \n",
    "|1【此处改变】 | 1 | 1 | 0 | "
   ]
  },
  {
   "cell_type": "markdown",
   "metadata": {},
   "source": [
    "此处我们只是改变一个值，此时我们再次训练呢？\n",
    "我们观察上面的数据，好像很难再像最初一样直接观察出 **输出1 == 输出** 的这种简单的关系了，我们要稍微深入的观察下了\n",
    "\n",
    "* 首先输入3都是1，看起来对输出没什么影响\n",
    "* 接着观察输入1和输入2，似乎只要两者不同，输出就是1\n",
    "\n",
    "基于上面的观察，我们似乎找不到像**输出1 == 输出**这种 *one-to-one* 的关系了，我们有什么办法呢？\n",
    "这个时候，就需要引入 hidden layer，如下表格：\n",
    "\n",
    "\n",
    "|输入1 | 输入2 | 输入3 | w1 | w2 | w3 | 中间输出 | \n",
    "|---|---|---|---|---|---|---|\n",
    "|0 | 0 | 1 | 0.1|0.2|0|0 | \n",
    "|0 | 1 | 1 | 0.2|0.6|0.4|1 | \n",
    "|1 | 0 | 1 |0.3 |0.2|0.7|1 | \n",
    "|1 | 1 | 1 | 0.1|0.5|-0.6|0 |\n",
    "\n",
    "此时我们得到中的中间输入和最后输出就还是原来的一个 **输出1 == 输出** 关系了。\n",
    "上面介绍的这种方法就是深度学习的最简单的形式\n",
    "\n",
    "深度学习就是通过增加层次，不断去放大输入和输出之间的关系，到最后，我们可以从复杂的初看起来毫不相干的数据中，找到一个能一眼就看出来的关系\n",
    "\n",
    "此处我们还是用之前的网络来训练"
   ]
  },
  {
   "cell_type": "code",
   "execution_count": 116,
   "metadata": {
    "collapsed": false
   },
   "outputs": [
    {
     "name": "stdout",
     "output_type": "stream",
     "text": [
      "Random starting synaptic weights: \n",
      "[[-0.16595599]\n",
      " [ 0.44064899]\n",
      " [-0.99977125]]\n",
      "New synaptic weights after training: \n",
      "[[  2.08166817e-16]\n",
      " [  2.22044605e-16]\n",
      " [ -3.05311332e-16]]\n",
      "Training loss: 0.25\n",
      "Considering new situation [1, 0, 0] -> ?: \n",
      "[ 0.5]\n",
      "Debug...\n",
      "[[ 0.5]\n",
      " [ 0.5]\n",
      " [ 0.5]\n",
      " [ 0.5]]\n",
      "[[-0.125]\n",
      " [ 0.125]\n",
      " [ 0.125]\n",
      " [-0.125]]\n",
      "[[0 0 1 1]\n",
      " [0 1 0 1]\n",
      " [1 1 1 1]]\n"
     ]
    }
   ],
   "source": [
    "#Intialise a single neuron neural network.\n",
    "neural_network = NeuralNetwork()\n",
    "\n",
    "print(\"Random starting synaptic weights: \")\n",
    "print(neural_network.synaptic_weights)\n",
    "\n",
    "# The training set. We have 4 examples, each consisting of 3 input values\n",
    "# and 1 output value.\n",
    "training_set_inputs = array([[0, 0, 1], [0, 1, 1], [1, 0, 1], [1, 1, 1]])\n",
    "training_set_outputs = array([[0, 1, 1, 0]]).T\n",
    "\n",
    "# Train the neural network using a training set.\n",
    "# Do it 10,000 times and make small adjustments each time.\n",
    "neural_network.train(training_set_inputs, training_set_outputs, 10000)\n",
    "\n",
    "print(\"New synaptic weights after training: \")\n",
    "print(neural_network.synaptic_weights)\n",
    "\n",
    "train_loss = MSE(neural_network.think(training_set_inputs), training_set_outputs)\n",
    "print(\"Training loss: \" + str(train_loss)[:5])\n",
    "# Test the neural network with a new situation.\n",
    "print(\"Considering new situation [1, 0, 0] -> ?: \")\n",
    "print(neural_network.think(array([1, 0, 0])))\n",
    "\n",
    "print(\"Debug...\")\n",
    "output = neural_network.think(training_set_inputs)\n",
    "print(output)\n",
    "# print(dot(training_set_inputs, neural_network.synaptic_weights))\n",
    "\n",
    "error = training_set_outputs - output\n",
    "# print(error) error 是0.5\n",
    "print(error * neural_network.sigmoid_derivative(output))\n",
    "print(training_set_inputs.T)\n",
    "adjustment = dot(training_set_inputs.T, error * neural_network.sigmoid_derivative(output))\n",
    "# print(adjustment)"
   ]
  },
  {
   "cell_type": "markdown",
   "metadata": {},
   "source": [
    "此处我们训练可以发现，此处的误差基本就是0.25，然后预测基本不可信。0.5什么鬼！\n",
    "由数据可以看到此处的weight都已经非常非常小了,然后斜率是0.5，\n",
    "由上面打印出来的数据，已经达到平衡，adjustment都是0了，不会再次调整了。\n",
    "由此可以看出，简单的一层网络已经不能再精准的预测了，只能增加复杂度了。\n",
    "下面我们来加一层再来看下："
   ]
  },
  {
   "cell_type": "code",
   "execution_count": 100,
   "metadata": {
    "collapsed": false
   },
   "outputs": [],
   "source": [
    "class TwoLayerNeuralNetwork(object):\n",
    "    def __init__(self, input_nodes, hidden_nodes, output_nodes, learning_rate):\n",
    "        # Set number of nodes in input, hidden and output layers.\n",
    "        self.input_nodes = input_nodes\n",
    "        self.hidden_nodes = hidden_nodes\n",
    "        self.output_nodes = output_nodes\n",
    "\n",
    "        np.random.seed(1)\n",
    "        # Initialize weights\n",
    "        self.weights_0_1 = np.random.normal(0.0, self.hidden_nodes**-0.5, \n",
    "                                       (self.input_nodes, self.hidden_nodes)) # n * 2\n",
    "\n",
    "        self.weights_1_2 = np.random.normal(0.0, self.output_nodes**-0.5, \n",
    "                                       (self.hidden_nodes, self.output_nodes)) # 2 * 1\n",
    "        self.lr = learning_rate\n",
    "        \n",
    "        #### Set this to your implemented sigmoid function ####\n",
    "        # Activation function is the sigmoid function\n",
    "        self.activation_function = self.__sigmoid\n",
    "    \n",
    "    def __sigmoid(self, x):\n",
    "        return 1 / (1 + np.exp(-x))\n",
    "    \n",
    "    def __sigmoid_derivative(self, x):\n",
    "        return x * (1 - x)\n",
    "    \n",
    "    def train(self, inputs_list, targets_list):\n",
    "        # Convert inputs list to 2d array\n",
    "        inputs = np.array(inputs_list,ndmin=2) # 1 * n\n",
    "        layer_0 = inputs\n",
    "        targets = np.array(targets_list,ndmin=2) # 1 * 1\n",
    "\n",
    "        \n",
    "        #### Implement the forward pass here ####\n",
    "        ### Forward pass ###\n",
    "        layer_1 = self.activation_function(layer_0.dot(self.weights_0_1)) # 1 * 2\n",
    "        layer_2 = self.activation_function(layer_1.dot(self.weights_1_2)) # 1 * 1\n",
    "        #### Implement the backward pass here ####\n",
    "        ### Backward pass ###\n",
    "        \n",
    "        # TODO: Output error\n",
    "        layer_2_error = targets - layer_2\n",
    "        layer_2_delta = layer_2_error * self.__sigmoid_derivative(layer_2)# y = x so f'(h) = 1\n",
    "        \n",
    "        layer_1_error = layer_2_delta.dot(self.weights_1_2.T)\n",
    "        layer_1_delta = layer_1_error * self.__sigmoid_derivative(layer_1)\n",
    "        \n",
    "        # TODO: Update the weights\n",
    "        self.weights_1_2 += self.lr * layer_1.T.dot(layer_2_delta) # update hidden-to-output weights with gradient descent step\n",
    "        self.weights_0_1 += self.lr * layer_0.T.dot(layer_1_delta)  # update input-to-hidden weights with gradient descent step\n",
    " \n",
    "        \n",
    "    def run(self, inputs_list):\n",
    "        # Run a forward pass through the network\n",
    "        inputs = np.array(inputs_list,ndmin=2)\n",
    "        \n",
    "        #### Implement the forward pass here ####\n",
    "        layer_1 = self.activation_function(inputs.dot(self.weights_0_1)) # 1 * 2\n",
    "        layer_2 = self.activation_function(layer_1.dot(self.weights_1_2)) # 1 * 1\n",
    "        \n",
    "        return layer_2\n",
    "def MSE(y, Y):\n",
    "    return np.mean((y-Y)**2)    "
   ]
  },
  {
   "cell_type": "code",
   "execution_count": 103,
   "metadata": {
    "collapsed": false
   },
   "outputs": [
    {
     "name": "stdout",
     "output_type": "stream",
     "text": [
      "Progress: 99.9% ... Training loss: 0.00078 \n",
      "After train,layer_0_1: \n",
      "[[ 4.4375838  -3.87815184  1.74047905 -5.12726884]\n",
      " [ 4.43114847 -3.87644617  1.71905492 -5.10688387]\n",
      " [-6.80858063  0.76685389  1.89614363  1.61202043]]\n",
      "After train,layer_1_2: \n",
      "[[-9.21973137]\n",
      " [-3.84985864]\n",
      " [ 4.75257888]\n",
      " [-6.36994226]]\n",
      "Considering new situation [1, 0, 0] -> ?: \n",
      "[[ 0.00557239]]\n"
     ]
    }
   ],
   "source": [
    "# import sys\n",
    "\n",
    "training_set_inputs = array([[0, 0, 1], [0, 1, 1], [1, 0, 1], [1, 1, 1]])\n",
    "training_set_outputs = array([[0, 1, 1, 0]]).T\n",
    "\n",
    "### Set the hyperparameters here ###\n",
    "epochs = 20000\n",
    "learning_rate = 0.1\n",
    "hidden_nodes = 4\n",
    "output_nodes = 1\n",
    "\n",
    "N_i = 3\n",
    "network = TwoLayerNeuralNetwork(N_i, hidden_nodes, output_nodes, learning_rate)\n",
    "\n",
    "losses = {'train':[]}\n",
    "for e in range(epochs):\n",
    "    # Go through a random batch of 128 records from the training data set\n",
    "    for record, target in zip(training_set_inputs, \n",
    "                              training_set_outputs):\n",
    "#         print(target)\n",
    "        network.train(record, target)\n",
    "    \n",
    "    train_loss = MSE(network.run(training_set_inputs), training_set_outputs)\n",
    "    sys.stdout.write(\"\\rProgress: \" + str(100 * e/float(epochs))[:4] \\\n",
    "                     + \"% ... Training loss: \" + str(train_loss)[:7])\n",
    "    \n",
    "    losses['train'].append(train_loss)\n",
    "    \n",
    "print(\" \")    \n",
    "print(\"After train,layer_0_1: \")\n",
    "print(network.weights_0_1)\n",
    "print(\"After train,layer_1_2: \")\n",
    "print(network.weights_1_2)\n",
    "# Test the neural network with a new situation.\n",
    "print(\"Considering new situation [1, 0, 0] -> ?: \")\n",
    "print(network.run(array([1, 0, 0])))"
   ]
  },
  {
   "cell_type": "code",
   "execution_count": 98,
   "metadata": {
    "collapsed": false
   },
   "outputs": [
    {
     "name": "stdout",
     "output_type": "stream",
     "text": [
      "[[  2.20482250e-01   9.33639853e-01   6.30402293e-01   6.24775766e-02]\n",
      " [  1.77659862e-02   9.99702482e-01   8.64290928e-01   9.26611880e-01]\n",
      " [  6.94975743e-01   8.90040645e-02   8.51261229e-01   2.06917379e-04]\n",
      " [  1.27171786e-01   9.58904341e-01   9.55296949e-01   3.77322214e-02]]\n",
      "[[ 0.02374213]\n",
      " [ 0.97285992]\n",
      " [ 0.97468116]\n",
      " [ 0.02714965]]\n"
     ]
    }
   ],
   "source": [
    "layer_1=network.activation_function(training_set_inputs.dot(network.weights_0_1))\n",
    "print(layer_1)\n",
    "layer_2 = network.activation_function(layer_1.dot(network.weights_1_2))\n",
    "print(layer_2)"
   ]
  },
  {
   "cell_type": "markdown",
   "metadata": {},
   "source": [
    "以上内容参考了：[A Neural Network in 11 lines of Python (Part 1)](http://iamtrask.github.io/2015/07/12/basic-python-network/)\n",
    "\n",
    "参考代码：https://github.com/llSourcell/Make_a_neural_network\n",
    "\n",
    "参考视频：https://www.youtube.com/watch?v=p69khggr1Jo"
   ]
  }
 ],
 "metadata": {
  "kernelspec": {
   "display_name": "Python 3",
   "language": "python",
   "name": "python3"
  },
  "language_info": {
   "codemirror_mode": {
    "name": "ipython",
    "version": 3
   },
   "file_extension": ".py",
   "mimetype": "text/x-python",
   "name": "python",
   "nbconvert_exporter": "python",
   "pygments_lexer": "ipython3",
   "version": "3.6.0"
  }
 },
 "nbformat": 4,
 "nbformat_minor": 2
}
